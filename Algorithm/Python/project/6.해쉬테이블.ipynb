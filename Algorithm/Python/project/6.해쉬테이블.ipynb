{
 "cells": [
  {
   "attachments": {},
   "cell_type": "markdown",
   "metadata": {},
   "source": [
    "1. List comprehension을 사용해서 1~100까지 숫자 출력하기\n",
    "2. List comprehension을 사용해서 1~100까지 숫자 중 3으로 나누어 떨어지는 수만 출력\n",
    "3. List comprehension을 사용해서 1~100까지 숫자 중 3 또는 7로 나누어 떨어지는 수만 출력"
   ]
  },
  {
   "cell_type": "code",
   "execution_count": 9,
   "metadata": {},
   "outputs": [
    {
     "name": "stdout",
     "output_type": "stream",
     "text": [
      "[21]\n"
     ]
    }
   ],
   "source": [
    "list_to_hundred = [num for num in range(1, 30) if ((num % 3) | (num % 7)) == 0]\n",
    "print(list_to_hundred)"
   ]
  },
  {
   "attachments": {},
   "cell_type": "markdown",
   "metadata": {},
   "source": [
    "초간단 해쉬 함수 만들기"
   ]
  },
  {
   "cell_type": "code",
   "execution_count": null,
   "metadata": {},
   "outputs": [],
   "source": [
    "def hash_func(key): \n",
    "  return key % 5"
   ]
  },
  {
   "attachments": {},
   "cell_type": "markdown",
   "metadata": {},
   "source": [
    "해쉬테이블 생성 연습"
   ]
  },
  {
   "cell_type": "code",
   "execution_count": 20,
   "metadata": {},
   "outputs": [],
   "source": [
    "# 해쉬테이블 생성\n",
    "hash_table = list([0 for i in range(8)])\n",
    "\n",
    "# hash value 생성\n",
    "def get_key(data):\n",
    "    return hash(data)\n",
    "\n",
    "# hash address를 생성핧 hash function을 만듬\n",
    "def hash_function(key):\n",
    "    return key % 8\n",
    "\n",
    "# 생성된 hash value를 hash function을 이용하여 hash adddress를 생성\n",
    "def save_data(data, value):\n",
    "    key = get_key(data)\n",
    "    print(key)\n",
    "    hash_address = hash_function(key)\n",
    "    hash_table[hash_address] = value\n",
    "\n",
    "# 해쉬 테이블의 데이터를 읽음(key를 파라미터로 받음)\n",
    "def read_data(data):\n",
    "    hash_address = hash_function(get_key(data))\n",
    "    return hash_table[hash_address]"
   ]
  },
  {
   "cell_type": "code",
   "execution_count": 22,
   "metadata": {},
   "outputs": [
    {
     "name": "stdout",
     "output_type": "stream",
     "text": [
      "-6603734345118997148\n",
      "194863811281032554\n",
      "-5686761032851702181\n"
     ]
    }
   ],
   "source": [
    "save_data('Dave', '0102030200')\n",
    "save_data('Andy', '01033232200')\n",
    "save_data('Wendy', '01055229911')\n",
    "# read_data('Dave')"
   ]
  },
  {
   "cell_type": "code",
   "execution_count": 19,
   "metadata": {},
   "outputs": [
    {
     "data": {
      "text/plain": [
       "[0, 0, '01033232200', '01055229911', '0102030200', 0, 0, 0]"
      ]
     },
     "execution_count": 19,
     "metadata": {},
     "output_type": "execute_result"
    }
   ],
   "source": [
    "hash_table"
   ]
  },
  {
   "attachments": {},
   "cell_type": "markdown",
   "metadata": {},
   "source": [
    "충돌 해결 알고리즘\n",
    "- 간혹 해시값이 해시 함수를 거칠때 같은 값으로 나올때가 있다. (해시값은 다르다.)\n",
    "- 이떄 충돌을 피하기 위해 대표적으로 2가지 알고리즘을 사용하는데 체이닝 알고리즘과 리니어 알고리즘이 있다."
   ]
  },
  {
   "cell_type": "code",
   "execution_count": null,
   "metadata": {},
   "outputs": [],
   "source": [
    "# 체이닝 알고리즘\n",
    "\n",
    "hash_table = list([0 for i in range(10)])\n",
    "\n",
    "def get_key(data):                  # 해시값을 얻어온다.\n",
    "    return hash(data)\n",
    "\n",
    "def hash_function(key):             # 해시함수로 해시값을 통과시킨다.\n",
    "    return key % 8\n",
    "\n",
    "def save_data(data, value):\n",
    "    index_key = get_key(data)\n",
    "    hash_address = hash_function(index_key)                         # key로 hash_addreass를 찾는다.\n",
    "    if hash_table[hash_address] != 0:                               # 기존값이 존재한다면 (hash_table[hash_address] != 0)\n",
    "        for index in range(len(hash_table[hash_address])):          # 기존값의 길이만큼 길이를 생성하여 index를 만들어준다.\n",
    "            if hash_table[hash_address][index][0] == index_key:     # 해시값이 이전에도 들어왔던 값이면\n",
    "                hash_table[hash_address][index][1] = value          # 해시값을 찾아 value를 수정해준다.\n",
    "                return\n",
    "        hash_table[hash_address].append([index_key, value])         # 처음 들어오는 해시값이면 해시값, value를 저장해준다.\n",
    "    else:\n",
    "        hash_table[hash_address] = [[index_key, value]]             # 기존값이 존재하지 않는다면 리스트에 해시값과 value를 저장해준다.\n",
    "\n",
    "def read_data(data):\n",
    "    index_key = get_key(data)\n",
    "    hash_address = hash_function(index_key)\n",
    "    if hash_table[hash_address] != 0:\n",
    "        for index in range(len(hash_table[hash_address])):\n",
    "            if hash_table[hash_address][index][0] == index_key:\n",
    "                return hash_table[hash_address][index][1]\n",
    "        return None\n",
    "    else:\n",
    "        return None"
   ]
  },
  {
   "cell_type": "code",
   "execution_count": null,
   "metadata": {},
   "outputs": [],
   "source": []
  }
 ],
 "metadata": {
  "kernelspec": {
   "display_name": "Python 3",
   "language": "python",
   "name": "python3"
  },
  "language_info": {
   "codemirror_mode": {
    "name": "ipython",
    "version": 3
   },
   "file_extension": ".py",
   "mimetype": "text/x-python",
   "name": "python",
   "nbconvert_exporter": "python",
   "pygments_lexer": "ipython3",
   "version": "3.11.3"
  },
  "orig_nbformat": 4
 },
 "nbformat": 4,
 "nbformat_minor": 2
}
