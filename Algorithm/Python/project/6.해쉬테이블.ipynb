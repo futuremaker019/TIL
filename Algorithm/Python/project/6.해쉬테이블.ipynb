{
 "cells": [
  {
   "attachments": {},
   "cell_type": "markdown",
   "metadata": {},
   "source": [
    "1. List comprehension을 사용해서 1~100까지 숫자 출력하기\n",
    "2. List comprehension을 사용해서 1~100까지 숫자 중 3으로 나누어 떨어지는 수만 출력\n",
    "3. List comprehension을 사용해서 1~100까지 숫자 중 3 또는 7로 나누어 떨어지는 수만 출력"
   ]
  },
  {
   "cell_type": "code",
   "execution_count": 9,
   "metadata": {},
   "outputs": [
    {
     "name": "stdout",
     "output_type": "stream",
     "text": [
      "[21]\n"
     ]
    }
   ],
   "source": [
    "list_to_hundred = [num for num in range(1, 30) if ((num % 3) | (num % 7)) == 0]\n",
    "print(list_to_hundred)"
   ]
  },
  {
   "attachments": {},
   "cell_type": "markdown",
   "metadata": {},
   "source": [
    "초간단 해쉬 함수 만들기"
   ]
  },
  {
   "cell_type": "code",
   "execution_count": null,
   "metadata": {},
   "outputs": [],
   "source": [
    "def hash_func(key): \n",
    "  return key % 5"
   ]
  }
 ],
 "metadata": {
  "kernelspec": {
   "display_name": "Python 3",
   "language": "python",
   "name": "python3"
  },
  "language_info": {
   "codemirror_mode": {
    "name": "ipython",
    "version": 3
   },
   "file_extension": ".py",
   "mimetype": "text/x-python",
   "name": "python",
   "nbconvert_exporter": "python",
   "pygments_lexer": "ipython3",
   "version": "3.9.1"
  },
  "orig_nbformat": 4
 },
 "nbformat": 4,
 "nbformat_minor": 2
}
