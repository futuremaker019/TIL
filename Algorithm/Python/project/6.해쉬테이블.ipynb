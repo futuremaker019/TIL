{
 "cells": [
  {
   "attachments": {},
   "cell_type": "markdown",
   "metadata": {},
   "source": [
    "1. List comprehension을 사용해서 1~100까지 숫자 출력하기\n",
    "2. List comprehension을 사용해서 1~100까지 숫자 중 3으로 나누어 떨어지는 수만 출력\n",
    "3. List comprehension을 사용해서 1~100까지 숫자 중 3 또는 7로 나누어 떨어지는 수만 출력"
   ]
  },
  {
   "cell_type": "code",
   "execution_count": 9,
   "metadata": {},
   "outputs": [
    {
     "name": "stdout",
     "output_type": "stream",
     "text": [
      "[21]\n"
     ]
    }
   ],
   "source": [
    "list_to_hundred = [num for num in range(1, 30) if ((num % 3) | (num % 7)) == 0]\n",
    "print(list_to_hundred)"
   ]
  },
  {
   "attachments": {},
   "cell_type": "markdown",
   "metadata": {},
   "source": [
    "초간단 해쉬 함수 만들기"
   ]
  },
  {
   "cell_type": "code",
   "execution_count": null,
   "metadata": {},
   "outputs": [],
   "source": [
    "def hash_func(key): \n",
    "  return key % 5"
   ]
  },
  {
   "attachments": {},
   "cell_type": "markdown",
   "metadata": {},
   "source": [
    "해쉬테이블 생성 연습"
   ]
  },
  {
   "cell_type": "code",
   "execution_count": 2,
   "metadata": {},
   "outputs": [],
   "source": [
    "# 해쉬테이블 생성\n",
    "hash_table = list([0 for i in range(0)])\n",
    "\n",
    "# hash value 생성\n",
    "def get_key(data):\n",
    "    return hash(data)\n",
    "\n",
    "# hash address를 생성핧 hash function을 만듬\n",
    "def hash_function(key):\n",
    "    return key % 8\n",
    "\n",
    "# 생성된 hash value를 hash function을 이용하여 hash adddress를 생성\n",
    "def save_data(data, value):\n",
    "    hash_address = hash_function(get_key(data))\n",
    "    hash_table[hash_address] = value\n",
    "\n",
    "# 해쉬 테이블의 데이터를 읽음(key를 파라미터로 받음)\n",
    "def read_data(data):\n",
    "    hash_address = hash_function(get_key(data))\n",
    "    return hash_table[hash_address]"
   ]
  },
  {
   "cell_type": "code",
   "execution_count": 3,
   "metadata": {},
   "outputs": [
    {
     "name": "stdout",
     "output_type": "stream",
     "text": [
      "-5555376175026790677\n"
     ]
    }
   ],
   "source": [
    "print(get_key(\"dave\"))"
   ]
  },
  {
   "cell_type": "code",
   "execution_count": null,
   "metadata": {},
   "outputs": [],
   "source": [
    "충돌 해결 알고리즘"
   ]
  }
 ],
 "metadata": {
  "kernelspec": {
   "display_name": "Python 3",
   "language": "python",
   "name": "python3"
  },
  "language_info": {
   "codemirror_mode": {
    "name": "ipython",
    "version": 3
   },
   "file_extension": ".py",
   "mimetype": "text/x-python",
   "name": "python",
   "nbconvert_exporter": "python",
   "pygments_lexer": "ipython3",
   "version": "3.11.3"
  },
  "orig_nbformat": 4
 },
 "nbformat": 4,
 "nbformat_minor": 2
}
