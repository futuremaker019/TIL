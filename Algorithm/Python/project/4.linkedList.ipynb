{
 "cells": [
  {
   "cell_type": "code",
   "execution_count": null,
   "metadata": {},
   "outputs": [],
   "source": [
    "class Node:\n",
    "  def __init__(self, data, next = None):\n",
    "    self.data = data\n",
    "    self.next = next\n",
    "\n",
    "def add(data) :\n",
    "  node = head\n",
    "  while node.next:\n",
    "    node = node.next        # 해당 노드의 next가 존재한다면 다음 노드 node.next를 node 변수에 저장시켜준다.\n",
    "  node.next = Node(data)    # 마지막에 찾은 노드의 next에 새로 들어오는 node를 저장시킨다.\n",
    "  \n",
    "node1 = Node(1)\n",
    "head = node1\n",
    "for index in range(1, 10):\n",
    "  add(index)"
   ]
  }
 ],
 "metadata": {
  "language_info": {
   "name": "python"
  },
  "orig_nbformat": 4
 },
 "nbformat": 4,
 "nbformat_minor": 2
}
