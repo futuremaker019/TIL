{
 "cells": [
  {
   "cell_type": "code",
   "execution_count": 1,
   "metadata": {},
   "outputs": [],
   "source": [
    "class Node:\n",
    "  def __init__(self, data, next = None):\n",
    "    self.data = data\n",
    "    self.next = next\n",
    "\n",
    "def add(data) :\n",
    "  node = head\n",
    "  while node.next:\n",
    "    node = node.next        # 해당 노드의 next가 존재한다면 다음 노드 node.next를 node 변수에 저장시켜준다.\n",
    "  node.next = Node(data)    # 마지막에 찾은 노드의 next에 새로 들어오는 node를 저장시킨다.\n"
   ]
  },
  {
   "cell_type": "code",
   "execution_count": 16,
   "metadata": {},
   "outputs": [],
   "source": [
    "node1 = Node(1)\n",
    "head = node1\n",
    "for index in range(2, 10):\n",
    "  add(index)"
   ]
  },
  {
   "cell_type": "code",
   "execution_count": 17,
   "metadata": {},
   "outputs": [
    {
     "name": "stdout",
     "output_type": "stream",
     "text": [
      "1\n",
      "2\n",
      "3\n",
      "4\n",
      "5\n",
      "6\n",
      "7\n",
      "8\n",
      "9\n"
     ]
    }
   ],
   "source": [
    "node = head\n",
    "while node.next:\n",
    "  print(node.data)\n",
    "  node = node.next\n",
    "print(node.data)"
   ]
  },
  {
   "cell_type": "code",
   "execution_count": 15,
   "metadata": {},
   "outputs": [
    {
     "name": "stdout",
     "output_type": "stream",
     "text": [
      "1\n",
      "2\n",
      "3\n",
      "4\n",
      "5\n",
      "6\n",
      "7\n",
      "8\n",
      "9\n"
     ]
    }
   ],
   "source": [
    "for i in range(1, 10):\n",
    "  print(i)"
   ]
  },
  {
   "cell_type": "code",
   "execution_count": 18,
   "metadata": {},
   "outputs": [],
   "source": [
    "node3 = Node(1.5)"
   ]
  },
  {
   "cell_type": "code",
   "execution_count": 19,
   "metadata": {},
   "outputs": [],
   "source": [
    "node = head\n",
    "search = True\n",
    "while search:\n",
    "  if node.data == 1:\n",
    "    search = False\n",
    "  else:\n",
    "    node = node.next    # node.data기 1인 node를 찾을때까지 돌아준다.\n",
    "    \n",
    "tempNode = node.next\n",
    "node.next = node3\n",
    "node3.next = tempNode"
   ]
  },
  {
   "cell_type": "code",
   "execution_count": 20,
   "metadata": {},
   "outputs": [
    {
     "name": "stdout",
     "output_type": "stream",
     "text": [
      "1\n",
      "1.5\n",
      "2\n",
      "3\n",
      "4\n",
      "5\n",
      "6\n",
      "7\n",
      "8\n",
      "9\n"
     ]
    }
   ],
   "source": [
    "node = head\n",
    "while node.next:\n",
    "  print(node.data)\n",
    "  node = node.next\n",
    "print(node.data)"
   ]
  },
  {
   "cell_type": "code",
   "execution_count": null,
   "metadata": {},
   "outputs": [],
   "source": [
    "class Node:\n",
    "  def __init__(self, data, next = None)\n",
    "    self.data = data\n",
    "    self.next = next\n",
    "    \n",
    "class NodeMgmt:\n",
    "  def __init__(self, data):\n",
    "    self.head = Node(data)\n",
    "  \n",
    "  def add(self, data):\n",
    "    if self.head == '':\n",
    "      self.head = Node(data)\n",
    "    else:\n",
    "      node = self.head\n",
    "      while node.next:\n",
    "        node = node.next\n",
    "      node.next = Node(data)\n",
    "  \n",
    "  def desc(self):\n",
    "    node = self.head\n",
    "    while node:\n",
    "      print(node.data)\n",
    "      node = node.next"
   ]
  },
  {
   "cell_type": "code",
   "execution_count": null,
   "metadata": {},
   "outputs": [],
   "source": []
  }
 ],
 "metadata": {
  "kernelspec": {
   "display_name": "Python 3",
   "language": "python",
   "name": "python3"
  },
  "language_info": {
   "codemirror_mode": {
    "name": "ipython",
    "version": 3
   },
   "file_extension": ".py",
   "mimetype": "text/x-python",
   "name": "python",
   "nbconvert_exporter": "python",
   "pygments_lexer": "ipython3",
   "version": "3.9.1"
  },
  "orig_nbformat": 4
 },
 "nbformat": 4,
 "nbformat_minor": 2
}
