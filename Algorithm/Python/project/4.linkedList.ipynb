{
 "cells": [
  {
   "cell_type": "code",
   "execution_count": 1,
   "metadata": {},
   "outputs": [],
   "source": [
    "class Node:\n",
    "  def __init__(self, data, next = None):\n",
    "    self.data = data\n",
    "    self.next = next\n",
    "\n",
    "def add(data) :\n",
    "  node = head\n",
    "  while node.next:\n",
    "    node = node.next        # 해당 노드의 next가 존재한다면 다음 노드 node.next를 node 변수에 저장시켜준다.\n",
    "  node.next = Node(data)    # 마지막에 찾은 노드의 next에 새로 들어오는 node를 저장시킨다.\n"
   ]
  },
  {
   "cell_type": "code",
   "execution_count": 16,
   "metadata": {},
   "outputs": [],
   "source": [
    "node1 = Node(1)\n",
    "head = node1\n",
    "for index in range(2, 10):\n",
    "  add(index)"
   ]
  },
  {
   "cell_type": "code",
   "execution_count": 17,
   "metadata": {},
   "outputs": [
    {
     "name": "stdout",
     "output_type": "stream",
     "text": [
      "1\n",
      "2\n",
      "3\n",
      "4\n",
      "5\n",
      "6\n",
      "7\n",
      "8\n",
      "9\n"
     ]
    }
   ],
   "source": [
    "node = head\n",
    "while node.next:\n",
    "  print(node.data)\n",
    "  node = node.next\n",
    "print(node.data)"
   ]
  },
  {
   "cell_type": "code",
   "execution_count": 15,
   "metadata": {},
   "outputs": [
    {
     "name": "stdout",
     "output_type": "stream",
     "text": [
      "1\n",
      "2\n",
      "3\n",
      "4\n",
      "5\n",
      "6\n",
      "7\n",
      "8\n",
      "9\n"
     ]
    }
   ],
   "source": [
    "for i in range(1, 10):\n",
    "  print(i)"
   ]
  },
  {
   "cell_type": "code",
   "execution_count": 18,
   "metadata": {},
   "outputs": [],
   "source": [
    "node3 = Node(1.5)"
   ]
  },
  {
   "cell_type": "code",
   "execution_count": 19,
   "metadata": {},
   "outputs": [],
   "source": [
    "node = head\n",
    "search = True\n",
    "while search:\n",
    "  if node.data == 1:\n",
    "    search = False\n",
    "  else:\n",
    "    node = node.next    # node.data기 1인 node를 찾을때까지 돌아준다.\n",
    "    \n",
    "tempNode = node.next\n",
    "node.next = node3\n",
    "node3.next = tempNode"
   ]
  },
  {
   "cell_type": "code",
   "execution_count": 20,
   "metadata": {},
   "outputs": [
    {
     "name": "stdout",
     "output_type": "stream",
     "text": [
      "1\n",
      "1.5\n",
      "2\n",
      "3\n",
      "4\n",
      "5\n",
      "6\n",
      "7\n",
      "8\n",
      "9\n"
     ]
    }
   ],
   "source": [
    "node = head\n",
    "while node.next:\n",
    "  print(node.data)\n",
    "  node = node.next\n",
    "print(node.data)"
   ]
  },
  {
   "cell_type": "code",
   "execution_count": 3,
   "metadata": {},
   "outputs": [],
   "source": [
    "# Node를 관리하는 클래스를 만들어 관리할 수 있도록 수정\n",
    "class Node:\n",
    "  def __init__(self, data, next = None):\n",
    "    self.data = data\n",
    "    self.next = next\n",
    "    \n",
    "class NodeMgmt:\n",
    "  def __init__(self, data):\n",
    "    self.head = Node(data)      # Node의 헤드를 설정해준다.\n",
    "  \n",
    "  def add(self, data):\n",
    "    if self.head == '':         # head에 아무것도 없다면 (생성자에서 생성하지만 혹시 없다면)\n",
    "      self.head = Node(data)\n",
    "    else:\n",
    "      node = self.head          # 초기값으로 head를 node에 넣어준다.\n",
    "      while node.next:          # node를 순회하며 마지막 노드를 찾는다.\n",
    "        node = node.next\n",
    "      node.next = Node(data)    # 마지막 노드에 파리미터로 받아온 데이터를 가진 노드를 추가한다.\n",
    "  \n",
    "  def asc(self):                # 모든 노드를 순회하며 print 한다. \n",
    "    node = self.head\n",
    "    while node:\n",
    "      print(node.data)\n",
    "      node = node.next\n",
    "  \n",
    "  def delete(self, data):\n",
    "    if self.head == '':\n",
    "      print(\"해당 값을 가진 노드가 없습니다.\")\n",
    "      return\n",
    "    \n",
    "    # 지우려는 데이터가 head에 존재하면 \n",
    "    # head의 next 노드를 head로 옮기고 head를 지운다.\n",
    "    if self.head.data == data:        \n",
    "      temp = self.head\n",
    "      self.head = self.head.next\n",
    "      del temp\n",
    "    \n",
    "    else:\n",
    "      node = self.head\n",
    "      while node.next:\n",
    "        if node.next.data == data:\n",
    "          temp = node.next\n",
    "          node.next = node.next.next\n",
    "          del temp\n",
    "          return\n",
    "        else:\n",
    "          node = node.next"
   ]
  },
  {
   "cell_type": "code",
   "execution_count": 3,
   "metadata": {},
   "outputs": [
    {
     "name": "stdout",
     "output_type": "stream",
     "text": [
      "0\n"
     ]
    }
   ],
   "source": [
    "linkedList = NodeMgmt(0)\n",
    "linkedList.asc()"
   ]
  },
  {
   "cell_type": "code",
   "execution_count": 8,
   "metadata": {},
   "outputs": [
    {
     "name": "stdout",
     "output_type": "stream",
     "text": [
      "0\n",
      "1\n",
      "2\n",
      "3\n",
      "4\n",
      "5\n",
      "6\n",
      "7\n",
      "8\n",
      "9\n",
      "1\n",
      "2\n",
      "3\n",
      "4\n",
      "5\n",
      "6\n",
      "7\n",
      "8\n",
      "9\n"
     ]
    }
   ],
   "source": [
    "for data in range(1, 10):\n",
    "  linkedList.add(data)\n",
    "\n",
    "linkedList.asc()"
   ]
  },
  {
   "cell_type": "code",
   "execution_count": 4,
   "metadata": {},
   "outputs": [
    {
     "name": "stdout",
     "output_type": "stream",
     "text": [
      "0\n"
     ]
    }
   ],
   "source": [
    "linkedList = NodeMgmt(0)\n",
    "linkedList.asc()"
   ]
  },
  {
   "cell_type": "code",
   "execution_count": 9,
   "metadata": {},
   "outputs": [
    {
     "name": "stdout",
     "output_type": "stream",
     "text": [
      "0\n",
      "1\n",
      "2\n",
      "3\n",
      "4\n",
      "5\n",
      "6\n",
      "7\n",
      "8\n",
      "9\n",
      "1\n",
      "2\n",
      "3\n",
      "4\n",
      "5\n",
      "6\n",
      "7\n",
      "8\n",
      "9\n",
      "1\n",
      "2\n",
      "3\n",
      "4\n",
      "5\n",
      "6\n",
      "7\n",
      "8\n",
      "9\n"
     ]
    }
   ],
   "source": [
    "for data in range(1, 10):\n",
    "  linkedList.add(data)\n",
    "\n",
    "linkedList.asc()"
   ]
  },
  {
   "cell_type": "code",
   "execution_count": 11,
   "metadata": {},
   "outputs": [
    {
     "name": "stdout",
     "output_type": "stream",
     "text": [
      "0\n",
      "1\n",
      "2\n",
      "3\n",
      "4\n",
      "5\n",
      "6\n",
      "7\n",
      "8\n",
      "9\n",
      "1\n",
      "2\n",
      "3\n",
      "4\n",
      "5\n",
      "6\n",
      "7\n",
      "8\n",
      "9\n",
      "1\n",
      "2\n",
      "3\n",
      "4\n",
      "5\n",
      "6\n",
      "7\n",
      "8\n",
      "9\n"
     ]
    }
   ],
   "source": [
    "linkedList.asc()"
   ]
  }
 ],
 "metadata": {
  "kernelspec": {
   "display_name": "Python 3",
   "language": "python",
   "name": "python3"
  },
  "language_info": {
   "codemirror_mode": {
    "name": "ipython",
    "version": 3
   },
   "file_extension": ".py",
   "mimetype": "text/x-python",
   "name": "python",
   "nbconvert_exporter": "python",
   "pygments_lexer": "ipython3",
   "version": "3.11.3"
  },
  "orig_nbformat": 4
 },
 "nbformat": 4,
 "nbformat_minor": 2
}
