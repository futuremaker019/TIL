{
 "cells": [
  {
   "cell_type": "code",
   "execution_count": null,
   "metadata": {},
   "outputs": [],
   "source": [
    "# +, -, /, *\n",
    "\n",
    "# /(정수끼리 나눌시 실수가 나온다.), //(정수끼리 나눌시 나머지를 뺀 정수가 나온다.)"
   ]
  }
 ],
 "metadata": {
  "language_info": {
   "name": "python"
  },
  "orig_nbformat": 4
 },
 "nbformat": 4,
 "nbformat_minor": 2
}
