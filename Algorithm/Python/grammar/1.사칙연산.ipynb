{
 "cells": [
  {
   "cell_type": "code",
   "execution_count": 1,
   "metadata": {},
   "outputs": [
    {
     "name": "stdout",
     "output_type": "stream",
     "text": [
      "0.6666666666666666\n",
      "0\n",
      "2\n",
      "8\n"
     ]
    }
   ],
   "source": [
    "# +, -, /, *\n",
    "\n",
    "# /(정수끼리 나눌시 실수가 나온다.), //(정수끼리 나눌시 나머지를 뺀 정수가 나온다.)\n",
    "\n",
    "a, b = map(int, input().split())\n",
    "\n",
    "print(a/b)      # 나누기 return 실수\n",
    "print(a//b)     # 나누기 return 정수(몫)\n",
    "print(a%b)      # 나누기 return 정수(나머지)\n",
    "print(a**b)     # 지수 a의 b승"
   ]
  },
  {
   "cell_type": "code",
   "execution_count": 10,
   "metadata": {},
   "outputs": [
    {
     "name": "stdout",
     "output_type": "stream",
     "text": [
      "1.2666666666666666\n",
      "1\n",
      "1.3\n",
      "1.27\n"
     ]
    }
   ],
   "source": [
    "# 소수 반올림\n",
    "n = 19/15  # 1.26666666\n",
    "print(n)\n",
    "print(round(n))     # 1     소수점 첫째자리에서 반올림\n",
    "print(round(n, 1))  # 1.3   \n",
    "print(round(n, 2))  # 1.27\n"
   ]
  }
 ],
 "metadata": {
  "kernelspec": {
   "display_name": "Python 3",
   "language": "python",
   "name": "python3"
  },
  "language_info": {
   "codemirror_mode": {
    "name": "ipython",
    "version": 3
   },
   "file_extension": ".py",
   "mimetype": "text/x-python",
   "name": "python",
   "nbconvert_exporter": "python",
   "pygments_lexer": "ipython3",
   "version": "3.11.3"
  },
  "orig_nbformat": 4
 },
 "nbformat": 4,
 "nbformat_minor": 2
}
