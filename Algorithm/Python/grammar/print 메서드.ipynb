{
 "cells": [
  {
   "cell_type": "code",
   "execution_count": null,
   "metadata": {},
   "outputs": [],
   "source": [
    "# 특수문자 출력\n",
    "print(\"let\\'s do this\")\n",
    "\n",
    "# 줄바꿈 출력\n",
    "print(\"Hello world\\nhello world\")\n",
    "\n",
    "# print 메서드 가운데 공백 출력\n",
    "print(\"hello world\", end=\" \")\n",
    "print(\"hello world\")\n",
    "\n",
    "# 구분자를 추가하여 출력\n",
    "print(1, 2, sep=\" \")\n",
    "print(1, 2, sep=\",\")"
   ]
  }
 ],
 "metadata": {
  "kernelspec": {
   "display_name": "Python 3",
   "language": "python",
   "name": "python3"
  },
  "language_info": {
   "codemirror_mode": {
    "name": "ipython",
    "version": 3
   },
   "file_extension": ".py",
   "mimetype": "text/x-python",
   "name": "python",
   "nbconvert_exporter": "python",
   "pygments_lexer": "ipython3",
   "version": "3.11.3"
  }
 },
 "nbformat": 4,
 "nbformat_minor": 2
}
