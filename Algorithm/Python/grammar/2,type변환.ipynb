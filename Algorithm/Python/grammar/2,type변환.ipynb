{
 "cells": [
  {
   "cell_type": "code",
   "execution_count": null,
   "metadata": {},
   "outputs": [],
   "source": [
    "# 값을 정수로 만들기\n",
    "int(3.3)    # 3\n",
    "int(5 / 2)  # 2\n",
    "int('10')   # 10\n",
    "\n",
    "# 값을 문자열로 만들기\n",
    "str(3)\n",
    "\n",
    "# 객체의 자료형 알아내기\n",
    "# type(값)\n",
    "type(10)    # <class 'int'>"
   ]
  },
  {
   "cell_type": "code",
   "execution_count": null,
   "metadata": {},
   "outputs": [],
   "source": [
    "# 아스키코드 변환\n",
    "# ord(문자) : 하나의 문자를 인자로 받고 해당 문자에 해당하는 유니코드 정수를 반환\n",
    "ord('a')  # 97\n",
    "ord('ㄱ') # 12593\n",
    "\n",
    "# chr(정수) : 하나의 정수를 인자로 받고 해당 정수에 해당하는 유니코드 문자를 반환\n",
    "chr(97) # 'a'"
   ]
  },
  {
   "cell_type": "code",
   "execution_count": 5,
   "metadata": {},
   "outputs": [
    {
     "name": "stdout",
     "output_type": "stream",
     "text": [
      "5\n"
     ]
    }
   ],
   "source": [
    "# 문자의 알파벳인지를 확인하는 메서드\n",
    "s = \"K1KA5CB7\"\n",
    "arr = []\n",
    "\n",
    "for i in s:\n",
    "  if i.isalpha():   # 알파벳인지 확인하는 메서드\n",
    "    arr.append(i)\n",
    "\n",
    "print(len(arr))"
   ]
  }
 ],
 "metadata": {
  "kernelspec": {
   "display_name": "Python 3",
   "language": "python",
   "name": "python3"
  },
  "language_info": {
   "codemirror_mode": {
    "name": "ipython",
    "version": 3
   },
   "file_extension": ".py",
   "mimetype": "text/x-python",
   "name": "python",
   "nbconvert_exporter": "python",
   "pygments_lexer": "ipython3",
   "version": "3.9.2"
  }
 },
 "nbformat": 4,
 "nbformat_minor": 2
}
