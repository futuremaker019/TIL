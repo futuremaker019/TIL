{
 "cells": [
  {
   "cell_type": "code",
   "execution_count": null,
   "metadata": {},
   "outputs": [],
   "source": [
    "# 튜플 생성\n",
    "\n",
    "# 리스트를 item, index 형태로 생성이 가능하다.\n",
    "queue = [10, 20, 30, 40]\n",
    "queue = [(item, idx) for idx, item in enumerate(queue)]\n",
    "print(queue)  # [(10, 0), (20, 1), (30, 2), (40, 3)]\n",
    "\n",
    "# 튜플을 값으로 가지는 list에서 max value를 추출하는 방법은 다음과 같이 나타낸다.\n",
    "value = max(queue, key= lambda x: x[0])\n",
    "print(value)  # (40, 3)\n",
    "print(queue[-1] == value)   # True"
   ]
  },
  {
   "cell_type": "code",
   "execution_count": 8,
   "metadata": {},
   "outputs": [
    {
     "name": "stdout",
     "output_type": "stream",
     "text": [
      "[(10, 0), (20, 1), (30, 2), (40, 3)]\n",
      "10\n",
      "0\n",
      "(10, 0)\n"
     ]
    }
   ],
   "source": [
    "queue = [10, 20, 30, 40]\n",
    "queue = [(item, idx) for idx, item in enumerate(queue)]\n",
    "print(queue)\n",
    "\n",
    "print(queue[0][0]) # 처음 요소에서의 처음 값   : 10\n",
    "print(queue[0][1]) # 처음 요소에서의 두번째 값 : 0\n",
    "\n",
    "print(min(queue, key=lambda x: x[0]))"
   ]
  },
  {
   "cell_type": "code",
   "execution_count": 2,
   "metadata": {},
   "outputs": [
    {
     "name": "stdout",
     "output_type": "stream",
     "text": [
      "[(20, 0), (10, 1), (50, 2), (30, 3), (40, 4)]\n",
      "[(10, 1), (20, 0), (30, 3), (40, 4), (50, 2)]\n"
     ]
    }
   ],
   "source": [
    "queue = [20, 10, 50, 30, 40]\n",
    "queue = [(item, idx) for idx, item in enumerate(queue)]\n",
    "print(queue)\n",
    "\n",
    "queue.sort()    # 튜플에서 sort 메서드를 사용하면 처음값을 기준으로 정렬한다.\n",
    "queue.sort(key = lambda x: (x[1], x[0]))  # x[1]을 기준으로 정렬하고 , x[0]을 두번째 기준으로 정렬하라는 뜻\n",
    "\n",
    "queue.sort(key = lambda x: x[0])\n",
    "\n",
    "print(queue)"
   ]
  },
  {
   "cell_type": "code",
   "execution_count": 7,
   "metadata": {},
   "outputs": [
    {
     "name": "stdout",
     "output_type": "stream",
     "text": [
      "[(20, 0), (10, 1), (50, 2), (30, 3), (40, 4)]\n",
      "150\n"
     ]
    }
   ],
   "source": [
    "# 람다른 이용한 리스트 메서드 사용방법\n",
    "queue = [20, 10, 50, 30, 40]\n",
    "queue = [(item, idx) for idx, item in enumerate(queue)]\n",
    "print(queue)\n",
    "\n",
    "max(queue, key = lambda x: x[0])\n",
    "min(queue, key = lambda x: x[0])\n",
    "queue.sort(key = lambda x: x[0])\n",
    "\n",
    "# print(sum(queue, key = lambda x: x[0]))       안됨\n",
    "\n",
    "print(sum([item for item, index in queue]))"
   ]
  }
 ],
 "metadata": {
  "kernelspec": {
   "display_name": "Python 3",
   "language": "python",
   "name": "python3"
  },
  "language_info": {
   "codemirror_mode": {
    "name": "ipython",
    "version": 3
   },
   "file_extension": ".py",
   "mimetype": "text/x-python",
   "name": "python",
   "nbconvert_exporter": "python",
   "pygments_lexer": "ipython3",
   "version": "3.9.2"
  }
 },
 "nbformat": 4,
 "nbformat_minor": 2
}
