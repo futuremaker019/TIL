{
 "cells": [
  {
   "cell_type": "code",
   "execution_count": null,
   "metadata": {},
   "outputs": [],
   "source": [
    "# 2차원 배열 만들기\n",
    "## 입력으로 만들기\n",
    "n = 3\n",
    "a = []\n",
    "for i in range(n):\n",
    "    a.append(list(map(int, input().split())))\n",
    "\n",
    "## 선언으로 만들기\n",
    "a = []\n",
    "a.append([])\n",
    "a[0].append(10)\n",
    "a[0].append(20)\n",
    "\n",
    "a.append([])\n",
    "a[1].append(30)\n",
    "a[1].append(40)\n",
    "\n",
    "# 요소 접근\n",
    "a[0][0]\n",
    "a[1][0]"
   ]
  }
 ],
 "metadata": {
  "language_info": {
   "name": "python"
  }
 },
 "nbformat": 4,
 "nbformat_minor": 2
}
