{
 "cells": [
  {
   "cell_type": "markdown",
   "metadata": {},
   "source": [
    "list (참고링크 ([파이썬 코딩도장](https://dojang.io/mod/page/view.php?id=2286)))\n",
    "\n",
    "- append: 요소 하나 맨 뒤에 추가\n",
    "  - list.append(value)  value는 list도 가능하다.\n",
    "- extend: 리스트를 연결하여 확장\n",
    "  - list.extend(list)\n",
    "- insert: 특정 인덱스에 요소 추가\n",
    "  - list.insert(idx, value)\n",
    "- pop: 마지막 요소 또는 특정 인덱스의 요소를 삭제 및 해당 value를 return한다.\n",
    "  - list.pop() or list.pop(idx)\n",
    "  - `pop` 대신 `del`을 이용하여 삭제가능\n",
    "  - del a[1]\n",
    "\n",
    "- index: 리스트의 특정 인덱스 값을 구할때 사용\n",
    "  - list.index(value)\n",
    "  - 같은 값이 여러개일 경우 처음 찾은 인덱스를 구한다.\n",
    "\n",
    "- count: 특정 값의 개수를 구한다.\n",
    "  - list.count(value)\n",
    "\n",
    "- reverse: 리스트의 요소를 반대로 뒤집는다.\n",
    "  - list.reverse()\n",
    "\n",
    "- sort(): 리스트의 요소를 작은 순서대로 정렬\n",
    "  - list.sort() or list.sort(reverse=True) : 리스트의 값을 작은 순서대로 정렬(오름차순) \n",
    "  - list.sort(reverse=False) : 리스트의 값을 큰 순서대로 정렬(내림차순)\n",
    "\n",
    "- clear(): 리스트의 모든 요소를 삭제\n",
    "  - list.clear()\n",
    "  - del a[:]\n",
    "\n",
    "리스트 슬라이스로 조작하기\n",
    "\n",
    "- "
   ]
  },
  {
   "cell_type": "markdown",
   "metadata": {},
   "source": [
    "리스트에 map 사용하기\n",
    "\n",
    "- `map`은 리스트의 요소를 지정된 함수로 처리해주는 함수이다. (원본 리스트는 변경하지않고 새 리스트를 생성한다.)\n",
    "- list(map(함수, 리스트))\n",
    "\n",
    "```python\n",
    ">>> a = [1.2, 2.5, 3.7, 4.6]\n",
    ">>> a = list(map(int, a))\n",
    ">>> a\n",
    "[1, 2, 3, 4]\n",
    "```\n",
    "\n",
    "```python\n",
    ">>> a = list(map(str, range(10)))\n",
    ">>> a\n",
    "['0', '1', '2', '3', '4', '5', '6', '7', '8', '9']\n",
    "```\n",
    "\n",
    "`input().split()`과 `map`\n",
    "- input().split()의 결과가 문자열 리스트이기떄문에 map을 사용하여 정의가 가능하다.\n",
    "- input()을 단독으로 사용한다면 들어온 value를 리스트로 변환한다.\n",
    "  - 10101 -> [1, 0, 1, 0, 1]"
   ]
  },
  {
   "cell_type": "code",
   "execution_count": null,
   "metadata": {},
   "outputs": [],
   "source": [
    "# 리스트를 item, index 형태로 생성이 가능하다.\n",
    "queue = [10, 20, 30, 40]\n",
    "queue = [(item, idx) for idx, item in enumerate(queue)]\n",
    "print(queue)  # [(10, 0), (20, 1), (30, 2), (40, 3)]\n",
    "\n",
    "# 튜플을 값으로 가지는 list에서 max value를 추출하는 방법은 다음과 같이 나타낸다.\n",
    "value = max(queue, key= lambda x: x[0])\n",
    "print(value)  # (40, 3)\n",
    "print(queue[-1] == value)   # True"
   ]
  },
  {
   "cell_type": "code",
   "execution_count": null,
   "metadata": {},
   "outputs": [],
   "source": [
    "# 리스트의 문자열 합치기 (int 있으면 에러 뱉음)\n",
    "# '구분자'.join([]) => 구분자를 이용해 newLine 별로 출력이 가능함 => '\\n'\n",
    "print(''.join(['10', '20', '30']))"
   ]
  },
  {
   "cell_type": "code",
   "execution_count": null,
   "metadata": {},
   "outputs": [],
   "source": [
    "# stack, queue 를 리스트로 구현하기"
   ]
  }
 ],
 "metadata": {
  "kernelspec": {
   "display_name": "Python 3",
   "language": "python",
   "name": "python3"
  },
  "language_info": {
   "codemirror_mode": {
    "name": "ipython",
    "version": 3
   },
   "file_extension": ".py",
   "mimetype": "text/x-python",
   "name": "python",
   "nbconvert_exporter": "python",
   "pygments_lexer": "ipython3",
   "version": "3.11.3"
  },
  "orig_nbformat": 4
 },
 "nbformat": 4,
 "nbformat_minor": 2
}
