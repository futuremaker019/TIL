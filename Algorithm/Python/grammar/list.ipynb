{
 "cells": [
  {
   "cell_type": "markdown",
   "metadata": {},
   "source": [
    "list (참고링크 ([파이썬 코딩도장](https://dojang.io/mod/page/view.php?id=2286)))"
   ]
  },
  {
   "cell_type": "code",
   "execution_count": null,
   "metadata": {},
   "outputs": [],
   "source": [
    "a = [1, 2, 3, 4, 5]\n",
    "b = [6, 7, 8, 9, 10]\n",
    "\n",
    "# append: 요소 하나 맨 뒤에 추가\n",
    "a.append(b)  #value는 list도 가능하다.\n",
    "print(a)\n",
    "# extend: 리스트를 연결하여 확장\n",
    "a.extend(b)\n",
    "print(a)\n",
    "# insert: 특정 인덱스에 요소 추가\n",
    "# a.insert(idx, value)\n",
    "a.insert(0, 10)\n",
    "# pop: 마지막 요소 또는 특정 인덱스의 요소를 삭제 및 해당 value를 return한다.\n",
    "a.pop()   # a.pop()\n",
    "a.pop(0)  # a.pop(idx)\n",
    "# `pop` 대신 `del`을 이용하여 삭제가능\n",
    "del a[1]\n",
    "\n",
    "# index: 리스트의 특정 인덱스 값을 구할때 사용\n",
    "print(a.index(3))\n",
    "\n",
    "#같은 값이 여러개일 경우 처음 찾은 인덱스를 구한다.\n",
    "\n",
    "# count: 특정 값의 개수를 구한다.\n",
    "a.append(10)\n",
    "print(a.count(10))\n",
    "\n",
    "# reverse: 리스트의 요소를 반대로 뒤집는다.\n",
    "a.reverse()\n",
    "\n",
    "# sort(): 리스트의 요소를 작은 순서대로 정렬\n",
    "a.sort()\n",
    "a.sort(reverse=True)  # 리스트의 값을 작은 순서대로 정렬(오름차순) \n",
    "a.sort(reverse=False) # 리스트의 값을 큰 순서대로 정렬(내림차순)\n",
    "\n",
    "# clear(): 리스트의 모든 요소를 삭제\n",
    "a.clear()\n",
    "del a[:]"
   ]
  },
  {
   "cell_type": "code",
   "execution_count": null,
   "metadata": {},
   "outputs": [],
   "source": [
    "# 리스트에 map 사용하기\n",
    "\n",
    "# `map`은 리스트의 요소를 지정된 함수로 처리해주는 함수이다. (원본 리스트는 변경하지않고 새 리스트를 생성한다.)\n",
    "# list(map(함수, 리스트))\n",
    "\n",
    "\n",
    "a = [1.2, 2.5, 3.7, 4.6]\n",
    "a = list(map(int, a))\n",
    "print(a)        \n",
    "# result : [1, 2, 3, 4]\n",
    "\n",
    "a = list(map(str, range(10)))\n",
    "a               \n",
    "# result : ['0', '1', '2', '3', '4', '5', '6', '7', '8', '9']\n",
    "\n",
    "\n",
    "# `input().split()`과 `map`\n",
    "# input().split()의 결과가 문자열 리스트이기떄문에 map을 사용하여 정의가 가능하다.\n",
    "# input()을 단독으로 사용한다면 들어온 value를 리스트로 변환한다.\n",
    "# 10101 -> [1, 0, 1, 0, 1]"
   ]
  },
  {
   "cell_type": "code",
   "execution_count": null,
   "metadata": {},
   "outputs": [],
   "source": [
    "# 리스트를 item, index 형태로 생성이 가능하다.\n",
    "queue = [10, 20, 30, 40]\n",
    "queue = [(item, idx) for idx, item in enumerate(queue)]\n",
    "print(queue)  # [(10, 0), (20, 1), (30, 2), (40, 3)]\n",
    "\n",
    "# 튜플을 값으로 가지는 list에서 max value를 추출하는 방법은 다음과 같이 나타낸다.\n",
    "value = max(queue, key= lambda x: x[0])\n",
    "print(value)  # (40, 3)\n",
    "print(queue[-1] == value)   # True"
   ]
  },
  {
   "cell_type": "code",
   "execution_count": null,
   "metadata": {},
   "outputs": [],
   "source": [
    "# 리스트의 문자열 합치기 (int 있으면 에러 뱉음)\n",
    "# '구분자'.join([]) => 구분자를 이용해 newLine 별로 출력이 가능함 => '\\n'\n",
    "print(''.join(['10', '20', '30']))"
   ]
  },
  {
   "cell_type": "code",
   "execution_count": 4,
   "metadata": {},
   "outputs": [
    {
     "name": "stdout",
     "output_type": "stream",
     "text": [
      "15\n",
      "[1, 2, 3, 5, 6, 7]\n",
      "[1, 2, 3, 4, 5, 6]\n"
     ]
    }
   ],
   "source": [
    "# 리스트 합치기\n",
    "print(sum([1, 2, 3, 4, 5]))               # 내부의 값을 합친다.\n",
    "print(sum([[1, 2, 3], [5, 6, 7]], []))    # 2중 리스트를 하나의 리스트로 합친다.\n",
    "\n",
    "a = [1,2,3]\n",
    "b = [4,5,6]\n",
    "a.extend(b)\n",
    "print(a)     # 2개의 리스트를 합친다."
   ]
  },
  {
   "cell_type": "code",
   "execution_count": 4,
   "metadata": {},
   "outputs": [
    {
     "name": "stdout",
     "output_type": "stream",
     "text": [
      "[0, 1, 2, 3, 4, 5, 6, 7, 8, 9]\n",
      "[0, 1, 2, 3, 4]\n",
      "(0, 1, 2, 3, 4, 5, 6, 7, 8, 9)\n"
     ]
    }
   ],
   "source": [
    "a = [i for i in range(10)]\n",
    "print(a)\n",
    "\n",
    "# 슬라이스\n",
    "# 기본\n",
    "# a[시작인덱스:끝인덱스]\n",
    "\n",
    "# 리스트\n",
    "a = a[0:5]    # 0 부터 4까지 포함\n",
    "print(a)\n",
    "a = a[1:1]    # 1 부터 0까지 포함 (빈 리스트를 반환)\n",
    "a = a[1:2]    # 1 부터 1까지 포함 (하나의 요소를 가지는 리스트 반환)\n",
    "a = a[4:-1]   # 4 부터 -2까지 포함 (-1은 제일 마지막 인덱스를 의미)\n",
    "a = a[2:8:3]  # 2 부터 7까지 3의 증김으로 리스트 생성\n",
    "a = a[:7]     # 처음부터 6까지 \n",
    "a = a[7:]     # 7부터 마지막까지 리스트 생성\n",
    "a = a[:]      # 전체 리스트를 가져옴\n",
    "a = a[::2]    # 2를 증가시키면서 리스트 생성\n",
    "a = a[5:1:-1] # 5부터 2까지 1씩 감소하면서 리스트 생성\n",
    "a = a[::-1]   # 리스트의 뒤에서부터 1씩 감소하면서 리스트 생성\n",
    "\n",
    "b = tuple(range(10))\n",
    "print(b)"
   ]
  },
  {
   "cell_type": "code",
   "execution_count": null,
   "metadata": {},
   "outputs": [],
   "source": [
    "# stack, queue 를 리스트로 구현하기\n",
    "arr = [1, 2, 3, 4]\n",
    "\n",
    "# stack\n",
    "\n",
    "\n",
    "# queue\n",
    "arr.append(arr.pop(0))      # 맨 처음값을 뺴서 제일 뒤로 입력한다."
   ]
  },
  {
   "cell_type": "code",
   "execution_count": null,
   "metadata": {},
   "outputs": [],
   "source": [
    "\n",
    "# list 를 queue 로 구현\n",
    "# 앞의 요소 pop 하여 뒤에 넣기\n",
    "a = [1, 2, 3, 4, 5, 6]\n",
    "a.append(a.pop(0))      # [2, 3, 4, 5, 6, 1]\n",
    "print(a)\n",
    "\n",
    "# 뒤에 요소를 pop 하여 앞에 넣기\n",
    "a = [1, 2, 3, 4, 5, 6]\n",
    "a.insert(0, a.pop())    # [6, 1, 2, 3, 4, 5]"
   ]
  },
  {
   "cell_type": "code",
   "execution_count": null,
   "metadata": {},
   "outputs": [],
   "source": [
    "# all() 함수는 반복문으로 순회할 수 있는 모든 객체를 인자로 받는다.\n",
    "all([True, True, True, True])\n",
    "all([True, True, True, False])\n",
    "\n",
    "all(num > 0 for num in [1, 2, 3, 4])"
   ]
  },
  {
   "cell_type": "code",
   "execution_count": 3,
   "metadata": {},
   "outputs": [
    {
     "name": "stdout",
     "output_type": "stream",
     "text": [
      "True\n",
      "True\n",
      "True\n",
      "True\n"
     ]
    }
   ],
   "source": [
    "# 회문검사\n",
    "word = input(\"단어 입력\")\n",
    "\n",
    "# case 1\n",
    "isPalindrome = True\n",
    "for i in range(len(word)//2):       # 0부터 문자열 길이의 절반만큼 반복\n",
    "    if word[i] != word[-1-i]:       # 리스트의 뒤 부터 진행한다는 표현\n",
    "        isPalindrome = False\n",
    "        break\n",
    "print(isPalindrome)\n",
    "\n",
    "# case 2\n",
    "print(word == word[::-1])           # 원래 문자열과 반대로 뒤집은 문자열을 비교\n",
    "\n",
    "# case 3\n",
    "print(list(word) == list(reversed(word)))   # list 키워드를 이용하여 문자열을 리스트로 생성\n",
    "\n",
    "# case 3\n",
    "print(word == ''.join(reversed(word)))\n",
    "\n",
    "# 츨처 : https://dojang.io/mod/page/view.php?id=2331"
   ]
  },
  {
   "cell_type": "code",
   "execution_count": 2,
   "metadata": {},
   "outputs": [
    {
     "name": "stdout",
     "output_type": "stream",
     "text": [
      "86\n",
      "[95, 107, 67, 38, 49, 116, 22, 78, 53, 86]\n"
     ]
    }
   ],
   "source": [
    "# queue 구현\n",
    "\n",
    "## list를 사용한 queue 구현\n",
    "queue = [86, 95, 107, 67, 38, 49, 116, 22, 78, 53]\n",
    "\n",
    "# pop(index)\n",
    "value = queue.pop(0)\n",
    "print(value)                    # 86\n",
    "\n",
    "queue.append(value)\n",
    "print(queue)                    # 맨뒤에 넣기\n"
   ]
  },
  {
   "cell_type": "code",
   "execution_count": 6,
   "metadata": {},
   "outputs": [
    {
     "name": "stdout",
     "output_type": "stream",
     "text": [
      "53\n",
      "deque([86, 95, 107, 67, 38, 49, 116, 22, 78, 53])\n",
      "86\n",
      "deque([86, 95, 107, 67, 38, 49, 116, 22, 78, 53])\n"
     ]
    }
   ],
   "source": [
    "from collections import deque\n",
    "\n",
    "# queue 구현 (deque를 이용한 Queue 구현)\n",
    "## deque는 앞, 뒤에서 모두 pop, append를 사용할 수 있다.\n",
    "## 앞에서 pop, append를 하기 위해서는 popleft, appendleft를 사용한다.\n",
    "queue = [86, 95, 107, 67, 38, 49, 116, 22, 78, 53]\n",
    "\n",
    "queue = deque(queue)\n",
    "\n",
    "\n",
    "value = queue.pop()\n",
    "print(value)\n",
    "queue.append(value)\n",
    "print(queue)\n",
    "\n",
    "value = queue.popleft()\n",
    "print(value)\n",
    "queue.appendleft(value)\n",
    "print(queue)\n"
   ]
  }
 ],
 "metadata": {
  "kernelspec": {
   "display_name": "Python 3",
   "language": "python",
   "name": "python3"
  },
  "language_info": {
   "codemirror_mode": {
    "name": "ipython",
    "version": 3
   },
   "file_extension": ".py",
   "mimetype": "text/x-python",
   "name": "python",
   "nbconvert_exporter": "python",
   "pygments_lexer": "ipython3",
   "version": "3.11.3"
  },
  "orig_nbformat": 4
 },
 "nbformat": 4,
 "nbformat_minor": 2
}
