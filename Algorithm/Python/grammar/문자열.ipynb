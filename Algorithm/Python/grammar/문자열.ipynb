{
 "cells": [
  {
   "cell_type": "code",
   "execution_count": 15,
   "metadata": {},
   "outputs": [
    {
     "name": "stdout",
     "output_type": "stream",
     "text": [
      "#1 YES\n",
      "내 이름은 홍길동 이다.\n"
     ]
    }
   ],
   "source": [
    "# 문자열 formatting\n",
    "\n",
    "# format 메서드를 이용한 문자열 형식화\n",
    "print('#{i} YES'.format(i = 1))\n",
    "\n",
    "# % 기호를 사용한 문자열 형식화\n",
    "print('내 이름은 %s 이다.' % \"홍길동\")\n",
    "\n",
    "# 형식지정 문자열\n",
    "## %s: 문자열, %d: 정수, %f: 부동소수점 실수\n",
    "\n",
    "# 고급 형식지정 문자열\n",
    "## %20s: 전체 20칸을 차지하는 문자열(공백을 앞에 붙인다.)\n",
    "## $-10d: 전체 10칸을 차지하는 숫자(공백을 뒤에 붙인다.)\n",
    "## %.5f: 부동소수점의 소수점 아래 5자리까지 표시"
   ]
  },
  {
   "cell_type": "code",
   "execution_count": null,
   "metadata": {},
   "outputs": [],
   "source": [
    "# 문자열 바꾸기 (replace)\n",
    "table = str.maketrans('aeiou', '12345')\n",
    "'apple'.translate(table)\n",
    "\n",
    "# 문자열 분리하기 (split)\n",
    "result = 'apple pear grape pineapple orange'.split()            # 공백을 기준으로 분리 (default)\n",
    "print(result)\n",
    "# result : ['apple', 'pear', 'grape', 'pineapple', 'orange']\n",
    "\n",
    "result1 = 'apple, pear, grape, pineapple, orange'.split(\", \")   # \", \" 기준으로 분리\n",
    "print(result1)\n",
    "# result : ['apple', 'pear', 'grape', 'pineapple', 'orange']\n",
    "\n",
    "# 문자열 합치기 (join)\n",
    "result3 = ' '.join(['apple', 'pear', 'grape', 'pineapple', 'orange'])\n",
    "print(result3)\n",
    "#result 'apple pear grape pineapple orange'\n",
    "\n",
    "result4 = '-'.join(['apple', 'pear', 'grape', 'pineapple', 'orange'])\n",
    "print(result4)\n",
    "#result 'apple-pear-grape-pineapple-orange'\n",
    "\n",
    "# 공백 삭제\n",
    "## 왼쪽 공백 삭제 (lstrip())\n",
    "'   Python   '.rstrip()\n",
    "# result '   Python'\n",
    "## 왼쪽 특정문자 삭제\n",
    "', python.'.lstrip(',.')\n",
    "# result ' python.'\n",
    "\n",
    "## 오른쪽 공백 삭제 (rstrip())\n",
    "'   Python   '.rstrip()\n",
    "# result 'Python   '\n",
    "## 오른쪽 특정문자 삭제\n",
    "', python.'.rstrip(',.')\n",
    "# result ', python'\n",
    "\n",
    "## 양쪽 공백 삭제 (strip())\n",
    "'   Python   '.rstrip()\n",
    "# result 'Python'\n",
    "## 양쪽 특정문자 삭제\n",
    "', python.'.strip(',.')\n",
    "# result ' python'\n",
    "\n",
    "\n",
    "# 문자열 왼쪽정렬\n",
    "# 문자열 오른쪽정렬\n",
    "# 문자열 가운데정렬\n",
    "\n",
    "# 문자열 왼쪽에 0 채우기\n",
    "\n",
    "# 문자열 위치 찾기\n",
    "'apple pineapple'.find('pl') # 위치값의 인덱스 반환\n",
    "'apple pineapple'.find('zy') # 없으면 -1\n",
    "\n",
    "# 오른쪽에서부터 문자열 위치 찾기\n",
    "'apple pineapple'.rfind('pl')\n",
    "\n",
    "# 문자열 위치찾기\n",
    "'apple pineapple'.index('pl')\n",
    "\n",
    "# 문자열 카운트\n",
    "'apple pineapple'.count('pl')\n",
    "\n",
    "# 코딩도장 : 문자열 응용 (https://dojang.io/mod/page/view.php?id=2299)\n"
   ]
  },
  {
   "cell_type": "code",
   "execution_count": null,
   "metadata": {},
   "outputs": [],
   "source": [
    "\"\"\"\n",
    "이런한 형태는 doc string 이라고 하는 여러줄의 string 을 만들수 있는 방법이지만\n",
    "코드 실행시 문자열로 인식하여 에러 발생의 요소가 있다. 주의해야함\n",
    "\"\"\""
   ]
  }
 ],
 "metadata": {
  "kernelspec": {
   "display_name": "Python 3",
   "language": "python",
   "name": "python3"
  },
  "language_info": {
   "codemirror_mode": {
    "name": "ipython",
    "version": 3
   },
   "file_extension": ".py",
   "mimetype": "text/x-python",
   "name": "python",
   "nbconvert_exporter": "python",
   "pygments_lexer": "ipython3",
   "version": "3.11.3"
  }
 },
 "nbformat": 4,
 "nbformat_minor": 2
}
