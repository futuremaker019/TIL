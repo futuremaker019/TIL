{
 "cells": [
  {
   "cell_type": "code",
   "execution_count": 1,
   "metadata": {},
   "outputs": [
    {
     "name": "stdout",
     "output_type": "stream",
     "text": [
      "result not found\n"
     ]
    }
   ],
   "source": [
    "def bs(array, target, start, end):\n",
    "    if start > end:\n",
    "        return None\n",
    "    mid = (start + end) // 2\n",
    "    if array[mid] == target:\n",
    "        return mid\n",
    "    if target < array[mid]:\n",
    "        return bs(array, target, start, mid - 1)\n",
    "    else:\n",
    "        return bs(array, target, mid + 1, end)\n",
    "\n",
    "# 10 15\n",
    "# 1 3 5 7 9 11 13 15 17 19\n",
    "\n",
    "n, target = list(map(int, input().split()))\n",
    "array = list(map(int, input().split()))\n",
    "\n",
    "result = bs(array, target, 0, n - 1)\n",
    "if result == None:\n",
    "    print(\"result not found\")\n",
    "else :\n",
    "    print(result)"
   ]
  },
  {
   "cell_type": "code",
   "execution_count": null,
   "metadata": {},
   "outputs": [],
   "source": [
    "def binary_search(graph, target, start, end) :\n",
    "  if start > end:\n",
    "    return None\n",
    "  mid = (start + end) // 2\n",
    "  if graph[mid] == target:\n",
    "    return mid\n",
    "  if graph[mid] > target:\n",
    "    return binary_search(graph, target, start, mid - 1)\n",
    "  if graph[mid] < target:\n",
    "    return binary_search(graph, target, mid + 1, end)\n",
    "  \n",
    "\n",
    "gg = [1, 3, 5, 7, 9, 11, 13, 15, 17, 19]\n",
    "\n",
    "print(binary_search(gg, 19, 0, len(gg) - 1))"
   ]
  },
  {
   "cell_type": "code",
   "execution_count": null,
   "metadata": {},
   "outputs": [],
   "source": [
    "\n",
    "# 1 3 5 7 9 11 13 15 17 19"
   ]
  }
 ],
 "metadata": {
  "kernelspec": {
   "display_name": "Python 3",
   "language": "python",
   "name": "python3"
  },
  "language_info": {
   "codemirror_mode": {
    "name": "ipython",
    "version": 3
   },
   "file_extension": ".py",
   "mimetype": "text/x-python",
   "name": "python",
   "nbconvert_exporter": "python",
   "pygments_lexer": "ipython3",
   "version": "3.9.2"
  },
  "orig_nbformat": 4
 },
 "nbformat": 4,
 "nbformat_minor": 2
}
