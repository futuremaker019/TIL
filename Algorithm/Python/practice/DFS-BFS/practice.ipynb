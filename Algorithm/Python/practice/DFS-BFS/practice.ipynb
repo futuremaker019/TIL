{
 "cells": [
  {
   "cell_type": "code",
   "execution_count": 11,
   "metadata": {},
   "outputs": [
    {
     "name": "stdout",
     "output_type": "stream",
     "text": [
      "1 2 7 6 8 3 4 5 None\n"
     ]
    }
   ],
   "source": [
    "# DFS\n",
    "\n",
    "graph = [\n",
    "    [],\n",
    "    [2, 3, 8],\n",
    "    [1, 7],\n",
    "    [1, 4, 5],\n",
    "    [3, 5],\n",
    "    [3, 4],\n",
    "    [7],\n",
    "    [2, 6, 8],\n",
    "    [1, 7]\n",
    "]\n",
    "\n",
    "visited = [False] * 9\n",
    "\n",
    "def dfs(graph, x, visited):\n",
    "  visited[x] = True\n",
    "  print(x, end=' ')\n",
    "\n",
    "  for i in graph[x]:           # 하나의 리스트만 출력하는 것이니 range가 아니라는 것\n",
    "    if not visited[i]:         # i번쨰의 인덱스값이 False라면\n",
    "      dfs(graph, i, visited)   # \n",
    "\n",
    "print(dfs(graph, 1, visited))"
   ]
  },
  {
   "cell_type": "code",
   "execution_count": 14,
   "metadata": {},
   "outputs": [
    {
     "name": "stdout",
     "output_type": "stream",
     "text": [
      "1 2 3 8 7 4 5 6 "
     ]
    }
   ],
   "source": [
    "# BFS\n",
    "\n",
    "from collections import deque\n",
    "\n",
    "graph = [\n",
    "  [],\n",
    "  [2, 3, 8],\n",
    "  [1, 7],\n",
    "  [1, 4, 5],\n",
    "  [3, 5],\n",
    "  [3, 4],\n",
    "  [7],\n",
    "  [2, 6, 8],\n",
    "  [1, 7]\n",
    "]\n",
    "\n",
    "visited = [False] * 9\n",
    "\n",
    "def bsf(graph, start, visited):\n",
    "  queue = deque([start])\n",
    "  visited[start] = True\n",
    "\n",
    "  while queue:\n",
    "    v = queue.popleft()\n",
    "    print(v, end=' ')\n",
    "\n",
    "    for i in graph[v]:\n",
    "      if not visited[i]:\n",
    "        visited[i] = True\n",
    "        queue.append(i)\n",
    "        \n",
    "\n",
    "bsf(graph, 1, visited)\n"
   ]
  },
  {
   "cell_type": "code",
   "execution_count": 15,
   "metadata": {},
   "outputs": [
    {
     "name": "stdout",
     "output_type": "stream",
     "text": [
      "1 2 3 8 7 4 5 6 "
     ]
    }
   ],
   "source": [
    "from collections import deque \n",
    "\n",
    "graph = [\n",
    "  [],\n",
    "  [2, 3, 8],\n",
    "  [1, 7],\n",
    "  [1, 4, 5],\n",
    "  [3, 5],\n",
    "  [3, 4],\n",
    "  [7],\n",
    "  [2, 6, 8],\n",
    "  [1, 7]\n",
    "]\n",
    "\n",
    "visited = [False] * 9\n",
    "\n",
    "def bfs(graph, start, visited):\n",
    "  visited[start] = True\n",
    "  queue = deque([start])\n",
    "  \n",
    "  while queue:\n",
    "    v = queue.popleft()\n",
    "    print(v, end=\" \")\n",
    "\n",
    "    for i in graph[v]:\n",
    "      if not visited[i]:\n",
    "        visited[i] = True\n",
    "        queue.append(i)\n",
    "\n",
    "\n",
    "bfs(graph, 1, visited)\n",
    "\n"
   ]
  }
 ],
 "metadata": {
  "kernelspec": {
   "display_name": "Python 3",
   "language": "python",
   "name": "python3"
  },
  "language_info": {
   "codemirror_mode": {
    "name": "ipython",
    "version": 3
   },
   "file_extension": ".py",
   "mimetype": "text/x-python",
   "name": "python",
   "nbconvert_exporter": "python",
   "pygments_lexer": "ipython3",
   "version": "3.9.2"
  },
  "orig_nbformat": 4
 },
 "nbformat": 4,
 "nbformat_minor": 2
}
