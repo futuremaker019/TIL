{
 "cells": [
  {
   "cell_type": "code",
   "execution_count": 11,
   "metadata": {},
   "outputs": [
    {
     "name": "stdout",
     "output_type": "stream",
     "text": [
      "1 2 7 6 8 3 4 5 None\n"
     ]
    }
   ],
   "source": [
    "# DFS\n",
    "\n",
    "graph = [\n",
    "    [],\n",
    "    [2, 3, 8],\n",
    "    [1, 7],\n",
    "    [1, 4, 5],\n",
    "    [3, 5],\n",
    "    [3, 4],\n",
    "    [7],\n",
    "    [2, 6, 8],\n",
    "    [1, 7]\n",
    "]\n",
    "\n",
    "visited = [False] * 9\n",
    "\n",
    "def dfs(graph, x, visited):\n",
    "  visited[x] = True\n",
    "  print(x, end=' ')\n",
    "\n",
    "  for i in graph[x]:           # 하나의 리스트만 출력하는 것이니 range가 아니라는 것\n",
    "    if not visited[i]:         # i번쨰의 인덱스값이 False라면\n",
    "      dfs(graph, i, visited)   # \n",
    "\n",
    "print(dfs(graph, 1, visited))"
   ]
  },
  {
   "cell_type": "code",
   "execution_count": 14,
   "metadata": {},
   "outputs": [
    {
     "name": "stdout",
     "output_type": "stream",
     "text": [
      "1 2 3 8 7 4 5 6 "
     ]
    }
   ],
   "source": [
    "# BFS\n",
    "\n",
    "from collections import deque\n",
    "\n",
    "graph = [\n",
    "  [],\n",
    "  [2, 3, 8],\n",
    "  [1, 7],\n",
    "  [1, 4, 5],\n",
    "  [3, 5],\n",
    "  [3, 4],\n",
    "  [7],\n",
    "  [2, 6, 8],\n",
    "  [1, 7]\n",
    "]\n",
    "\n",
    "visited = [False] * 9\n",
    "\n",
    "def bsf(graph, start, visited):\n",
    "  queue = deque([start])\n",
    "  visited[start] = True\n",
    "\n",
    "  while queue:\n",
    "    v = queue.popleft()\n",
    "    print(v, end=' ')\n",
    "\n",
    "    for i in graph[v]:\n",
    "      if not visited[i]:\n",
    "        visited[i] = True\n",
    "        queue.append(i)\n",
    "        \n",
    "\n",
    "bsf(graph, 1, visited)\n"
   ]
  },
  {
   "cell_type": "code",
   "execution_count": 15,
   "metadata": {},
   "outputs": [
    {
     "name": "stdout",
     "output_type": "stream",
     "text": [
      "1 2 3 8 7 4 5 6 "
     ]
    }
   ],
   "source": [
    "# BFS\n",
    "\n",
    "from collections import deque \n",
    "\n",
    "graph = [\n",
    "  [],\n",
    "  [2, 3, 8],\n",
    "  [1, 7],\n",
    "  [1, 4, 5],\n",
    "  [3, 5],\n",
    "  [3, 4],\n",
    "  [7],\n",
    "  [2, 6, 8],\n",
    "  [1, 7]\n",
    "]\n",
    "\n",
    "visited = [False] * 9\n",
    "\n",
    "def bfs(graph, start, visited):\n",
    "  visited[start] = True\n",
    "  queue = deque([start])\n",
    "  \n",
    "  while queue:\n",
    "    v = queue.popleft()\n",
    "    print(v, end=\" \")\n",
    "\n",
    "    for i in graph[v]:\n",
    "      if not visited[i]:\n",
    "        visited[i] = True\n",
    "        queue.append(i)\n",
    "\n",
    "\n",
    "bfs(graph, 1, visited)\n",
    "\n"
   ]
  },
  {
   "cell_type": "code",
   "execution_count": 1,
   "metadata": {},
   "outputs": [
    {
     "ename": "ValueError",
     "evalue": "not enough values to unpack (expected 3, got 1)",
     "output_type": "error",
     "traceback": [
      "\u001b[1;31m---------------------------------------------------------------------------\u001b[0m",
      "\u001b[1;31mValueError\u001b[0m                                Traceback (most recent call last)",
      "Cell \u001b[1;32mIn[1], line 5\u001b[0m\n\u001b[0;32m      1\u001b[0m \u001b[39m# 노드 N, 간선 M, 출발지 R\u001b[39;00m\n\u001b[0;32m      2\u001b[0m \u001b[39m# 오름차순으로 노드의 순서를 표시하라\u001b[39;00m\n\u001b[0;32m      3\u001b[0m \n\u001b[0;32m      4\u001b[0m \u001b[39m# 변수 입력받기\u001b[39;00m\n\u001b[1;32m----> 5\u001b[0m n, m, r \u001b[39m=\u001b[39m \u001b[39mlist\u001b[39m(\u001b[39mmap\u001b[39m(\u001b[39mint\u001b[39m, \u001b[39minput\u001b[39m()\u001b[39m.\u001b[39msplit()))\n\u001b[0;32m      8\u001b[0m \u001b[39m# graph = [\u001b[39;00m\n\u001b[0;32m      9\u001b[0m \u001b[39m#   [],\u001b[39;00m\n\u001b[0;32m     10\u001b[0m \u001b[39m#   [2, 3, 8],\u001b[39;00m\n\u001b[1;32m   (...)\u001b[0m\n\u001b[0;32m     17\u001b[0m \u001b[39m#   [1, 7]\u001b[39;00m\n\u001b[0;32m     18\u001b[0m \u001b[39m# ]\u001b[39;00m\n\u001b[0;32m     20\u001b[0m graph \u001b[39m=\u001b[39m []\n",
      "\u001b[1;31mValueError\u001b[0m: not enough values to unpack (expected 3, got 1)"
     ]
    }
   ],
   "source": [
    "# 노드 N, 간선 M, 출발지 R\n",
    "# 오름차순으로 노드의 순서를 표시하라\n",
    "\n",
    "# 변수 입력받기\n",
    "n, m, r = list(map(int, input().split()))\n",
    "\n",
    "\n",
    "# graph = [\n",
    "#   [],\n",
    "#   [2, 3, 8],\n",
    "#   [1, 7],\n",
    "#   [1, 4, 5],\n",
    "#   [3, 5],\n",
    "#   [3, 4],\n",
    "#   [7],\n",
    "#   [2, 6, 8],\n",
    "#   [1, 7]\n",
    "# ]\n",
    "\n",
    "graph = []\n",
    "\n",
    "# 그래프 생성\n",
    "for i in range(n):\n",
    "  graph.append(list(map(int, input().split())))\n",
    "\n",
    "visited = [False] * n\n",
    "\n",
    "def dfs(graph, start, visited):\n",
    "  visited[start] = True\n",
    "  print(start, end=\" \")\n",
    "\n",
    "  for i in graph[start]:\n",
    "    if not visited[i]:\n",
    "      dfs(graph, i, visited)\n",
    "\n",
    "dfs(graph, r, visited)"
   ]
  }
 ],
 "metadata": {
  "kernelspec": {
   "display_name": "Python 3",
   "language": "python",
   "name": "python3"
  },
  "language_info": {
   "codemirror_mode": {
    "name": "ipython",
    "version": 3
   },
   "file_extension": ".py",
   "mimetype": "text/x-python",
   "name": "python",
   "nbconvert_exporter": "python",
   "pygments_lexer": "ipython3",
   "version": "3.9.2"
  },
  "orig_nbformat": 4
 },
 "nbformat": 4,
 "nbformat_minor": 2
}
