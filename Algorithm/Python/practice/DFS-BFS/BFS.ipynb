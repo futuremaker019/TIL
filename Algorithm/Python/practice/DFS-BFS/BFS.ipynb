{
 "cells": [
  {
   "cell_type": "code",
   "execution_count": null,
   "metadata": {},
   "outputs": [],
   "source": [
    "# bfs 기본\n"
   ]
  },
  {
   "cell_type": "code",
   "execution_count": 2,
   "metadata": {},
   "outputs": [
    {
     "name": "stdout",
     "output_type": "stream",
     "text": [
      "10\n",
      "[[3, 0, 5, 0, 7, 0], [2, 3, 4, 5, 6, 7], [0, 0, 0, 0, 0, 8], [14, 13, 12, 11, 10, 9], [15, 14, 13, 12, 11, 10]]\n"
     ]
    },
    {
     "data": {
      "text/plain": [
       "'\\n모든 노드를 순회하며 번호를 변경한다는것이 포인트이다.\\n\\n5 6\\n\\n1 0 1 0 1 0\\n1 1 1 1 1 1\\n0 0 0 0 0 1\\n1 1 1 1 1 1\\n1 1 1 1 1 1\\n\\n상하좌우의 번호를 변경한다.\\n\\n1 0 5 0 7 0\\n2 3 4 5 6 7\\n0 0 0 0 0 8\\n14 13 12 11 10 9\\n15 14 13 12 11 10\\n\\n'"
      ]
     },
     "execution_count": 2,
     "metadata": {},
     "output_type": "execute_result"
    }
   ],
   "source": [
    "\n",
    "from collections import deque\n",
    "\n",
    "n, m = list(map(int, input().split()))\n",
    "\n",
    "graph = []\n",
    "for i in range(n):\n",
    "  graph.append(list(map(int, input().split())))\n",
    "\n",
    "dx = [-1, 1, 0, 0]\n",
    "dy = [0, 0, -1, 1]\n",
    "\n",
    "def bfs(x, y):\n",
    "  queue = deque()\n",
    "  queue.append((x, y))\n",
    "\n",
    "  while queue:\n",
    "    x, y = queue.popleft()\n",
    "    for i in range(4):\n",
    "      nx = x + dx[i]\n",
    "      ny = y + dy[i]\n",
    "      if nx < 0 or nx >= n or ny < 0 or ny >= m:\n",
    "        continue\n",
    "      if graph[nx][ny] == 0:\n",
    "        continue\n",
    "      if graph[nx][ny] == 1:    # \n",
    "        graph[nx][ny] = graph[x][y] + 1\n",
    "        queue.append((nx, ny))\n",
    "  return graph[n - 1][m - 1]\n",
    "\n",
    "print(bfs(0, 0))\n",
    "print(graph)\n",
    "\n",
    "\n",
    "\"\"\"\n",
    "모든 노드를 순회하며 번호를 변경한다는것이 포인트이다.\n",
    "\n",
    "5 6\n",
    "\n",
    "1 0 1 0 1 0\n",
    "1 1 1 1 1 1\n",
    "0 0 0 0 0 1\n",
    "1 1 1 1 1 1\n",
    "1 1 1 1 1 1\n",
    "\n",
    "상하좌우의 번호를 변경한다.\n",
    "\n",
    "1 0 5 0 7 0\n",
    "2 3 4 5 6 7\n",
    "0 0 0 0 0 8\n",
    "14 13 12 11 10 9\n",
    "15 14 13 12 11 10\n",
    "\n",
    "실제로 나온 graph가 변경된 상태\n",
    "[\n",
    "  [3, 0, 5, 0, 7, 0], \n",
    "  [2, 3, 4, 5, 6, 7], \n",
    "  [0, 0, 0, 0, 0, 8], \n",
    "  [14, 13, 12, 11, 10, 9], \n",
    "  [15, 14, 13, 12, 11, 10]\n",
    "]\n",
    "\"\"\""
   ]
  }
 ],
 "metadata": {
  "kernelspec": {
   "display_name": "Python 3",
   "language": "python",
   "name": "python3"
  },
  "language_info": {
   "codemirror_mode": {
    "name": "ipython",
    "version": 3
   },
   "file_extension": ".py",
   "mimetype": "text/x-python",
   "name": "python",
   "nbconvert_exporter": "python",
   "pygments_lexer": "ipython3",
   "version": "3.9.2"
  },
  "orig_nbformat": 4
 },
 "nbformat": 4,
 "nbformat_minor": 2
}
