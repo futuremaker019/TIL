{
 "cells": [
  {
   "cell_type": "code",
   "execution_count": 13,
   "metadata": {},
   "outputs": [
    {
     "name": "stdout",
     "output_type": "stream",
     "text": [
      "[0, 1, 2, 3, 4, 5, 6, 7, 8, 9]\n"
     ]
    }
   ],
   "source": [
    "# quick_sort\n",
    "\n",
    "def quick_sort(array, start, end):\n",
    "  if start >= end:\n",
    "    return\n",
    "  pivot = start\n",
    "  leftIdx = start + 1\n",
    "  rightIdx = end\n",
    "  while(leftIdx <= rightIdx):                                   # = 이 있다는것에 주의\n",
    "    while leftIdx <= end and array[leftIdx] <= array[pivot]:    # = 이 있다는것에 주의\n",
    "      leftIdx += 1\n",
    "    while start < rightIdx and array[rightIdx] >= array[pivot]:\n",
    "      rightIdx -= 1\n",
    "    if leftIdx > rightIdx:\n",
    "      array[rightIdx], array[pivot] = array[pivot], array[rightIdx]\n",
    "    else:\n",
    "      array[rightIdx], array[leftIdx] = array[leftIdx], array[rightIdx]\n",
    "  quick_sort(array, start, rightIdx - 1)\n",
    "  quick_sort(array, rightIdx + 1, end)\n",
    "\n",
    "array = [8, 2, 1, 0, 3, 4, 7, 9, 6, 5]\n",
    "\n",
    "quick_sort(array, 0, len(array) - 1)\n",
    "print(array)\n",
    "\n"
   ]
  },
  {
   "cell_type": "code",
   "execution_count": null,
   "metadata": {},
   "outputs": [],
   "source": [
    "# array = [8, 2, 1, 0, 3, 4, 7, 9, 6, 5]"
   ]
  }
 ],
 "metadata": {
  "kernelspec": {
   "display_name": "Python 3",
   "language": "python",
   "name": "python3"
  },
  "language_info": {
   "codemirror_mode": {
    "name": "ipython",
    "version": 3
   },
   "file_extension": ".py",
   "mimetype": "text/x-python",
   "name": "python",
   "nbconvert_exporter": "python",
   "pygments_lexer": "ipython3",
   "version": "3.9.2"
  },
  "orig_nbformat": 4
 },
 "nbformat": 4,
 "nbformat_minor": 2
}
