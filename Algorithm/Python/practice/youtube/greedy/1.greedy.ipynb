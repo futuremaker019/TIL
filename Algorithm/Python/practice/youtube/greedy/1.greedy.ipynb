{
 "cells": [
  {
   "attachments": {},
   "cell_type": "markdown",
   "metadata": {},
   "source": [
    "- 어떠한 수 N이 1이 될때까지 다음의 두 과정 중 하나를 반복적으로 선택하여 수행한다. 단 두 번째 연산은 N이 K로 나누어 떨어질 때만 선택할 수 있다.\n",
    "\n",
    "1. N에서 1을 뺍니다.\n",
    "2. N을 K로 나눕니다.\n",
    "\n",
    "- N이 17, K가 4일 때, 1번의 과정으로 N은 16이 됩니다. 이후 2번의 과정을 두 번 수행하면 N이 1이 된다.\n",
    "- N과 K가 주어질떄 N이 1이 될 떄까지 1번 혹은 2번의 과정을 수행해야 하는 최소 횟수를 구하는 프로그램을 작성하라"
   ]
  },
  {
   "cell_type": "code",
   "execution_count": 7,
   "metadata": {},
   "outputs": [
    {
     "name": "stdout",
     "output_type": "stream",
     "text": [
      "<class 'str'>\n"
     ]
    }
   ],
   "source": [
    "N = input()\n",
    "print(type(N))"
   ]
  }
 ],
 "metadata": {
  "kernelspec": {
   "display_name": "Python 3",
   "language": "python",
   "name": "python3"
  },
  "language_info": {
   "codemirror_mode": {
    "name": "ipython",
    "version": 3
   },
   "file_extension": ".py",
   "mimetype": "text/x-python",
   "name": "python",
   "nbconvert_exporter": "python",
   "pygments_lexer": "ipython3",
   "version": "3.9.2"
  },
  "orig_nbformat": 4
 },
 "nbformat": 4,
 "nbformat_minor": 2
}
