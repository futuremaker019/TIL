{
 "cells": [
  {
   "cell_type": "markdown",
   "metadata": {},
   "source": [
    "선택정렬\n",
    "\n",
    "처리되지 않은 데이터 중에서 가장 작은 데이터를 매번 찾고 맨 앞에 있는 데이터와 바꾸는 정렬\n"
   ]
  },
  {
   "cell_type": "code",
   "execution_count": 19,
   "metadata": {},
   "outputs": [
    {
     "name": "stdout",
     "output_type": "stream",
     "text": [
      "[5, 0, 1, 2, 3, 4, 6, 8, 7, 9]\n"
     ]
    }
   ],
   "source": [
    "array = [8, 2, 1, 0, 3, 4, 7, 9, 6, 5]\n",
    "\n",
    "for i in range(len(array)):\n",
    "  min_idx = i\n",
    "  for j in range(i + 1, len(array)):\n",
    "    if array[min_idx] > array[j]:                     # 현재 인덱스 위치의 값보다 작은 인덱스를 찾는다.\n",
    "      min_idx = j\n",
    "  array[i], array[min_idx] = array[min_idx], array[i]\n",
    "\n",
    "print(array)"
   ]
  },
  {
   "cell_type": "markdown",
   "metadata": {},
   "source": [
    "삽입정렬\n",
    "\n",
    "처리되지 않은 데이터를 하나씩 골라 적절한 위치에 삽입하는 정렬"
   ]
  },
  {
   "cell_type": "code",
   "execution_count": null,
   "metadata": {},
   "outputs": [],
   "source": [
    "array = [8, 2, 1, 0, 3, 4, 7, 9, 6, 5]\n",
    "\n"
   ]
  }
 ],
 "metadata": {
  "kernelspec": {
   "display_name": "Python 3",
   "language": "python",
   "name": "python3"
  },
  "language_info": {
   "codemirror_mode": {
    "name": "ipython",
    "version": 3
   },
   "file_extension": ".py",
   "mimetype": "text/x-python",
   "name": "python",
   "nbconvert_exporter": "python",
   "pygments_lexer": "ipython3",
   "version": "3.9.2"
  },
  "orig_nbformat": 4
 },
 "nbformat": 4,
 "nbformat_minor": 2
}
