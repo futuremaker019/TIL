{
 "cells": [
  {
   "cell_type": "code",
   "execution_count": 8,
   "metadata": {},
   "outputs": [
    {
     "name": "stdout",
     "output_type": "stream",
     "text": [
      "pivot 0\n",
      "left 1\n",
      "right 9\n",
      "pivot 0\n",
      "left 5\n",
      "right 4\n",
      "[1, 2, 3, 4, 5, 9, 8, 6, 7, 10]\n"
     ]
    }
   ],
   "source": [
    "# quick_sort\n",
    "# 피벗을 정해 왼쪽, 오른쪽에서 오는 값을 확인하여 교환\n",
    "# 왼쪽, 오른쪽으로 오는 인덱스가 교차시 피벗을 왼쪽 인덱스의 오른쪽 자리에 위치시킨다.\n",
    "\n",
    "\n",
    "\n",
    "# start와 end는 인덱스값이 들어간다.\n",
    "\n",
    "def quick_sort(array, start, end):\n",
    "  pivot = start\n",
    "  left = start + 1\n",
    "  right = end\n",
    "\n",
    "  print(\"pivot\", pivot)\n",
    "  print(\"left\", left)\n",
    "  print(\"right\", right)\n",
    "  \n",
    "  while (left <= right):\n",
    "    while (left < end and array[pivot] >= array[left]):\n",
    "      left += 1\n",
    "    while (right > start and array[pivot] <= array[right]):\n",
    "      right -= 1\n",
    "    if (left > right):\n",
    "      array[pivot], array[right] = array[right], array[pivot]\n",
    "    else:\n",
    "      array[left], array[right] = array[right], array[left]\n",
    "\n",
    "  print(\"pivot\", pivot)\n",
    "  print(\"left\", left)\n",
    "  print(\"right\", right)         # 교차는 무조건 된다\n",
    "  # quick_sort(array, start, left - 1)\n",
    "  # quick_sort(array, )\n",
    "\n",
    "array = [5, 7, 6, 8, 1, 9, 4, 3, 2, 10]\n",
    "\n",
    "quick_sort(array, 0, len(array) - 1)\n",
    "\n",
    "print(array)"
   ]
  }
 ],
 "metadata": {
  "kernelspec": {
   "display_name": "Python 3",
   "language": "python",
   "name": "python3"
  },
  "language_info": {
   "codemirror_mode": {
    "name": "ipython",
    "version": 3
   },
   "file_extension": ".py",
   "mimetype": "text/x-python",
   "name": "python",
   "nbconvert_exporter": "python",
   "pygments_lexer": "ipython3",
   "version": "3.9.2"
  },
  "orig_nbformat": 4
 },
 "nbformat": 4,
 "nbformat_minor": 2
}
