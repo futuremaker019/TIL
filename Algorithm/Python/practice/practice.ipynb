{
 "cells": [
  {
   "attachments": {},
   "cell_type": "markdown",
   "metadata": {},
   "source": [
    "거스름돈 반환하기"
   ]
  },
  {
   "cell_type": "code",
   "execution_count": 10,
   "metadata": {},
   "outputs": [
    {
     "name": "stdout",
     "output_type": "stream",
     "text": [
      "5000\n",
      "5000  원  1.0  개\n",
      "1000  원  5.0  개\n",
      "500  원  10.0  개\n",
      "100  원  50.0  개\n",
      "10  원  500.0  개\n",
      "1  원  5000.0  개\n"
     ]
    }
   ],
   "source": [
    "insert_price = '20000'\n",
    "product_price = '15000'\n",
    "change = int(insert_price) - int(product_price)\n",
    "print(change)\n",
    "\n",
    "currency_list  = [5000, 1000, 500, 100, 10, 1]\n",
    "rest = 0\n",
    "for i in currency_list :\n",
    "    count = change / i\n",
    "    \n",
    "    if (count != 0) :\n",
    "        print(i, \" 원 \", count, \" 개\" )\n",
    "        rest = change - (i * count)\n",
    "    else :\n",
    "        rest = change"
   ]
  }
 ],
 "metadata": {
  "kernelspec": {
   "display_name": "Python 3",
   "language": "python",
   "name": "python3"
  },
  "language_info": {
   "codemirror_mode": {
    "name": "ipython",
    "version": 3
   },
   "file_extension": ".py",
   "mimetype": "text/x-python",
   "name": "python",
   "nbconvert_exporter": "python",
   "pygments_lexer": "ipython3",
   "version": "3.11.3"
  },
  "orig_nbformat": 4
 },
 "nbformat": 4,
 "nbformat_minor": 2
}
