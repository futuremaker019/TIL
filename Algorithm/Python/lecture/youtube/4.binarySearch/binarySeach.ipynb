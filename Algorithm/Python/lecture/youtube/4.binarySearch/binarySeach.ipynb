{
 "cells": [
  {
   "cell_type": "markdown",
   "metadata": {},
   "source": [
    "#### 이진탐색\n",
    "\n",
    "- 이진탐색이란 target 값을 오름차순으로 정렬된 리스트에서 중간점(중간 인덱스)의 값과 비교하여 작으면 왼쪽구간으로 크면 오른쪽구간으로 변경하여 지속적으로 검색을 진행하는 방식이다.<br>\n",
    "- 이진탐색은 정렬이 된 리스트 or 배열을 사용해야 한다는 것에 주의하자<br>\n",
    "- 결과는 target의 위치인 index 값을 반환시킨다.<br>\n",
    "- 이진탐색은 재귀를 이용한 이진탐색과 반복을 이용한 이진탐색이 있다.<br>"
   ]
  },
  {
   "cell_type": "code",
   "execution_count": 14,
   "metadata": {},
   "outputs": [
    {
     "name": "stdout",
     "output_type": "stream",
     "text": [
      "15 7 [8, 3, 2, 10, 14, 12, 10, 7, 1, 5, 6, 4, 9, 11, 15]\n",
      "8\n"
     ]
    }
   ],
   "source": [
    "# 재귀를 이용한 이진탐색\n",
    "\n",
    "def binary_search_rec(array, target, start, end):\n",
    "    if start > end:\n",
    "        return None\n",
    "    mid = (start + end) // 2\n",
    "    if array[mid] == target:\n",
    "        return mid\n",
    "    elif array[mid] > target:\n",
    "        return binary_search_rec(array, target, start, mid - 1)\n",
    "    else:\n",
    "        return binary_search_rec(array, target, mid + 1, end)\n",
    "            \n",
    "n, target = list(map(int, input().split()))\n",
    "array = list(map(int, input().split()))\n",
    "\n",
    "# 1 3 5 7 9 11 13 15 17 19\n",
    "# 8 3 2 10 14 12 10 7 1 5 6 4 9 11 15\n",
    "print(n, target, array)\n",
    "\n",
    "result = binary_search_rec(array, target, 0, n - 1)\n",
    "if result == None:\n",
    "  print(\"target의 데이터가 없음\");\n",
    "else:\n",
    "  print(result + 1)"
   ]
  },
  {
   "cell_type": "code",
   "execution_count": 15,
   "metadata": {},
   "outputs": [
    {
     "name": "stdout",
     "output_type": "stream",
     "text": [
      "8\n"
     ]
    }
   ],
   "source": [
    "# 반복문을 이용한 이진탐색\n",
    "\n",
    "def binary_search_iter(array, targert, start, end):\n",
    "  if start > end:\n",
    "    return None\n",
    "  while(start < end):\n",
    "    mid = (start + end) // 2\n",
    "    if array[mid] == target:\n",
    "      return mid\n",
    "    elif array[mid] > target:\n",
    "      end = mid - 1\n",
    "    elif array[mid] < target:\n",
    "      start = mid + 1\n",
    "\n",
    "\n",
    "n, target = list(map(int, input().split()))\n",
    "array = list(map(int, input().split()))\n",
    "\n",
    "print(n, target, array)\n",
    "\n",
    "result = binary_search_iter(array, target, 0, n - 1)\n",
    "if result == None:\n",
    "  print(\"target의 데이터가 없음\");\n",
    "else:\n",
    "  print(result + 1)"
   ]
  },
  {
   "cell_type": "markdown",
   "metadata": {},
   "source": [
    "이진탐색의 시간복잡도\n",
    "- 단계마다 탐색 범위를 2로 나누는 것과 동일하므로 연산 횟수는 log<sub>2</sub>N 에 비례한다.\n",
    "- 이진탐색은 탐색 범위를 절반씩 줄이며, 시간 복잡도는 `O(logN)`을 보장한다."
   ]
  }
 ],
 "metadata": {
  "kernelspec": {
   "display_name": "Python 3",
   "language": "python",
   "name": "python3"
  },
  "language_info": {
   "codemirror_mode": {
    "name": "ipython",
    "version": 3
   },
   "file_extension": ".py",
   "mimetype": "text/x-python",
   "name": "python",
   "nbconvert_exporter": "python",
   "pygments_lexer": "ipython3",
   "version": "3.9.2"
  },
  "orig_nbformat": 4
 },
 "nbformat": 4,
 "nbformat_minor": 2
}
