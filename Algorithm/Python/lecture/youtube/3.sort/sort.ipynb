{
 "cells": [
  {
   "cell_type": "markdown",
   "metadata": {},
   "source": [
    "선택정렬\n",
    "\n",
    "처리되지 않은 데이터 중에서 가장 작은 데이터를 매번 찾고 맨 앞에 있는 데이터와 바꾸는 정렬\n"
   ]
  },
  {
   "cell_type": "code",
   "execution_count": 4,
   "metadata": {},
   "outputs": [
    {
     "name": "stdout",
     "output_type": "stream",
     "text": [
      "[5, 0, 1, 2, 3, 4, 6, 8, 7, 9]\n"
     ]
    }
   ],
   "source": [
    "array = [8, 2, 1, 0, 3, 4, 7, 9, 6, 5]\n",
    "\n",
    "for i in range(len(array)):\n",
    "  min_idx = i\n",
    "  for j in range(i + 1, len(array)):\n",
    "    if array[min_idx] > array[j]:                     # 현재 인덱스 위치의 값보다 작은 인덱스를 찾는다.\n",
    "      min_idx = j\n",
    "  array[i], array[min_idx] = array[min_idx], array[i]\n",
    "\n",
    "print(array)"
   ]
  },
  {
   "cell_type": "markdown",
   "metadata": {},
   "source": [
    "삽입정렬\n",
    "\n",
    "처리되지 않은 데이터를 하나씩 골라 적절한 위치에 삽입하는 정렬\n",
    "\n",
    "- 처음요소는 정렬이 되었다고 판단, 두번째 데이터가 어떤위치에 들어갈지 판단한다. 처음 요소의 앞, 뒤에 놓이도록한다.\n",
    "- 다음 요소는 앞에서 정렬한 요소들 중 어디에 위치할지 확인후 놓도록한다."
   ]
  },
  {
   "cell_type": "code",
   "execution_count": 2,
   "metadata": {},
   "outputs": [
    {
     "name": "stdout",
     "output_type": "stream",
     "text": [
      "[0, 1, 2, 3, 4, 5, 6, 7, 8, 9, 10]\n"
     ]
    }
   ],
   "source": [
    "array = [8, 2, 1, 0, 3, 4, 7, 9, 6, 5, 10]\n",
    "\n",
    "for i in range(1, len(array)):\n",
    "    for j in range(i, 0, -1):    \n",
    "        if array[j] < array[j - 1]:\n",
    "            array[j], array[j - 1] = array[j - 1], array[j]\n",
    "        else:\n",
    "            break;\n",
    "\n",
    "\n",
    "print(array)"
   ]
  },
  {
   "cell_type": "markdown",
   "metadata": {},
   "source": [
    "퀵 정렬\n",
    "\n",
    "- 기준 데이터를 설정하고 그 기준보다 큰 데이터와 작은 데이터의 위치를 바꾸는 방법\n",
    "- 가장 기본적인 퀵 정렬은 첫 번째 데이터를 기준 데이터(Pivot)로 설정한다.\n",
    "\n",
    "방법\n",
    "\n",
    "- 처음 수를 피벗이라고 명명하고 다음값과 마지막에서 시작한 다음값을 비교하여 피벗쪽 값이 작으면 서로 교환한다.\n",
    "- 왼쪽에서 오는 방향과 오른쪽에서 오는 방향이 서로 교차할 시, 피벗과 작은 데이터의 위치를 서로 변경한다.\n",
    "- 피벗을 기준으로 왼쪽에 있는 데이터는 피벗보다 작고, 오른쪽의 데이터는 피벗보다 크다. 이것을 분할이라고 한다. \n",
    "- 왼쪽은 왼쪽데로 오른쪽은 오른쪽데로 퀵 정렬을 다시 수행한다.\n",
    "  \n",
    "퀵 정렬이 빠른 이유\n",
    "- 이상적인 경우 분할이 절반씩 일어난다면 전체 연산 횟수로 O(NlogN)를 기대할 수 있다."
   ]
  },
  {
   "cell_type": "code",
   "execution_count": 16,
   "metadata": {},
   "outputs": [
    {
     "name": "stdout",
     "output_type": "stream",
     "text": [
      "[0, 1, 2, 3, 4, 5, 6, 7, 8, 9]\n"
     ]
    }
   ],
   "source": [
    "array = [8, 2, 1, 0, 3, 4, 7, 9, 6, 5]\n",
    "\n",
    "def quick_sort(array, start, end):\n",
    "    if start >= end:\n",
    "        return\n",
    "    pivot = start                   # 처음 원소를 피벗으로 정함\n",
    "    left = start + 1                # 다음 원소를 left로 정함\n",
    "    right = end                     # 마지막 완소를 right으로 정함\n",
    "    while(left <= right):\n",
    "        while(left <= end and array[left] <= array[pivot]):     # 피벗보다 큰 데이터를 찾을 땍까지 반복\n",
    "            left += 1\n",
    "        while(right > start and array[right] >= array[pivot]):  # 피벗보다 작은 데이터를 찾을 때까 반복\n",
    "            right -= 1\n",
    "        if(left > right):   # 엇갈렸다면 작은 데이터와 피벗을 교체\n",
    "            array[right], array[pivot] = array[pivot], array[right]\n",
    "        else:       # 엇갈리지 않았다면 작은데이터와 큰 데이터를 교체\n",
    "            array[left], array[right] = array[right], array[left]\n",
    "    # 분할 이후 왼쩍 부분과 오른쪽 부분에서 각각 정렬 수행\n",
    "    quick_sort(array, start, right - 1)\n",
    "    quick_sort(array, right + 1, end)\n",
    "\n",
    "quick_sort(array, 0, len(array) - 1)\n",
    "print(array)"
   ]
  }
 ],
 "metadata": {
  "kernelspec": {
   "display_name": "Python 3",
   "language": "python",
   "name": "python3"
  },
  "language_info": {
   "codemirror_mode": {
    "name": "ipython",
    "version": 3
   },
   "file_extension": ".py",
   "mimetype": "text/x-python",
   "name": "python",
   "nbconvert_exporter": "python",
   "pygments_lexer": "ipython3",
   "version": "3.11.3"
  },
  "orig_nbformat": 4
 },
 "nbformat": 4,
 "nbformat_minor": 2
}
