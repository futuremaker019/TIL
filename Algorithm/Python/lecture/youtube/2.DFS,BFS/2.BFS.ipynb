{
 "cells": [
  {
   "cell_type": "markdown",
   "metadata": {},
   "source": [
    "- `BFS`는 `너비우선탐색`이라고도 부르며, 그래프에서 가까운 노드부터 우선적으로 탐색하는 알고리즘 이다.\n",
    "- `BFS`는 큐 자료구조를 이용하며, 구체적인 동작 과정은 다음과 같다.\n",
    "  1. 탐색 시작 노드를 큐에 삽입하고 방문 처리한다.\n",
    "  2. 큐에서 노드를 꺼낸 뒤에 해당 노드의 인접 노드 중에서 방문하지 않은 노드를 모두 큐에 삽입하고 방문 처리한다.\n",
    "  3. 더 이상 2번의 과정을 수행할 수 없을 떄까지 반복한다.\n",
    "\n",
    "> 각 간선에서 최단거리를 구하는 목적의 문제를 풀때 사용되는 점도 인지하자."
   ]
  },
  {
   "cell_type": "code",
   "execution_count": 1,
   "metadata": {},
   "outputs": [
    {
     "name": "stdout",
     "output_type": "stream",
     "text": [
      "1 2 3 8 7 4 5 6 "
     ]
    }
   ],
   "source": [
    "# 각 노드가 연결된 정보를 표현 (2차원 리스트) - 처음 시작하는 노드는 비워준단다.\n",
    "graph = [\n",
    "    [],\n",
    "    [2, 3, 8],\n",
    "    [1, 7],\n",
    "    [1, 4, 5],\n",
    "    [3, 5],\n",
    "    [3, 4],\n",
    "    [7],\n",
    "    [2, 6, 8],\n",
    "    [1, 7]\n",
    "]\n",
    "\n",
    "# 각 노드가 방문된 정보를 표현 (1차원 리스트)\n",
    "visited = [False] * 9\n",
    "\n",
    "from collections import deque\n",
    "\n",
    "def bfs(graph, start, visited):\n",
    "    queue = deque([start])        # start하는 숫자를 리스트 형태로 큐 라이브러리에 넣어준다.\n",
    "    visited[start] = True         # 현재 노드를 방문처리\n",
    "    while queue:                  # 큐가 빌 때까지 반복\n",
    "        v = queue.popleft()       # 큐에서 하나의 원소를 뽑아 출력하기\n",
    "        print(v, end=' ')     \n",
    "        for i in graph[v]:        # start로 시작한 인덱스번쨰의 자식노드들을 가져와 for문을 돌려준다.\n",
    "            if not visited[i]:    # 방문한 노드가 아니라면 (visited가 False라면)\n",
    "              queue.append(i)     # 자식노드 정보를 Queue에 담아준 후\n",
    "              visited[i] = True   # 방문한 노드라고 정의해준다.\n",
    "\n",
    "bfs(graph, 1, visited)"
   ]
  }
 ],
 "metadata": {
  "kernelspec": {
   "display_name": "Python 3",
   "language": "python",
   "name": "python3"
  },
  "language_info": {
   "codemirror_mode": {
    "name": "ipython",
    "version": 3
   },
   "file_extension": ".py",
   "mimetype": "text/x-python",
   "name": "python",
   "nbconvert_exporter": "python",
   "pygments_lexer": "ipython3",
   "version": "3.9.2"
  },
  "orig_nbformat": 4
 },
 "nbformat": 4,
 "nbformat_minor": 2
}
