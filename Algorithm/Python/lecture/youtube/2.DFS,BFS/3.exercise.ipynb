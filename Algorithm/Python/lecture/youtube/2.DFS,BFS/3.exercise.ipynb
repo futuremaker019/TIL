{
 "cells": [
  {
   "cell_type": "markdown",
   "metadata": {},
   "source": [
    "음료수 얼려먹기\n",
    "\n",
    "- N x M 크기의 얼음 틀이 있다. 구멍이 뚤려 있는 부분은 0, 칸막이가 존재하는 부분은 1로 표시됨\n",
    "- 구멍이 뚫려 있는 부분끼리 상, 하, 좌, 우로 붙어 있는 경우 서로 연결되어 있는 것으로 간주함\n",
    "- 이때 얼음 틀의 모양이 주어졌을때 생성되는 총 아이스크림의 개수를 구하는 프로그램을 작성\n",
    "- (4 x 5 얼음 틀 예시에서는 아이스크림이 총 3개 생성됨)\n",
    "\n",
    "\n",
    "00110\n",
    "00011\n",
    "11111\n",
    "00000\n",
    "\n",
    "커넥티드 컴포넌트를 찾는 문제"
   ]
  },
  {
   "cell_type": "code",
   "execution_count": 26,
   "metadata": {},
   "outputs": [
    {
     "name": "stdout",
     "output_type": "stream",
     "text": [
      "4\n",
      "5\n",
      "[[1, 1, 1, 0, 0], [1, 0, 1, 0, 1], [0, 0, 1, 1, 1], [1, 1, 1, 0, 0]]\n"
     ]
    }
   ],
   "source": [
    "# 어떤 모양이 될건지 입력받기 4 X 5\n",
    "n, m = map(int, input().split())\n",
    "\n",
    "print(n)\n",
    "print(m)\n",
    "\n",
    "graph = []\n",
    "for i in range(n):\n",
    "    graph.append(list(map(int, input())))\n",
    "\n",
    "print(graph)\n",
    "\n",
    "# result = 0\n",
    "# for i in range(n):\n",
    "#     for j in range(m):\n",
    "#         print(n, m)\n",
    "#         result += 1\n",
    "#         print(result)\n",
    "\n",
    "\n",
    "\n"
   ]
  }
 ],
 "metadata": {
  "kernelspec": {
   "display_name": "Python 3",
   "language": "python",
   "name": "python3"
  },
  "language_info": {
   "codemirror_mode": {
    "name": "ipython",
    "version": 3
   },
   "file_extension": ".py",
   "mimetype": "text/x-python",
   "name": "python",
   "nbconvert_exporter": "python",
   "pygments_lexer": "ipython3",
   "version": "3.11.3"
  },
  "orig_nbformat": 4
 },
 "nbformat": 4,
 "nbformat_minor": 2
}
