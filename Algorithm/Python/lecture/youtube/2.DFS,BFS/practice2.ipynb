{
 "cells": [
  {
   "cell_type": "code",
   "execution_count": null,
   "metadata": {},
   "outputs": [],
   "source": []
  },
  {
   "cell_type": "code",
   "execution_count": 4,
   "metadata": {},
   "outputs": [
    {
     "name": "stdout",
     "output_type": "stream",
     "text": [
      "5 5\n",
      "[[1, 1, 1, 1, 1], [1, 2, 1, 2, 1, 2], [1, 1, 1, 1, 1], [3, 3, 3, 3, 3], [1, 1, 1, 1, 1]]\n"
     ]
    }
   ],
   "source": [
    "n, m = map(int, input().split())\n",
    "\n",
    "print(n, m)\n",
    "\n",
    "graph = []\n",
    "for i in range(n):\n",
    "    graph.append(list(map(int, input())))\n",
    "\n",
    "print(graph)\n"
   ]
  },
  {
   "cell_type": "code",
   "execution_count": null,
   "metadata": {},
   "outputs": [],
   "source": [
    "n, m = map(int, input().split())\n",
    "\n",
    "graph = []\n",
    "for i in range(n):  # 세로만큼 가로에 들어갈 수를 넣어준다.\n",
    "    graph.append(list(map(int, input())))\n",
    "\n",
    "\n",
    "# 상하좌우를 방문하여 값이 0이면 1로변경시키는 작업을 1의 값을 만나는 순간까지 계속 진행시킨다.\n",
    "# 상하좌우로 전의되면서 \n",
    "def dfs(x, y):\n",
    "    if x <= -1 or x >=n or y <= -1 or y >= m:   # x와 n을 비교한다 x는 세로다\n",
    "        return False\n",
    "    if graph[x][y] == 0:\n",
    "        graph[x][y] = 1\n",
    "        dfs(x - 1, y)   # 위  \n",
    "        dfs(x, y - 1)   # 왼쪽\n",
    "        dfs(x + 1, y)   # 아래\n",
    "        dfs(x, y + 1)   # 오른쪽\n",
    "        return True     # 방문 했다면 True를 반환하게하여 count를 증가시킨다.\n",
    "    return False\n",
    "\n",
    "result = 0\n",
    "for i in range(n):\n",
    "    for j in range(m):\n",
    "        if dfs(i, j) == True:\n",
    "            result += 1\n",
    "\n",
    "print(result)"
   ]
  },
  {
   "cell_type": "markdown",
   "metadata": {},
   "source": [
    "미로탈출 문제\n",
    "\n",
    "- 미로는 N X M 크기의 직사각형 형태의 미로이다.\n",
    "- 탈출자의 위치는 (1, 1)이며 미로의 출구는 (N, M)에 위치한다. 한번에 한칸씩만 이동할 수 있다.\n",
    "- 괴물의 위치는 0, 괴물이 없는 위치는 1로 표시되며 미로는 반드시 탈출할수 있는 형식으로 제공됨\n",
    "- 최소한으로 탈출 할 수 있는 최소칸의 수를 구하라. (시작칸과 마지막칸을 모두 포함해서 계산한다.)"
   ]
  },
  {
   "cell_type": "code",
   "execution_count": 9,
   "metadata": {},
   "outputs": [
    {
     "name": "stdout",
     "output_type": "stream",
     "text": [
      "1 2\n"
     ]
    }
   ],
   "source": [
    "from collections import deque\n",
    "\n",
    "# n(세로) x m(가로) 미로 만들기\n",
    "n, m = map(int, input().split())\n",
    "\n",
    "# 2차원 리스트 만들기\n",
    "graph = []\n",
    "for i in range(n):\n",
    "    graph.append(list(map(int, input())))\n",
    "\n",
    "\n",
    "def dfs(x, y, value):\n",
    "    if x <= -1 or x >= n or y <= -1 or y >= m:\n",
    "        return False\n",
    "    if graph[x][y] == 1:\n",
    "        graph[x][y] = 0\n",
    "        value += 1\n",
    "        # 1을 찾는 방향으로 이동하도록 만들어줘야한다.\n",
    "        dfs(x - 1, )\n",
    "\n",
    "\n",
    "result = 1\n",
    "for i in range(n):\n",
    "    for j in range(m):\n",
    "        if dfs(i, j) == True:\n",
    "            result += 1\n",
    "\n"
   ]
  },
  {
   "cell_type": "code",
   "execution_count": 11,
   "metadata": {},
   "outputs": [
    {
     "name": "stdout",
     "output_type": "stream",
     "text": [
      "0 0\n"
     ]
    }
   ],
   "source": [
    "from collections import deque\n",
    "\n",
    "queue = deque()\n",
    "queue.append((0, 0))\n",
    "\n",
    "x, y = queue.popleft()\n",
    "\n",
    "print(x, y)"
   ]
  }
 ],
 "metadata": {
  "kernelspec": {
   "display_name": "Python 3",
   "language": "python",
   "name": "python3"
  },
  "language_info": {
   "codemirror_mode": {
    "name": "ipython",
    "version": 3
   },
   "file_extension": ".py",
   "mimetype": "text/x-python",
   "name": "python",
   "nbconvert_exporter": "python",
   "pygments_lexer": "ipython3",
   "version": "3.11.3"
  },
  "orig_nbformat": 4
 },
 "nbformat": 4,
 "nbformat_minor": 2
}
