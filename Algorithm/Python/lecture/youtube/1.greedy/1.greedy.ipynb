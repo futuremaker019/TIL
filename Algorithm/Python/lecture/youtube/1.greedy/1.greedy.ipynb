{
 "cells": [
  {
   "attachments": {},
   "cell_type": "markdown",
   "metadata": {},
   "source": [
    "- 어떠한 수 N이 1이 될때까지 다음의 두 과정 중 하나를 반복적으로 선택하여 수행한다. 단 두 번째 연산은 N이 K로 나누어 떨어질 때만 선택할 수 있다.\n",
    "\n",
    "1. N에서 1을 뺍니다.\n",
    "2. N을 K로 나눕니다.\n",
    "\n",
    "- N이 17, K가 4일 때, 1번의 과정으로 N은 16이 됩니다. 이후 2번의 과정을 두 번 수행하면 N이 1이 된다.\n",
    "- N과 K가 주어질떄 N이 1이 될 떄까지 1번 혹은 2번의 과정을 수행해야 하는 최소 횟수를 구하는 프로그램을 작성하라"
   ]
  },
  {
   "cell_type": "code",
   "execution_count": 7,
   "metadata": {},
   "outputs": [
    {
     "name": "stdout",
     "output_type": "stream",
     "text": [
      "<class 'str'>\n"
     ]
    }
   ],
   "source": [
    "N = input()\n",
    "print(type(N))"
   ]
  },
  {
   "cell_type": "markdown",
   "metadata": {},
   "source": [
    "소수를 구하라\n",
    "\n",
    "1. 제곱근의 수를 사용하여 구한다.\n",
    "  - 제곱근을 기준으로 순차적으로 처음수와 끝수의 합을 이뤄주는 수가 1과 자기 자신말고 다른수가 존재시 소수가 될수 없다.\n",
    "  \n",
    "\n",
    "```python\n",
    "for i range(2, int(math.sqrt(n)) + 1) :\n",
    "```\n",
    "\n",
    "2. 에라토스테네스의 체를 이용하여 구한다.\n",
    "  - 지정된 범위 내에서 2로 나누어 떨어지는 수, 3으로 나누어 떨어지는 수... 등등 n으로 나누어 떨어지는 수를 차례로 제외시킨다."
   ]
  },
  {
   "cell_type": "markdown",
   "metadata": {},
   "source": [
    "피보나치 수열의 n번쨰 수를 구하라\n",
    "\n",
    "1. 재귀함수를 이용하여 구한다.\n",
    "2. 메모이제이션 방식으로 구한다.\n",
    "  - 먼저 구해진 수열의 값을 딕셔너리에 저장하여 바로 찾아온다."
   ]
  },
  {
   "cell_type": "code",
   "execution_count": 16,
   "metadata": {},
   "outputs": [
    {
     "data": {
      "text/plain": [
       "8"
      ]
     },
     "execution_count": 16,
     "metadata": {},
     "output_type": "execute_result"
    }
   ],
   "source": [
    "def toto(n) :\n",
    "  # 종료 조건으로 모두 1을 반환하도록 설정해 놓는다.\n",
    "  if (n == 1) or (n == 2):\n",
    "    return 1\n",
    "  \n",
    "  return toto(n - 2) + toto(n - 1)\n",
    "\n",
    "toto(6)\n",
    "\n",
    "# toto(4)\n"
   ]
  },
  {
   "cell_type": "markdown",
   "metadata": {},
   "source": [
    "거스름돈\n",
    "\n",
    "- 거스름돈은 500원, 100원. 50원, 10원으로 동전은 무한히 존재함\n",
    "- 거슬러 줘야할 동전의 최소 개수를 구하라. 단, 거슬러 줘야할 돈 N은 항상 10의 배수이다.\n",
    "\n",
    "<br>\n",
    "\n",
    "- 소스의 시간복잡도는 O(k) => 코인의 개수만큼 나눠주면 되기때문에 "
   ]
  },
  {
   "cell_type": "code",
   "execution_count": null,
   "metadata": {},
   "outputs": [],
   "source": [
    "n = int(input())\n",
    "\n",
    "coins = [500, 100, 50, 10]\n",
    "\n",
    "count = 0\n",
    "for i in coins:\n",
    "  thisCount = n // i\n",
    "  count += thisCount\n",
    "  n = n - (i * thisCount)\n",
    "\n",
    "print(count)\n",
    "print(n)"
   ]
  },
  {
   "cell_type": "code",
   "execution_count": null,
   "metadata": {},
   "outputs": [],
   "source": [
    "n = 1250\n",
    "count = 0\n",
    "\n",
    "coins = [500, 100, 50, 10]\n",
    "\n",
    "for coin in coins:\n",
    "  count += n // coin\n",
    "  n %= coin\n",
    "\n",
    "print(n)\n",
    "print(count)"
   ]
  },
  {
   "cell_type": "markdown",
   "metadata": {},
   "source": [
    "어떠한수가 1이 될떄까지 \n",
    "\n",
    "N이 1이 될떄까지 다음 두과정을 반복한다.\n",
    "\n",
    "- N에서 1을 뺍니다.\n",
    "- N을 K로 나눕니다."
   ]
  },
  {
   "cell_type": "code",
   "execution_count": null,
   "metadata": {},
   "outputs": [],
   "source": [
    "n = 21\n",
    "k = 4\n",
    "\n",
    "count = 0\n",
    "\n",
    "while n != 1:\n",
    "  if n % k != 0:\n",
    "    n -= 1\n",
    "    count += 1\n",
    "  else:\n",
    "    n = n // k\n",
    "    count += 1\n",
    "\n",
    "print(count)"
   ]
  },
  {
   "cell_type": "code",
   "execution_count": 33,
   "metadata": {},
   "outputs": [
    {
     "name": "stdout",
     "output_type": "stream",
     "text": [
      "48\n"
     ]
    }
   ],
   "source": [
    "# 풀이\n",
    "\n",
    "n = 50\n",
    "k = 3\n",
    "\n",
    "result = 0\n",
    "\n",
    "while True:\n",
    "  target = (n // k) * k     # k로 나눌수 있는 값으로 찾는다. target == 48\n",
    "\n",
    "  # k로 나눌수 있는 값을 n에 뺀 값을 result에 넣는다?  result = 2 , \n",
    "  # result가 1을 빼야하는 횟수가 된다는 말이구나\n",
    "  result += (n - target);   \n",
    "  n = target        # n == 48\n",
    "  if n < k:\n",
    "    break\n",
    "  result += 1       # result == 3\n",
    "  n //= k           # n == 16   n을 k로 나누어 n을 다시 초기화 시키면\n",
    "\n",
    "print(target)\n",
    "\n"
   ]
  }
 ],
 "metadata": {
  "kernelspec": {
   "display_name": "Python 3",
   "language": "python",
   "name": "python3"
  },
  "language_info": {
   "codemirror_mode": {
    "name": "ipython",
    "version": 3
   },
   "file_extension": ".py",
   "mimetype": "text/x-python",
   "name": "python",
   "nbconvert_exporter": "python",
   "pygments_lexer": "ipython3",
   "version": "3.9.2"
  },
  "orig_nbformat": 4
 },
 "nbformat": 4,
 "nbformat_minor": 2
}
