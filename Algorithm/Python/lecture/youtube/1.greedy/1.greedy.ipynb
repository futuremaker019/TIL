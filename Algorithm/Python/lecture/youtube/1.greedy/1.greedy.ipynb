{
 "cells": [
  {
   "attachments": {},
   "cell_type": "markdown",
   "metadata": {},
   "source": [
    "- 어떠한 수 N이 1이 될때까지 다음의 두 과정 중 하나를 반복적으로 선택하여 수행한다. 단 두 번째 연산은 N이 K로 나누어 떨어질 때만 선택할 수 있다.\n",
    "\n",
    "1. N에서 1을 뺍니다.\n",
    "2. N을 K로 나눕니다.\n",
    "\n",
    "- N이 17, K가 4일 때, 1번의 과정으로 N은 16이 됩니다. 이후 2번의 과정을 두 번 수행하면 N이 1이 된다.\n",
    "- N과 K가 주어질떄 N이 1이 될 떄까지 1번 혹은 2번의 과정을 수행해야 하는 최소 횟수를 구하는 프로그램을 작성하라"
   ]
  },
  {
   "cell_type": "code",
   "execution_count": 7,
   "metadata": {},
   "outputs": [
    {
     "name": "stdout",
     "output_type": "stream",
     "text": [
      "<class 'str'>\n"
     ]
    }
   ],
   "source": [
    "N = input()\n",
    "print(type(N))"
   ]
  },
  {
   "cell_type": "markdown",
   "metadata": {},
   "source": [
    "소수를 구하라\n",
    "\n",
    "1. 제곱근의 수를 사용하여 구한다.\n",
    "  - 제곱근을 기준으로 순차적으로 처음수와 끝수의 합을 이뤄주는 수가 1과 자기 자신말고 다른수가 존재시 소수가 될수 없다.\n",
    "  \n",
    "\n",
    "```python\n",
    "for i range(2, int(math.sqrt(n)) + 1) :\n",
    "```\n",
    "\n",
    "2. 에라토스테네스의 체를 이용하여 구한다.\n",
    "  - 지정된 범위 내에서 2로 나누어 떨어지는 수, 3으로 나누어 떨어지는 수... 등등 n으로 나누어 떨어지는 수를 차례로 제외시킨다."
   ]
  },
  {
   "cell_type": "markdown",
   "metadata": {},
   "source": [
    "피보나치 수열의 n번쨰 수를 구하라\n",
    "\n",
    "1. 재귀함수를 이용하여 구한다.\n",
    "2. 메모이제이션 방식으로 구한다.\n",
    "  - 먼저 구해진 수열의 값을 딕셔너리에 저장하여 바로 찾아온다."
   ]
  },
  {
   "cell_type": "code",
   "execution_count": 16,
   "metadata": {},
   "outputs": [
    {
     "data": {
      "text/plain": [
       "8"
      ]
     },
     "execution_count": 16,
     "metadata": {},
     "output_type": "execute_result"
    }
   ],
   "source": [
    "def toto(n) :\n",
    "  # 종료 조건으로 모두 1을 반환하도록 설정해 놓는다.\n",
    "  if (n == 1) or (n == 2):\n",
    "    return 1\n",
    "  \n",
    "  return toto(n - 2) + toto(n - 1)\n",
    "\n",
    "toto(6)\n",
    "\n",
    "# toto(4)\n"
   ]
  },
  {
   "cell_type": "markdown",
   "metadata": {},
   "source": [
    "거스름돈\n",
    "\n",
    "- 거스름돈은 500원, 100원. 50원, 10원으로 동전은 무한히 존재함\n",
    "- 거슬러 줘야할 동전의 최소 개수를 구하라. 단, 거슬러 줘야할 돈 N은 항상 10의 배수이다.\n",
    "\n",
    "<br>\n",
    "\n",
    "- 소스의 시간복잡도는 O(k) => 코인의 개수만큼 나눠주면 되기때문에 "
   ]
  },
  {
   "cell_type": "code",
   "execution_count": null,
   "metadata": {},
   "outputs": [],
   "source": [
    "n = int(input())\n",
    "\n",
    "coins = [500, 100, 50, 10]\n",
    "\n",
    "count = 0\n",
    "for i in coins:\n",
    "  thisCount = n // i\n",
    "  count += thisCount\n",
    "  n = n - (i * thisCount)\n",
    "\n",
    "print(count)\n",
    "print(n)"
   ]
  },
  {
   "cell_type": "code",
   "execution_count": null,
   "metadata": {},
   "outputs": [],
   "source": [
    "n = 1250\n",
    "count = 0\n",
    "\n",
    "coins = [500, 100, 50, 10]\n",
    "\n",
    "for coin in coins:\n",
    "  count += n // coin\n",
    "  n %= coin\n",
    "\n",
    "print(n)\n",
    "print(count)"
   ]
  },
  {
   "cell_type": "markdown",
   "metadata": {},
   "source": [
    "어떠한수가 1이 될떄까지 \n",
    "\n",
    "N이 1이 될떄까지 다음 두과정을 반복한다.\n",
    "\n",
    "- N에서 1을 뺍니다.\n",
    "- N을 K로 나눕니다."
   ]
  },
  {
   "cell_type": "code",
   "execution_count": null,
   "metadata": {},
   "outputs": [],
   "source": [
    "n = 21\n",
    "k = 4\n",
    "\n",
    "count = 0\n",
    "\n",
    "while n != 1:\n",
    "  if n % k != 0:\n",
    "    n -= 1\n",
    "    count += 1\n",
    "  else:\n",
    "    n = n // k\n",
    "    count += 1\n",
    "\n",
    "print(count)"
   ]
  },
  {
   "cell_type": "code",
   "execution_count": 33,
   "metadata": {},
   "outputs": [
    {
     "name": "stdout",
     "output_type": "stream",
     "text": [
      "48\n"
     ]
    }
   ],
   "source": [
    "# 풀이\n",
    "\n",
    "n = 50\n",
    "k = 3\n",
    "\n",
    "result = 0\n",
    "\n",
    "while True:\n",
    "  target = (n // k) * k     # k로 나눌수 있는 값으로 찾는다. target == 48\n",
    "\n",
    "  # k로 나눌수 있는 값을 n에 뺀 값을 result에 넣는다?  result = 2 , \n",
    "  # result가 1을 빼야하는 횟수가 된다는 말이구나\n",
    "  result += (n - target);   \n",
    "  n = target        # n == 48\n",
    "  if n < k:\n",
    "    break\n",
    "  result += 1       # result == 3\n",
    "  n //= k           # n == 16   n을 k로 나누어 n을 다시 초기화 시키면\n",
    "\n",
    "print(target)\n",
    "\n"
   ]
  },
  {
   "cell_type": "code",
   "execution_count": null,
   "metadata": {},
   "outputs": [],
   "source": [
    "\"\"\"\n",
    "1이 될때까지\n",
    "\"\"\"\n",
    "\n",
    "n = 11\n",
    "k = 3\n",
    "\n",
    "result = 0\n",
    "\n",
    "while True:\n",
    "    target = (n // k) * k       # 48 = (50 // 3) * 3    -> 몫에 나눈값을 다시 곱해 다음 타겟넘버를 생성\n",
    "    result += (n - target)      # 2 = (50 - 48)         -> 1을 몇번 더해야 하는지 \n",
    "    n = target                  # 50 = 48               -> 다음 타겟넘버\n",
    "\n",
    "    print(\"target : \", target)\n",
    "    print(\"+1 result : \", result)\n",
    "\n",
    "    if n < k:\n",
    "        break\n",
    "\n",
    "    # 나누는 연산 행위에 대한 값도 result에 포함되어야 하기 때문에 나눌때마다 1을 더해준다.\n",
    "    result += 1                 \n",
    "    print(n // k)\n",
    "    n //= k     # 나눈 몫을 n에 다시 넣어줌 \n",
    "    \n",
    "\n",
    "    print(\"// result : \", result)\n",
    "\n",
    "# 마지막 n을 k로 나눌때는 무조건 자기 자신을 나누게 되는 꼴이 된다.\n",
    "# 그러므로 n은 1이 되고 (n // k) * k 시 target은 0이 된다.\n",
    "# 때문에 마지막 n은 0이 되고 \n",
    "result += (n - 1)\n",
    "print()\n",
    "print(\"n : \", n)\n",
    "print(\"result: \", result)"
   ]
  },
  {
   "cell_type": "code",
   "execution_count": null,
   "metadata": {},
   "outputs": [],
   "source": [
    "\"\"\"\n",
    "곱하기 혹은 더하기\n",
    "\n",
    "각 자리 숫자(0 ~ 9)로만 이루어진 문자열 S가 주어졌을때 \n",
    "왼쩍부터 오른쪽으로 하나씩 모든 숫자를 학인하며 숫자 사이에 x 혹은 + 연산자를 넣어\n",
    "결과적으로 만들어진 가장 큰 수를 구하는 프로그램을 작성한다.\n",
    "\n",
    "모든 연산은 왼쪽에서 부터 순서대로 이루어진다.\n",
    "\n",
    "ex) 02984 -> ((((0 + 2) X 9) X 8)X 4) = 576\n",
    "\n",
    "또한 만들어질수 있는 가장 큰 수는 항상 20억 이하의 정수가 되도록 입력이 주어진다.\n",
    "\"\"\"\n",
    "\n",
    "# n = input()\n",
    "n = \"0010102984\"\n",
    "\n",
    "sum = 0\n",
    "\n",
    "# 0일때 곱하기가 되는것을 최대한 방지해야 한다.\n",
    "# sum이 0일때, i가 0일때\n",
    "\n",
    "for num in n:\n",
    "    i = int(num)\n",
    "    if i == 0 or i == 1:\n",
    "        sum += i\n",
    "    else:\n",
    "        if sum == 0:\n",
    "            sum += i\n",
    "        else:\n",
    "            sum *= i\n",
    "\n",
    "print(sum)\n"
   ]
  },
  {
   "cell_type": "code",
   "execution_count": null,
   "metadata": {},
   "outputs": [],
   "source": [
    "# 풀이\n",
    "\n",
    "data = input()\n",
    "\n",
    "# 첫 번째 문자를 숫자로 변경하여 대입\n",
    "result = in(data[0])\n",
    "\n",
    "for i in range(1, len(data)):\n",
    "    # 두 수 중에서 하나라도 0 또는 1인 경우, 곱하기보다는 더하기 수행\n",
    "    num = int(data[i])\n",
    "    if num <= 1 or result <= 1:\n",
    "        result += num\n",
    "    else:\n",
    "        result *= num\n",
    "\n"
   ]
  },
  {
   "cell_type": "code",
   "execution_count": 12,
   "metadata": {},
   "outputs": [
    {
     "name": "stdout",
     "output_type": "stream",
     "text": [
      "6 4\n"
     ]
    }
   ],
   "source": [
    "\"\"\"\n",
    "방향전환 문제\n",
    "\n",
    "- 2차원 배열에서 'R - R - R - U - D - D' 방향으로 이동하여 최종 인덱스를 반환한다.\n",
    "- 시작점은 (1, 1) 이다.\n",
    "\n",
    "입력\n",
    "1. 공간의 크기              (1 <= N <= 100)\n",
    "2. 여행가가 이동할 계획서    (1 <= 이동횟수 <= 100)\n",
    "\n",
    "5\n",
    "R R R U D D\n",
    "\"\"\"\n",
    "\n",
    "travel = list(map(str, input().split()))\n",
    "\n",
    "graph = [\n",
    "  [0, 0, 0, 0, 0, 0],\n",
    "  [0, 0, 0, 0, 0, 0],\n",
    "  [0, 0, 0, 0, 0, 0],\n",
    "  [0, 0, 0, 0, 0, 0],\n",
    "  [0, 0, 0, 0, 0, 0],\n",
    "  [0, 0, 0, 0, 0, 0],\n",
    "]\n",
    "\n",
    "n = 6\n",
    "\n",
    "#     남 북 서 동\n",
    "dy = [-1, 1, 0, 0]\n",
    "dx = [0, 0, -1, 1]\n",
    "\n",
    "def move(x, y):\n",
    "  for key in travel:\n",
    "    if key == \"R\":\n",
    "      if n > x:\n",
    "        x += 1\n",
    "    if key == \"L\":\n",
    "      if x > 0:\n",
    "        x -= 1\n",
    "    if key == \"D\":\n",
    "      if n > y:\n",
    "        y += 1\n",
    "    if key == \"U\":\n",
    "      if y > 0:\n",
    "        y -= 1\n",
    "\n",
    "  print(x + 1, y + 1)\n",
    "\n",
    "move(0, 0)      "
   ]
  },
  {
   "cell_type": "code",
   "execution_count": 14,
   "metadata": {},
   "outputs": [
    {
     "name": "stdout",
     "output_type": "stream",
     "text": [
      "6 4\n"
     ]
    }
   ],
   "source": [
    "\"\"\"\n",
    "6\n",
    "R R R U D D\n",
    "\"\"\"\n",
    "\n",
    "# 풀이\n",
    "\n",
    "# n 입력 받기\n",
    "n = int(input())\n",
    "x, y = 1, 1\n",
    "plans = input().split()\n",
    "\n",
    "dx = [-1, 1, 0, 0]\n",
    "dy = [0, 0, -1, 1]\n",
    "move_types = ['L', 'R', 'U', 'D']\n",
    "\n",
    "# 이동 계획을 하나식 확인하기\n",
    "for plan in plans:\n",
    "    # 이동 후 좌표 구하기\n",
    "    for i in range(len(move_types)):\n",
    "        if plan == move_types[i]:\n",
    "            nx = x + dx[i]\n",
    "            ny = y + dy[i]\n",
    "    # 초기화된 nx와 ny가 공간을 벗어나는 경우 x, y에 반영되지 못하게 된다.\n",
    "    if nx < 1 or ny < 1 or nx > n or ny > n:\n",
    "        continue\n",
    "    # 초기화된 값을 x, y에 대입한다.\n",
    "    x, y = nx, ny\n",
    "\n",
    "print(x, y)"
   ]
  },
  {
   "cell_type": "code",
   "execution_count": null,
   "metadata": {},
   "outputs": [],
   "source": [
    "\"\"\"\n",
    "00시 00분 00초부터 N시 59분 59초까지의 모든 시각 중에서 \n",
    "3이 하나라도 포함되는 모든 걍우의 수를 출력하라.\n",
    "\n",
    "입력조건 : 첫째 줄에 정수 N이 입력된다. (0 <= N <= 23)\n",
    "출력조건 : 00시 00분 00초부터 N시 59분 59초까지의 모든 시각 중에서 3이 하나라도 포함되는 모든 경우의 수를 출력한다.\n",
    "\n",
    "입력 : 5   출력 예시 : 11475\n",
    "\"\"\"\n",
    "\n",
    "\"\"\"\n",
    "1분에 몇개의 3이 나오나 \n",
    "- \n",
    "\"\"\"\n",
    "\n",
    "# 3 13 23 30 ~ 33 ~ 39 43 53\n",
    "\n",
    "# 1분에 16개\n",
    "# 59분에 \n",
    "\n",
    "# n = int(input())\n",
    "\n",
    "# count = 0\n",
    "# for i in range(60):\n",
    "#   for k in str(i):\n",
    "#     if(k == \"3\"):\n",
    "#       count += 1\n",
    "\n",
    "\n",
    "# # 1분 60초 - 3의 개수는 16게\n",
    "# # 1시간 60분 - 3의 개수는 16개\n",
    "\n",
    "# answer = (n * 16) + (5 * 60 * 16)\n",
    "\n",
    "# print(answer)\n",
    "\n",
    "count = 0\n",
    "for i in range(40):\n",
    "  if '3' in str(i):\n",
    "    print(i)\n",
    "    count += 1\n",
    "\n",
    "print(count)"
   ]
  },
  {
   "cell_type": "code",
   "execution_count": null,
   "metadata": {},
   "outputs": [],
   "source": [
    "# 풀이\n",
    "\"\"\"\n",
    "모든 시간을 전부 돌면서 \n",
    "\"\"\"\n",
    "h = int(input())\n",
    "\n",
    "count = 0\n",
    "for i in range(h + 1):\n",
    "  for j in range(60):\n",
    "    for k in range(60):\n",
    "      print(str(i) + str(j) + str(k), end=\" \")\n",
    "      if '3' in str(i) + str(j) + str(k):\n",
    "\n",
    "        count += 1\n",
    "\n",
    "print(count)"
   ]
  },
  {
   "cell_type": "code",
   "execution_count": 35,
   "metadata": {},
   "outputs": [
    {
     "name": "stdout",
     "output_type": "stream",
     "text": [
      "a\n",
      "3\n"
     ]
    }
   ],
   "source": [
    "# 왕실 나이트\n",
    "\"\"\"\n",
    "행은 숫자, 열은 알파벳 8x8로 이루어진 평면상에서 나이트가 이동할 수 있는 경우의 수를 구하라\n",
    "\n",
    "입력 : a2, 출력 : 2\n",
    "\"\"\"\n",
    "\n",
    "# 어떤 좌표가 주어졌을때 해당하는 좌표의 위치를 파악할수 있도록\n",
    "\n",
    "n = input()\n",
    "\n",
    "\n",
    "\n",
    "dirY = [2, 2, -2, -2, -1, 1, -1, 1]\n",
    "dirX = [-1, 1, -1, 1, 2, 2, -2, -2]\n",
    "alpabet = [\"a\", \"b\", \"c\", \"d\", \"e\", \"f\", \"g\", \"h\"]\n",
    "\n",
    "for i in n:\n",
    "  print(i)\n"
   ]
  },
  {
   "cell_type": "code",
   "execution_count": null,
   "metadata": {},
   "outputs": [],
   "source": [
    "# 풀이\n",
    "\n",
    "# 현재 나이트의 위치 입력받기\n",
    "input_data = input()\n",
    "row = int(input_data[1])\n",
    "column = int(ord(input_data[0])) - int(ord('a')) + 1  # 아스키 코드를 입력하여 int로 위치를 구한다.\\\n",
    "\n",
    "# 나이트가 이동할 수 있는 8가지 방향 정의\n",
    "steps = [(-2, -1), (-1, -2), (1, -2), (2, 1), (1, 2), (-1, 2), (-2, 1)]\n",
    "\n",
    "# 8가지 방향에 대하여 각 위치로 이동이 가능한지 확인\n",
    "result = 0\n",
    "for step in steps:\n",
    "  # 이동하고자 하는 위치 확인\n",
    "  next_row = row + step[0]\n",
    "  next_column = column + step[1]\n",
    "  # 해당 위치로 이동이 가능하다면 카운트 증가\n",
    "  if next_row >= 1 and next_row <= 8 and next_column >= 1 and next_column <= 8:\n",
    "    result += 1\n",
    "\n",
    "print(result)\n",
    "\n"
   ]
  },
  {
   "cell_type": "code",
   "execution_count": 40,
   "metadata": {},
   "outputs": [
    {
     "name": "stdout",
     "output_type": "stream",
     "text": [
      "ABCKK13\n"
     ]
    }
   ],
   "source": [
    "\"\"\"\n",
    "문자열 재정렬\n",
    "\n",
    "알파벳 대문자와 숫자(0 ~ 9)로만 구성된 문자열이 입력으로 주어진다. \n",
    "이때 모든 알파벳을 오름차순으로 정렬하여 이어서 출력한 뒤에, 그 뒤에 모든 숫자를 더한 값을 이어서 출력한다.\n",
    "\n",
    "ex) K1KA5CB7  ->  ABCKK13\n",
    "\"\"\"\n",
    "\n",
    "# 아스키코드 드럽게 많이 쓰이는구나\n",
    "\n",
    "input_data = input()\n",
    "\n",
    "a = []\n",
    "b = 0\n",
    "for i in input_data:\n",
    "  if i.isalpha():\n",
    "    a.append(ord(i))\n",
    "  else:\n",
    "    b += int(i)\n",
    "\n",
    "a.sort()\n",
    "c = []\n",
    "for i in a:\n",
    "  c.append(chr(i))\n",
    "\n",
    "result = ''.join(c) + str(b)\n",
    "\n",
    "print(result)"
   ]
  },
  {
   "cell_type": "code",
   "execution_count": null,
   "metadata": {},
   "outputs": [],
   "source": [
    "# 풀이\n",
    "data = input()\n",
    "result = []\n",
    "value = 0\n",
    "\n",
    "for x in data:\n",
    "  if x.isalpha():\n",
    "    result.append(x)\n",
    "  else:\n",
    "    value += int(x)\n",
    "\n",
    "# 알파벳은 아스키 변환없이 그냥 sort가 가능하구나\n",
    "result.sort()\n",
    "\n",
    "# 숫자가 0이 아닌지 확인\n",
    "if value != 0:\n",
    "  result.append(str(value))\n",
    "\n",
    "print(''.join(result))\n"
   ]
  }
 ],
 "metadata": {
  "kernelspec": {
   "display_name": "Python 3",
   "language": "python",
   "name": "python3"
  },
  "language_info": {
   "codemirror_mode": {
    "name": "ipython",
    "version": 3
   },
   "file_extension": ".py",
   "mimetype": "text/x-python",
   "name": "python",
   "nbconvert_exporter": "python",
   "pygments_lexer": "ipython3",
   "version": "3.9.2"
  },
  "orig_nbformat": 4
 },
 "nbformat": 4,
 "nbformat_minor": 2
}
