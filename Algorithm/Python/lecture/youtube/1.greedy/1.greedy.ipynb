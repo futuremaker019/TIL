{
 "cells": [
  {
   "attachments": {},
   "cell_type": "markdown",
   "metadata": {},
   "source": [
    "- 어떠한 수 N이 1이 될때까지 다음의 두 과정 중 하나를 반복적으로 선택하여 수행한다. 단 두 번째 연산은 N이 K로 나누어 떨어질 때만 선택할 수 있다.\n",
    "\n",
    "1. N에서 1을 뺍니다.\n",
    "2. N을 K로 나눕니다.\n",
    "\n",
    "- N이 17, K가 4일 때, 1번의 과정으로 N은 16이 됩니다. 이후 2번의 과정을 두 번 수행하면 N이 1이 된다.\n",
    "- N과 K가 주어질떄 N이 1이 될 떄까지 1번 혹은 2번의 과정을 수행해야 하는 최소 횟수를 구하는 프로그램을 작성하라"
   ]
  },
  {
   "cell_type": "code",
   "execution_count": 7,
   "metadata": {},
   "outputs": [
    {
     "name": "stdout",
     "output_type": "stream",
     "text": [
      "<class 'str'>\n"
     ]
    }
   ],
   "source": [
    "N = input()\n",
    "print(type(N))"
   ]
  },
  {
   "cell_type": "markdown",
   "metadata": {},
   "source": [
    "소수를 구하라\n",
    "\n",
    "1. 제곱근의 수를 사용하여 구한다.\n",
    "  - 제곱근을 기준으로 순차적으로 처음수와 끝수의 합을 이뤄주는 수가 1과 자기 자신말고 다른수가 존재시 소수가 될수 없다.\n",
    "  \n",
    "\n",
    "```python\n",
    "for i range(2, int(math.sqrt(n)) + 1) :\n",
    "```\n",
    "\n",
    "2. 에라토스테네스의 체를 이용하여 구한다.\n",
    "  - 지정된 범위 내에서 2로 나누어 떨어지는 수, 3으로 나누어 떨어지는 수... 등등 n으로 나누어 떨어지는 수를 차례로 제외시킨다."
   ]
  },
  {
   "cell_type": "markdown",
   "metadata": {},
   "source": [
    "피보나치 수열의 n번쨰 수를 구하라\n",
    "\n",
    "1. 재귀함수를 이용하여 구한다.\n",
    "2. 메모이제이션 방식으로 구한다.\n",
    "  - 먼저 구해진 수열의 값을 딕셔너리에 저장하여 바로 찾아온다."
   ]
  },
  {
   "cell_type": "code",
   "execution_count": 16,
   "metadata": {},
   "outputs": [
    {
     "data": {
      "text/plain": [
       "8"
      ]
     },
     "execution_count": 16,
     "metadata": {},
     "output_type": "execute_result"
    }
   ],
   "source": [
    "def toto(n) :\n",
    "  # 종료 조건으로 모두 1을 반환하도록 설정해 놓는다.\n",
    "  if (n == 1) or (n == 2):\n",
    "    return 1\n",
    "  \n",
    "  return toto(n - 2) + toto(n - 1)\n",
    "\n",
    "toto(6)\n",
    "\n",
    "# toto(4)\n"
   ]
  },
  {
   "cell_type": "code",
   "execution_count": null,
   "metadata": {},
   "outputs": [],
   "source": [
    "\"\"\"\n",
    "1이 될때까지\n",
    "\"\"\"\n",
    "\n",
    "n = 11\n",
    "k = 3\n",
    "\n",
    "result = 0\n",
    "\n",
    "while True:\n",
    "    target = (n // k) * k       # 48 = (50 // 3) * 3    -> 몫에 나눈값을 다시 곱해 다음 타겟넘버를 생성\n",
    "    result += (n - target)      # 2 = (50 - 48)         -> 1을 몇번 더해야 하는지 \n",
    "    n = target                  # 50 = 48               -> 다음 타겟넘버\n",
    "\n",
    "    print(\"target : \", target)\n",
    "    print(\"+1 result : \", result)\n",
    "\n",
    "    if n < k:\n",
    "        break\n",
    "\n",
    "    # 나누는 연산 행위에 대한 값도 result에 포함되어야 하기 때문에 나눌때마다 1을 더해준다.\n",
    "    result += 1                 \n",
    "    print(n // k)\n",
    "    n //= k     # 나눈 몫을 n에 다시 넣어줌 \n",
    "    \n",
    "\n",
    "    print(\"// result : \", result)\n",
    "\n",
    "# 마지막 n을 k로 나눌때는 무조건 자기 자신을 나누게 되는 꼴이 된다.\n",
    "# 그러므로 n은 1이 되고 (n // k) * k 시 target은 0이 된다.\n",
    "# 때문에 마지막 n은 0이 되고 \n",
    "result += (n - 1)\n",
    "print()\n",
    "print(\"n : \", n)\n",
    "print(\"result: \", result)"
   ]
  },
  {
   "cell_type": "code",
   "execution_count": null,
   "metadata": {},
   "outputs": [],
   "source": [
    "\"\"\"\n",
    "곱하기 혹은 더하기\n",
    "\n",
    "각 자리 숫자(0 ~ 9)로만 이루어진 문자열 S가 주어졌을때 \n",
    "왼쩍부터 오른쪽으로 하나씩 모든 숫자를 학인하며 숫자 사이에 x 혹은 + 연산자를 넣어\n",
    "결과적으로 만들어진 가장 큰 수를 구하는 프로그램을 작성한다.\n",
    "\n",
    "모든 연산은 왼쪽에서 부터 순서대로 이루어진다.\n",
    "\n",
    "ex) 02984 -> ((((0 + 2) X 9) X 8)X 4) = 576\n",
    "\n",
    "또한 만들어질수 있는 가장 큰 수는 항상 20억 이하의 정수가 되도록 입력이 주어진다.\n",
    "\"\"\"\n",
    "\n",
    "# n = input()\n",
    "n = \"0010102984\"\n",
    "\n",
    "sum = 0\n",
    "\n",
    "# 0일때 곱하기가 되는것을 최대한 방지해야 한다.\n",
    "# sum이 0일때, i가 0일때\n",
    "\n",
    "for num in n:\n",
    "    i = int(num)\n",
    "    if i == 0 or i == 1:\n",
    "        sum += i\n",
    "    else:\n",
    "        if sum == 0:\n",
    "            sum += i\n",
    "        else:\n",
    "            sum *= i\n",
    "\n",
    "print(sum)\n"
   ]
  },
  {
   "cell_type": "code",
   "execution_count": null,
   "metadata": {},
   "outputs": [],
   "source": [
    "# 풀이\n",
    "\n",
    "data = input()\n",
    "\n",
    "# 첫 번째 문자를 숫자로 변경하여 대입\n",
    "result = in(data[0])\n",
    "\n",
    "for i in range(1, len(data)):\n",
    "    # 두 수 중에서 하나라도 0 또는 1인 경우, 곱하기보다는 더하기 수행\n",
    "    num = int(data[i])\n",
    "    if num <= 1 or result <= 1:\n",
    "        result += num\n",
    "    else:\n",
    "        result *= num\n",
    "\n"
   ]
  }
 ],
 "metadata": {
  "kernelspec": {
   "display_name": "Python 3",
   "language": "python",
   "name": "python3"
  },
  "language_info": {
   "codemirror_mode": {
    "name": "ipython",
    "version": 3
   },
   "file_extension": ".py",
   "mimetype": "text/x-python",
   "name": "python",
   "nbconvert_exporter": "python",
   "pygments_lexer": "ipython3",
   "version": "3.11.3"
  },
  "orig_nbformat": 4
 },
 "nbformat": 4,
 "nbformat_minor": 2
}
