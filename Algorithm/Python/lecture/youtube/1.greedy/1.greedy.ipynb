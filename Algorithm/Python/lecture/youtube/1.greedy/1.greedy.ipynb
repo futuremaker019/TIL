{
 "cells": [
  {
   "attachments": {},
   "cell_type": "markdown",
   "metadata": {},
   "source": [
    "- 어떠한 수 N이 1이 될때까지 다음의 두 과정 중 하나를 반복적으로 선택하여 수행한다. 단 두 번째 연산은 N이 K로 나누어 떨어질 때만 선택할 수 있다.\n",
    "\n",
    "1. N에서 1을 뺍니다.\n",
    "2. N을 K로 나눕니다.\n",
    "\n",
    "- N이 17, K가 4일 때, 1번의 과정으로 N은 16이 됩니다. 이후 2번의 과정을 두 번 수행하면 N이 1이 된다.\n",
    "- N과 K가 주어질떄 N이 1이 될 떄까지 1번 혹은 2번의 과정을 수행해야 하는 최소 횟수를 구하는 프로그램을 작성하라"
   ]
  },
  {
   "cell_type": "code",
   "execution_count": 7,
   "metadata": {},
   "outputs": [
    {
     "name": "stdout",
     "output_type": "stream",
     "text": [
      "<class 'str'>\n"
     ]
    }
   ],
   "source": [
    "N = input()\n",
    "print(type(N))"
   ]
  },
  {
   "cell_type": "markdown",
   "metadata": {},
   "source": [
    "소수를 구하라\n",
    "\n",
    "1. 제곱근의 수를 사용하여 구한다.\n",
    "  - 제곱근을 기준으로 순차적으로 처음수와 끝수의 합을 이뤄주는 수가 1과 자기 자신말고 다른수가 존재시 소수가 될수 없다.\n",
    "  \n",
    "\n",
    "```python\n",
    "for i range(2, int(math.sqrt(n)) + 1) :\n",
    "```\n",
    "\n",
    "2. 에라토스테네스의 체를 이용하여 구한다.\n",
    "  - 지정된 범위 내에서 2로 나누어 떨어지는 수, 3으로 나누어 떨어지는 수... 등등 n으로 나누어 떨어지는 수를 차례로 제외시킨다."
   ]
  },
  {
   "cell_type": "markdown",
   "metadata": {},
   "source": [
    "피보나치 수열의 n번쨰 수를 구하라\n",
    "\n",
    "1. 재귀함수를 이용하여 구한다.\n",
    "2. 메모이제이션 방식으로 구한다.\n",
    "  - 먼저 구해진 수열의 값을 딕셔너리에 저장하여 바로 찾아온다."
   ]
  },
  {
   "cell_type": "code",
   "execution_count": 16,
   "metadata": {},
   "outputs": [
    {
     "data": {
      "text/plain": [
       "8"
      ]
     },
     "execution_count": 16,
     "metadata": {},
     "output_type": "execute_result"
    }
   ],
   "source": [
    "def toto(n) :\n",
    "  # 종료 조건으로 모두 1을 반환하도록 설정해 놓는다.\n",
    "  if (n == 1) or (n == 2):\n",
    "    return 1\n",
    "  \n",
    "  return toto(n - 2) + toto(n - 1)\n",
    "\n",
    "toto(6)\n",
    "\n",
    "# toto(4)\n"
   ]
  }
 ],
 "metadata": {
  "kernelspec": {
   "display_name": "Python 3",
   "language": "python",
   "name": "python3"
  },
  "language_info": {
   "codemirror_mode": {
    "name": "ipython",
    "version": 3
   },
   "file_extension": ".py",
   "mimetype": "text/x-python",
   "name": "python",
   "nbconvert_exporter": "python",
   "pygments_lexer": "ipython3",
   "version": "3.9.2"
  },
  "orig_nbformat": 4
 },
 "nbformat": 4,
 "nbformat_minor": 2
}
