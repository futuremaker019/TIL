{
 "cells": [
  {
   "cell_type": "code",
   "execution_count": 5,
   "metadata": {},
   "outputs": [
    {
     "ename": "ValueError",
     "evalue": "invalid literal for int() with base 10: 'fklfjklfjklasf'",
     "output_type": "error",
     "traceback": [
      "\u001b[1;31m---------------------------------------------------------------------------\u001b[0m",
      "\u001b[1;31mValueError\u001b[0m                                Traceback (most recent call last)",
      "\u001b[1;32mc:\\workspace\\study\\persnal\\TIL\\Algorithm\\Python\\lecture\\fastcompus\\3.유형별-문제풀이\\2-1.핵심유형연습.ipynb Cell 1\u001b[0m line \u001b[0;36m1\n\u001b[0;32m      <a href='vscode-notebook-cell:/c%3A/workspace/study/persnal/TIL/Algorithm/Python/lecture/fastcompus/3.%EC%9C%A0%ED%98%95%EB%B3%84-%EB%AC%B8%EC%A0%9C%ED%92%80%EC%9D%B4/2-1.%ED%95%B5%EC%8B%AC%EC%9C%A0%ED%98%95%EC%97%B0%EC%8A%B5.ipynb#W0sZmlsZQ%3D%3D?line=0'>1</a>\u001b[0m \u001b[39m# 스택수열\u001b[39;00m\n\u001b[0;32m      <a href='vscode-notebook-cell:/c%3A/workspace/study/persnal/TIL/Algorithm/Python/lecture/fastcompus/3.%EC%9C%A0%ED%98%95%EB%B3%84-%EB%AC%B8%EC%A0%9C%ED%92%80%EC%9D%B4/2-1.%ED%95%B5%EC%8B%AC%EC%9C%A0%ED%98%95%EC%97%B0%EC%8A%B5.ipynb#W0sZmlsZQ%3D%3D?line=1'>2</a>\u001b[0m \n\u001b[0;32m      <a href='vscode-notebook-cell:/c%3A/workspace/study/persnal/TIL/Algorithm/Python/lecture/fastcompus/3.%EC%9C%A0%ED%98%95%EB%B3%84-%EB%AC%B8%EC%A0%9C%ED%92%80%EC%9D%B4/2-1.%ED%95%B5%EC%8B%AC%EC%9C%A0%ED%98%95%EC%97%B0%EC%8A%B5.ipynb#W0sZmlsZQ%3D%3D?line=2'>3</a>\u001b[0m \n\u001b[1;32m   (...)\u001b[0m\n\u001b[0;32m      <a href='vscode-notebook-cell:/c%3A/workspace/study/persnal/TIL/Algorithm/Python/lecture/fastcompus/3.%EC%9C%A0%ED%98%95%EB%B3%84-%EB%AC%B8%EC%A0%9C%ED%92%80%EC%9D%B4/2-1.%ED%95%B5%EC%8B%AC%EC%9C%A0%ED%98%95%EC%97%B0%EC%8A%B5.ipynb#W0sZmlsZQ%3D%3D?line=7'>8</a>\u001b[0m \u001b[39m# 1. 배열에 값을 언제까지 넣어야하는지\u001b[39;00m\n\u001b[0;32m      <a href='vscode-notebook-cell:/c%3A/workspace/study/persnal/TIL/Algorithm/Python/lecture/fastcompus/3.%EC%9C%A0%ED%98%95%EB%B3%84-%EB%AC%B8%EC%A0%9C%ED%92%80%EC%9D%B4/2-1.%ED%95%B5%EC%8B%AC%EC%9C%A0%ED%98%95%EC%97%B0%EC%8A%B5.ipynb#W0sZmlsZQ%3D%3D?line=8'>9</a>\u001b[0m \u001b[39m# 2. 배열의 마지막 값을 가져와 비교한다.\u001b[39;00m\n\u001b[1;32m---> <a href='vscode-notebook-cell:/c%3A/workspace/study/persnal/TIL/Algorithm/Python/lecture/fastcompus/3.%EC%9C%A0%ED%98%95%EB%B3%84-%EB%AC%B8%EC%A0%9C%ED%92%80%EC%9D%B4/2-1.%ED%95%B5%EC%8B%AC%EC%9C%A0%ED%98%95%EC%97%B0%EC%8A%B5.ipynb#W0sZmlsZQ%3D%3D?line=10'>11</a>\u001b[0m n \u001b[39m=\u001b[39m \u001b[39mint\u001b[39;49m(\u001b[39minput\u001b[39;49m())\n\u001b[0;32m     <a href='vscode-notebook-cell:/c%3A/workspace/study/persnal/TIL/Algorithm/Python/lecture/fastcompus/3.%EC%9C%A0%ED%98%95%EB%B3%84-%EB%AC%B8%EC%A0%9C%ED%92%80%EC%9D%B4/2-1.%ED%95%B5%EC%8B%AC%EC%9C%A0%ED%98%95%EC%97%B0%EC%8A%B5.ipynb#W0sZmlsZQ%3D%3D?line=12'>13</a>\u001b[0m count \u001b[39m=\u001b[39m \u001b[39m1\u001b[39m\n\u001b[0;32m     <a href='vscode-notebook-cell:/c%3A/workspace/study/persnal/TIL/Algorithm/Python/lecture/fastcompus/3.%EC%9C%A0%ED%98%95%EB%B3%84-%EB%AC%B8%EC%A0%9C%ED%92%80%EC%9D%B4/2-1.%ED%95%B5%EC%8B%AC%EC%9C%A0%ED%98%95%EC%97%B0%EC%8A%B5.ipynb#W0sZmlsZQ%3D%3D?line=13'>14</a>\u001b[0m a2 \u001b[39m=\u001b[39m []\n",
      "\u001b[1;31mValueError\u001b[0m: invalid literal for int() with base 10: 'fklfjklfjklasf'"
     ]
    }
   ],
   "source": [
    "# 스택수열\n",
    "\n",
    "\n",
    "# 첫째줄에 주어진 수를 받아 숫자 리스트를 만듬\n",
    "# 두번째 수부터 받아올수 있는지 확인\n",
    "\n",
    "# 어떤 아이디어로 가져가야 하나\n",
    "# 1. 배열에 값을 언제까지 넣어야하는지\n",
    "# 2. 배열의 마지막 값을 가져와 비교한다.\n",
    "\n",
    "n = int(input())\n",
    "\n",
    "count = 1\n",
    "a2 = []\n",
    "result = []\n",
    "b = True\n",
    "\n",
    "for i in range(n):\n",
    "    m = int(input())    \n",
    "    while count < m:     \n",
    "        a2.append(count)\n",
    "        count += 1\n",
    "        result.append(\"+\")\n",
    "    if a2[-1] == m:\n",
    "        a2.pop()\n",
    "        result.append(\"-\")\n",
    "    else :\n",
    "        print(\"NO\")\n",
    "        b = False\n",
    "        break\n",
    "\n",
    "if b:\n",
    "    print(result.join('\\n'))\n",
    "\n",
    "\"\"\"\n",
    "8\n",
    "4\n",
    "3\n",
    "6\n",
    "8\n",
    "7\n",
    "5\n",
    "2\n",
    "1\n",
    "\n",
    "+\n",
    "+\n",
    "+\n",
    "+\n",
    "-\n",
    "-\n",
    "+\n",
    "+\n",
    "-\n",
    "+\n",
    "+\n",
    "-\n",
    "-\n",
    "-\n",
    "-\n",
    "-\n",
    "\n",
    "5\n",
    "1\n",
    "2\n",
    "5\n",
    "3\n",
    "4\n",
    "\n",
    "NO\n",
    "\"\"\"\n"
   ]
  }
 ],
 "metadata": {
  "kernelspec": {
   "display_name": "Python 3",
   "language": "python",
   "name": "python3"
  },
  "language_info": {
   "codemirror_mode": {
    "name": "ipython",
    "version": 3
   },
   "file_extension": ".py",
   "mimetype": "text/x-python",
   "name": "python",
   "nbconvert_exporter": "python",
   "pygments_lexer": "ipython3",
   "version": "3.11.3"
  }
 },
 "nbformat": 4,
 "nbformat_minor": 2
}
