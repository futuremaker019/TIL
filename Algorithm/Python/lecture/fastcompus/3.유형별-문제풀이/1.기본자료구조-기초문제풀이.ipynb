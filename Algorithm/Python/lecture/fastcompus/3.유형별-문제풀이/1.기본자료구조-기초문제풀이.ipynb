{
 "cells": [
  {
   "cell_type": "code",
   "execution_count": null,
   "metadata": {},
   "outputs": [],
   "source": []
  },
  {
   "cell_type": "code",
   "execution_count": 10,
   "metadata": {},
   "outputs": [
    {
     "name": "stdout",
     "output_type": "stream",
     "text": [
      "21\n"
     ]
    }
   ],
   "source": [
    "# 백준 블랙잭 2798\n",
    "\n",
    "\"\"\"\n",
    "N장의 카드가 주어짐. \n",
    "N장의 카드에서 3개를 뽑아 모두 더해 M 이라는 정수에 가장 근접한 정수를 만들어라\n",
    "N = 카드의 개수\n",
    "M = N정의 카드 3개를 더해 넘지 말아야 할 수\n",
    "\n",
    "인풋 예제\n",
    "\n",
    "5 21\n",
    "5 6 7 8 9\n",
    "\"\"\"\n",
    "\n",
    "# 카드 3개를 고른다\n",
    "    # 3장의 카드를 어떻게 고르나...\n",
    "# 3장의 카드를 모두 더해서 주어진 값과 비교하여 넘지않거나 같으면 더한 값을 인출한다.\n",
    "    # 더한값을 저장하고 있다가 계속 비교하여 바꿔주면 될거 같다.\n",
    "\n",
    "N, M = list(map(int, input().split()))\n",
    "cards = list(map(int, input().split()))\n",
    "\n",
    "result = 0\n",
    "length = len(cards)\n",
    "for i in range(length):\n",
    "    a = cards[i]\n",
    "    for j in range(length):\n",
    "        if j > i:\n",
    "            b = cards[j]\n",
    "        for k in range(length):\n",
    "            if k > j:\n",
    "                c = cards[k]\n",
    "            s = a + b + c\n",
    "            if s <= M:\n",
    "                result = s\n",
    "\n",
    "print(result)"
   ]
  },
  {
   "cell_type": "code",
   "execution_count": 7,
   "metadata": {},
   "outputs": [
    {
     "name": "stdout",
     "output_type": "stream",
     "text": [
      "21\n"
     ]
    }
   ],
   "source": [
    "# 풀이\n",
    "n, m = list(map(int, input().split()))\n",
    "data = list(map(int, input().split()))\n",
    "\n",
    "result = 0\n",
    "length = len(data)\n",
    "\n",
    "count = 0\n",
    "for i in range(0, length):\n",
    "    for j in range(i + 1, length):\n",
    "        for k in range(j + 1, length):\n",
    "            sum_value = data[i] + data[j] + data[k]\n",
    "            if sum_value <= m:\n",
    "                result = max(result, sum_value)\n",
    "\n",
    "print(result)"
   ]
  }
 ],
 "metadata": {
  "kernelspec": {
   "display_name": "Python 3",
   "language": "python",
   "name": "python3"
  },
  "language_info": {
   "codemirror_mode": {
    "name": "ipython",
    "version": 3
   },
   "file_extension": ".py",
   "mimetype": "text/x-python",
   "name": "python",
   "nbconvert_exporter": "python",
   "pygments_lexer": "ipython3",
   "version": "3.11.3"
  },
  "orig_nbformat": 4
 },
 "nbformat": 4,
 "nbformat_minor": 2
}
