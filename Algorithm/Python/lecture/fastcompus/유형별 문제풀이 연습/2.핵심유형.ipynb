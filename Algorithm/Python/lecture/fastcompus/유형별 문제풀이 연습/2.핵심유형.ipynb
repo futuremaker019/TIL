{
 "cells": [
  {
   "cell_type": "code",
   "execution_count": null,
   "metadata": {},
   "outputs": [],
   "source": [
    "# 백준 스택 수열 1874\n",
    "\n",
    "# 1. 스택에 어떻게 자동적으로 쌓게 할것인가\n",
    "# 2. 같은 값을 어떻게 pop 할것인가\n",
    "\n",
    "# 1 부터 n까지의 수를 스택에 넣어다가 빼는 작업을 한다. 스택에 push하는 순서는 반드시 오름차순을 지키도록 한다.\n",
    "# 스택의 가장 마지막값과 지금 들어온값을 비교하여 pop을 시켜야 함\n",
    "\n",
    "n = int(input())\n",
    "\n",
    "stack = []\n",
    "result = []\n",
    "count = 1\n",
    "r = True\n",
    "\n",
    "for _ in range(n):\n",
    "  m = int(input())\n",
    "\n",
    "  # 스택에 값을 넣어야 함\n",
    "  while count <= m:       # 입력된 값까지 stack에 넣는다.\n",
    "    stack.append(count)\n",
    "    count += 1\n",
    "    result.append(\"+\")\n",
    "  if stack[-1] == m:      # 입력된 값이 stack의 마지막 값과 같다면 값을 꺼낸다.\n",
    "    stack.pop()\n",
    "    result.append(\"-\")\n",
    "  else:\n",
    "    r = False\n",
    "    print(\"NO\")\n",
    "    break\n",
    "\n",
    "if (r):\n",
    "  print(\"\\n\".join(result))\n",
    "\n",
    "\"\"\"\n",
    "8\n",
    "4\n",
    "3\n",
    "6\n",
    "8\n",
    "7\n",
    "5\n",
    "2\n",
    "1\n",
    "\n",
    "+\n",
    "+\n",
    "+\n",
    "+\n",
    "-\n",
    "-\n",
    "+\n",
    "+\n",
    "-\n",
    "+\n",
    "+\n",
    "-\n",
    "-\n",
    "-\n",
    "-\n",
    "-\n",
    "\n",
    "5\n",
    "1\n",
    "2\n",
    "5\n",
    "3\n",
    "4\n",
    "\n",
    "NO\n",
    "\"\"\""
   ]
  },
  {
   "cell_type": "code",
   "execution_count": 1,
   "metadata": {},
   "outputs": [
    {
     "name": "stdout",
     "output_type": "stream",
     "text": [
      "[(5, 0)]\n",
      "1\n",
      "[(1, 0), (2, 1), (3, 2), (4, 3)]\n",
      "2\n"
     ]
    }
   ],
   "source": [
    "# 백준 프린터 큐 1966\n",
    "\n",
    "# Queue 자료구조 사용\n",
    "# 4개의 문서 (A, B, C, D) 중요도는 (2, 1, 4, 3) -> C, D, A, B를 인쇄하게 된다.\n",
    "\n",
    "\"\"\"\n",
    "3     # 테스트케이스\n",
    "1 0   # 문서의 개수, 언제 출력되는지 알고싶은 문서의 순서\n",
    "5     # 중요도\n",
    "4 2\n",
    "1 2 3 4\n",
    "6 0\n",
    "1 1 9 1 1 1\n",
    "\"\"\"\n",
    "\n",
    "\n",
    "t = int(input())\n",
    "result = []\n",
    "\n",
    "for _ in range(t):\n",
    "  count = 1\n",
    "  n, m = list(map(int, input().split()))\n",
    "  papers = list(map(int, input().split()))\n",
    "\n",
    "  queue = [(page, index) for index, page in enumerate(papers)]\n",
    "\n",
    "  print(queue)\n",
    "\n",
    "  while True:\n",
    "    if queue[0][0] == max(queue, key = lambda x: x[0])[0]:\n",
    "      if queue[0][1] == m:\n",
    "        print(count)\n",
    "        break\n",
    "      else:\n",
    "        queue.pop(0)\n",
    "        count += 1\n",
    "    else:\n",
    "      queue.append(queue.pop(0))\n",
    "\n",
    "# print(\"\\n\".join(str(result)))  # result에 int 값이 들어갔다고 에러를 뱉음 str값이 들어가야 할듯\n",
    "\n"
   ]
  },
  {
   "cell_type": "code",
   "execution_count": null,
   "metadata": {},
   "outputs": [
    {
     "name": "stdout",
     "output_type": "stream",
     "text": [
      "4\n",
      "0\n",
      "[(0, 1), (1, 2), (2, 3), (3, 4), (4, 5)]\n"
     ]
    }
   ],
   "source": [
    "papers = [1, 2, 3, 4, 5]\n",
    "queue = [(page, index) for page, index in enumerate(papers)]\n",
    "\n",
    "i = max(queue, key = lambda x: x[0])[0]\n",
    "print(i)\n",
    "\n",
    "print(queue[0][0])\n",
    "\n",
    "print(queue)"
   ]
  },
  {
   "cell_type": "code",
   "execution_count": null,
   "metadata": {},
   "outputs": [],
   "source": [
    "# 키로거\n",
    "\n"
   ]
  }
 ],
 "metadata": {
  "kernelspec": {
   "display_name": "Python 3",
   "language": "python",
   "name": "python3"
  },
  "language_info": {
   "codemirror_mode": {
    "name": "ipython",
    "version": 3
   },
   "file_extension": ".py",
   "mimetype": "text/x-python",
   "name": "python",
   "nbconvert_exporter": "python",
   "pygments_lexer": "ipython3",
   "version": "3.9.2"
  }
 },
 "nbformat": 4,
 "nbformat_minor": 2
}
