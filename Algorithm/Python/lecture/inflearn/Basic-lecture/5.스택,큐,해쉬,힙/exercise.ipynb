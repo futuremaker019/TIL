{
 "cells": [
  {
   "cell_type": "code",
   "execution_count": null,
   "metadata": {},
   "outputs": [],
   "source": [
    "# 가장 큰 수 (스택)\n",
    "\n",
    "# 5276823 3\n",
    "\n",
    "m, n = map(int, input().split())\n",
    "\n",
    "# 스택으로 어떻게 문제를 풀어야하나\n",
    "\n",
    "stack = []\n",
    "\n",
    "for i in m:\n",
    "    "
   ]
  }
 ],
 "metadata": {
  "language_info": {
   "name": "python"
  }
 },
 "nbformat": 4,
 "nbformat_minor": 2
}
