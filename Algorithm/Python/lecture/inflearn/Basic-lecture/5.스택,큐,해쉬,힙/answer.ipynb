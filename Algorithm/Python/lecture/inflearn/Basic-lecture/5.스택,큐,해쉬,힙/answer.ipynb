{
 "cells": [
  {
   "cell_type": "code",
   "execution_count": 7,
   "metadata": {},
   "outputs": [
    {
     "name": "stdout",
     "output_type": "stream",
     "text": [
      "stackValue: 5\n",
      "cnt : 3\n",
      "value :  7\n",
      "stackValue: 7\n",
      "cnt : 2\n",
      "value :  8\n",
      "stackValue: 8\n",
      "stackValue: 8\n",
      "[8]\n",
      "1\n"
     ]
    }
   ],
   "source": [
    "# 가장 큰 수 (스택)\n",
    "\n",
    "# 자리수를 유지하면서 가장 큰 수를 만들어야 한다.\n",
    "\n",
    "# 컨셉\n",
    "# 자기보다 작은 숫자가 앞에 있으면 제거하고 자기가 들어간다.\n",
    "# 제거될 수 있는 숫자는 3개로 제한되어있다.\n",
    "\n",
    "# 5276823 3  -> str 로 받자\n",
    "\n",
    "from collections import deque\n",
    "\n",
    "# n, cnt = map(int, input().split())\n",
    "n, cnt = 5276823, 3\n",
    "\n",
    "n = [int(i) for i in str(n)]\n",
    "n = deque(n)\n",
    "\n",
    "stack = []\n",
    "\n",
    "# cnt는 stack에서 숫자가 빠지고 새로운 값이 들어가게 되면 cnt를 줄여준다.\n",
    "\n",
    "while n:                    # n이 빌때까지 while을 돌려준다.\n",
    "    value = n.popleft()\n",
    "    if not stack:           # stack이 비어있다면 값을 넣는다.\n",
    "        stack.append(value)\n",
    "    else:\n",
    "        while True:           # 제한조건 : cnt가 0이 아니면, n의 숫자가 제외되면 cnt를 줄여준다.\n",
    "            stackValue = stack.pop()        # stack 값이 크다면 다시 넣는다.\n",
    "            if value < stackValue:\n",
    "                print(\"stackValue:\",  stackValue)\n",
    "                stack.append(stackValue)\n",
    "                break\n",
    "            else:                           # stack 값이 작다면 value를 넣는다. 이때 cnt를 줄인다.\n",
    "                print(\"cnt :\", cnt)\n",
    "                print(\"value : \", value)\n",
    "                stack.append(value)\n",
    "                cnt -= 1\n",
    "                break\n",
    "\n",
    "\n",
    "print(stack)\n",
    "print(cnt)"
   ]
  }
 ],
 "metadata": {
  "kernelspec": {
   "display_name": "Python 3",
   "language": "python",
   "name": "python3"
  },
  "language_info": {
   "codemirror_mode": {
    "name": "ipython",
    "version": 3
   },
   "file_extension": ".py",
   "mimetype": "text/x-python",
   "name": "python",
   "nbconvert_exporter": "python",
   "pygments_lexer": "ipython3",
   "version": "3.9.2"
  }
 },
 "nbformat": 4,
 "nbformat_minor": 2
}
