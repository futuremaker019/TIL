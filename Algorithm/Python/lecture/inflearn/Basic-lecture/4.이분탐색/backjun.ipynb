{
 "cells": [
  {
   "cell_type": "code",
   "execution_count": null,
   "metadata": {},
   "outputs": [],
   "source": [
    "# 이분탐색을 더 풀어보기 위해 문제 추가함\n",
    "\n",
    "# 수 찾기 ()"
   ]
  }
 ],
 "metadata": {
  "language_info": {
   "name": "python"
  }
 },
 "nbformat": 4,
 "nbformat_minor": 2
}
