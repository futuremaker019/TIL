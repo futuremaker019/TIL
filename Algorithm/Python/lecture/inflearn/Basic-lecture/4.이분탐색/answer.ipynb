{
 "cells": [
  {
   "cell_type": "code",
   "execution_count": null,
   "metadata": {},
   "outputs": [],
   "source": [
    "# 이분검색\n",
    "\n",
    "# 8 32\n",
    "# 23 87 65 12 57 32 99 81\n",
    "\n",
    "n, m = map(int, input().split())\n",
    "music = [list(map(int, input().split())) for _ in range(n)]\n",
    "\n",
    "music.sort()\n",
    "\n",
    "lt = 0\n",
    "rt = n - 1\n",
    "while lt <= rt:\n",
    "    mid = (lt + rt) // 2\n",
    "    if music[mid] == m:\n",
    "        print(mid + 1)\n",
    "        break\n",
    "    elif music[mid] > m:\n",
    "        rt = mid - 1\n",
    "    else:\n",
    "        lt = mid + 1"
   ]
  },
  {
   "cell_type": "code",
   "execution_count": null,
   "metadata": {},
   "outputs": [],
   "source": [
    "#  랜선 자르기"
   ]
  },
  {
   "cell_type": "code",
   "execution_count": 4,
   "metadata": {},
   "outputs": [
    {
     "name": "stdout",
     "output_type": "stream",
     "text": [
      "9\n"
     ]
    }
   ],
   "source": [
    "# 뮤직 비디오\n",
    "\n",
    "def countDVD(cap):\n",
    "    cnt = 1\n",
    "    sum = 0\n",
    "    for x in music:\n",
    "        if sum + x > cap:       # 연속해서 더하며 들어온 용량보다 클때는 cnt를 높이고 sum을 다음값으로 초기화한다.\n",
    "            cnt += 1\n",
    "            sum = x\n",
    "        else:\n",
    "            sum += x\n",
    "    return cnt\n",
    "\n",
    "# n, m = map(int, input().split())\n",
    "# a = list(map(int, input().split()))\n",
    "\n",
    "n, m = 9, 9                     # 노래 갯수              \n",
    "music = [1, 2, 3, 4, 5, 6, 7, 8, 9]\n",
    "\n",
    "maxx = max(music)               # 하나의 DVD는 무조건 가장 긴 곡중 하나의 노래를 담고있어야 한다.\n",
    "\n",
    "lt = 0\n",
    "rt = sum(music)\n",
    "result = 0\n",
    "while lt <= rt:\n",
    "    mid = (lt + rt) // 2\n",
    "    totalSum = 0\n",
    "    if mid >= maxx and countDVD(mid) <= m:\n",
    "        result = mid\n",
    "        rt = mid - 1            # 최초 중간값은 23, 용량이 23일때 3개의 DVD로 만들수 있음, 그 보다 더 큰 용량으로도 충분하므로 작은 용량일때를 확인한다.\n",
    "    else:\n",
    "        lt = mid + 1\n",
    "\n",
    "print(result)\n"
   ]
  },
  {
   "cell_type": "code",
   "execution_count": 6,
   "metadata": {},
   "outputs": [
    {
     "name": "stdout",
     "output_type": "stream",
     "text": [
      "3\n"
     ]
    }
   ],
   "source": [
    "# 마굿간 정하기 (결정 알고리즘)\n",
    "\n",
    "# 리스트에서 처음과 끝값을 이분한 값이 말과 말의 최대거리를 뜻하게 된다고 한다.\n",
    "\n",
    "def Count(len):\n",
    "    cnt = 1                 # 말 한마리로 시작\n",
    "    endPoint = Line[0]        # 마굿간에 위치시킨 말의 위치\n",
    "    for i in range(1, n):\n",
    "        if Line[i] - endPoint >= len:\n",
    "            cnt += 1\n",
    "            endPoint = Line[i]\n",
    "    return cnt\n",
    "\n",
    "n, c = 5, 3\n",
    "Line = [1, 2, 8, 4, 9]\n",
    "\n",
    "Line.sort()\n",
    "\n",
    "lt = Line[0]\n",
    "rt = Line[n - 1]\n",
    "while lt <= rt:\n",
    "    mid = (lt + rt) // 2\n",
    "    if Count(mid) >= c:\n",
    "        res = mid\n",
    "        lt = mid + 1\n",
    "    else:\n",
    "        rt = mid - 1\n",
    "\n",
    "print(res)"
   ]
  },
  {
   "cell_type": "code",
   "execution_count": null,
   "metadata": {},
   "outputs": [],
   "source": [
    "# 회의실 배정 (그리디)\n",
    "\n",
    "# 그리디는 기본적으로 정렬과 같이 풀이에 들어가야한다고 한다.\n",
    "\n",
    "# 회의가 끝나는 시간 기준으로 정렬을 한다.\n",
    "# 튜플을 정렬 후 처음부터 회의가 끝나는 시간과 다음 시작시간을 비교하여 회의 수를 출력한다.\n",
    "\n",
    "# 컨셉은 회의 종료시간이 가장 작은값을 기준으로 시작하여 다음값을 순차적으로 진행하여 cnt를 구하는 것\n",
    "\n",
    "n = int(input())\n",
    "body = []\n",
    "for _ in range(n):\n",
    "    s, e = map(int, input().split())\n",
    "    body.append((s, e))\n",
    "\n",
    "body.sort(key = lambda x: (x[1], x[0]))  # x[1]을 기준으로 정렬하고 , x[0]을 두번째 기준으로 정렬\n",
    "\n",
    "et = 0\n",
    "cnt = 0\n",
    "for s, e in body:\n",
    "    if s >= et:\n",
    "        et = e\n",
    "        cnt += 1\n",
    "print(cnt)"
   ]
  },
  {
   "cell_type": "code",
   "execution_count": 1,
   "metadata": {},
   "outputs": [
    {
     "name": "stdout",
     "output_type": "stream",
     "text": [
      "3\n"
     ]
    }
   ],
   "source": [
    "# 씨름선수 (그리디)\n",
    "\n",
    "# 키 or 몸무게 중 오름차순으로 정렬하고 최대값을 갱신한다는 생각으로 진행\n",
    "\n",
    "# n = int(input())\n",
    "# body = []\n",
    "# for _ in range(n):\n",
    "#     s, e = map(int, input().split())\n",
    "#     body.append((s, e))\n",
    "\n",
    "n = 5\n",
    "body = [(172, 67), (183, 65), (180, 70), (170, 72), (181, 60)]\n",
    "\n",
    "body.sort(reverse=True) \n",
    "\n",
    "largest = 0\n",
    "cnt = 0\n",
    "\n",
    "for x, y in body:\n",
    "    if y > largest:\n",
    "        largest = y\n",
    "        cnt += 1\n",
    "\n",
    "print(cnt)"
   ]
  },
  {
   "cell_type": "code",
   "execution_count": 1,
   "metadata": {},
   "outputs": [
    {
     "name": "stdout",
     "output_type": "stream",
     "text": [
      "20\n"
     ]
    }
   ],
   "source": [
    "# 창고 정리 (그리디)\n",
    "\n",
    "# L = int(input())\n",
    "# a = list(map(int, input().split()))\n",
    "# m = int(input())\n",
    "L = 10\n",
    "a = [69, 42, 68, 76, 40, 87, 14, 65, 76, 81]\n",
    "m = 50\n",
    "\n",
    "a.sort()\n",
    "for _ in range(m):\n",
    "    a[0] += 1\n",
    "    a[L - 1] -= 1\n",
    "    a.sort()        # sort하여 정렬하면 큰수 작은수가 다시 정렬됨\n",
    "\n",
    "print(a[L - 1] - a[0])"
   ]
  }
 ],
 "metadata": {
  "kernelspec": {
   "display_name": "Python 3",
   "language": "python",
   "name": "python3"
  },
  "language_info": {
   "codemirror_mode": {
    "name": "ipython",
    "version": 3
   },
   "file_extension": ".py",
   "mimetype": "text/x-python",
   "name": "python",
   "nbconvert_exporter": "python",
   "pygments_lexer": "ipython3",
   "version": "3.9.2"
  }
 },
 "nbformat": 4,
 "nbformat_minor": 2
}
