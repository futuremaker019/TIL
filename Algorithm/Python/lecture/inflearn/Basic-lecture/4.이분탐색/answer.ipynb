{
 "cells": [
  {
   "cell_type": "code",
   "execution_count": null,
   "metadata": {},
   "outputs": [],
   "source": [
    "# 이분검색\n",
    "\n",
    "# 8 32\n",
    "# 23 87 65 12 57 32 99 81\n",
    "\n",
    "n, m = map(int, input().split())\n",
    "a = [list(map(int, input().split())) for _ in range(n)]\n",
    "\n",
    "a.sort()\n",
    "\n",
    "lt = 0\n",
    "rt = n - 1\n",
    "while lt <= rt:\n",
    "    mid = (lt + rt) // 2\n",
    "    if a[mid] == m:\n",
    "        print(mid + 1)\n",
    "        break\n",
    "    elif a[mid] > m:\n",
    "        rt = mid - 1\n",
    "    else:\n",
    "        lt = mid + 1"
   ]
  },
  {
   "cell_type": "code",
   "execution_count": null,
   "metadata": {},
   "outputs": [],
   "source": [
    "#  랜선 자르기"
   ]
  },
  {
   "cell_type": "code",
   "execution_count": 5,
   "metadata": {},
   "outputs": [
    {
     "name": "stdout",
     "output_type": "stream",
     "text": [
      "17\n"
     ]
    }
   ],
   "source": [
    "# 뮤직 비디오\n",
    "\n",
    "def count(cap):\n",
    "    cnt = 1\n",
    "    sum = 0\n",
    "    for x in a:\n",
    "        if sum + x > cap:       # 연속해서 더하며 들어온 용량보다 클때는 cnt를 높이고 sum을 다음값으로 초기화한다.\n",
    "            cnt += 1\n",
    "            sum = x\n",
    "        else:\n",
    "            sum += x\n",
    "    return cnt\n",
    "\n",
    "# n, m = map(int, input().split())\n",
    "# a = list(map(int, input().split()))\n",
    "\n",
    "n, m = 9, 3\n",
    "a = [1, 2, 3, 4, 5, 6, 7, 8, 9]\n",
    "\n",
    "lt = 0\n",
    "rt = sum(a)\n",
    "result = 0\n",
    "while lt <= rt:\n",
    "    mid = (lt + rt) // 2\n",
    "    totalSum = 0\n",
    "    if count(mid) <= m:\n",
    "        result = mid\n",
    "        rt = mid - 1            # 최초 중간값은 23, 용량이 23일때 3개의 DVD로 만들수 있음, 그 보다 더 큰 용량으로도 충분하므로 작은 용량일때를 확인한다.\n",
    "    else:\n",
    "        lt = mid + 1\n",
    "\n",
    "print(result)"
   ]
  }
 ],
 "metadata": {
  "kernelspec": {
   "display_name": "Python 3",
   "language": "python",
   "name": "python3"
  },
  "language_info": {
   "codemirror_mode": {
    "name": "ipython",
    "version": 3
   },
   "file_extension": ".py",
   "mimetype": "text/x-python",
   "name": "python",
   "nbconvert_exporter": "python",
   "pygments_lexer": "ipython3",
   "version": "3.9.2"
  }
 },
 "nbformat": 4,
 "nbformat_minor": 2
}
