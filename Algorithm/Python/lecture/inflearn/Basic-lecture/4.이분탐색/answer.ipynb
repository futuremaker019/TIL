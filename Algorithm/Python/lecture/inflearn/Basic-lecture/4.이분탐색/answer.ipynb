{
 "cells": [
  {
   "cell_type": "code",
   "execution_count": null,
   "metadata": {},
   "outputs": [],
   "source": [
    "# 이분검색\n",
    "\n",
    "# 8 32\n",
    "# 23 87 65 12 57 32 99 81\n",
    "\n"
   ]
  }
 ],
 "metadata": {
  "language_info": {
   "name": "python"
  }
 },
 "nbformat": 4,
 "nbformat_minor": 2
}
