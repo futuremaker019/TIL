{
 "cells": [
  {
   "cell_type": "code",
   "execution_count": null,
   "metadata": {},
   "outputs": [],
   "source": [
    "# 이분검색\n",
    "\n",
    "# 8 32\n",
    "# 23 87 65 12 57 32 99 81\n",
    "\n",
    "n, m = map(int, input().split())\n",
    "music = [list(map(int, input().split())) for _ in range(n)]\n",
    "\n",
    "music.sort()\n",
    "\n",
    "lt = 0\n",
    "rt = n - 1\n",
    "while lt <= rt:\n",
    "    mid = (lt + rt) // 2\n",
    "    if music[mid] == m:\n",
    "        print(mid + 1)\n",
    "        break\n",
    "    elif music[mid] > m:\n",
    "        rt = mid - 1\n",
    "    else:\n",
    "        lt = mid + 1"
   ]
  },
  {
   "cell_type": "code",
   "execution_count": null,
   "metadata": {},
   "outputs": [],
   "source": [
    "#  랜선 자르기"
   ]
  },
  {
   "cell_type": "code",
   "execution_count": 4,
   "metadata": {},
   "outputs": [
    {
     "name": "stdout",
     "output_type": "stream",
     "text": [
      "9\n"
     ]
    }
   ],
   "source": [
    "# 뮤직 비디오\n",
    "\n",
    "def countDVD(cap):\n",
    "    cnt = 1\n",
    "    sum = 0\n",
    "    for x in music:\n",
    "        if sum + x > cap:       # 연속해서 더하며 들어온 용량보다 클때는 cnt를 높이고 sum을 다음값으로 초기화한다.\n",
    "            cnt += 1\n",
    "            sum = x\n",
    "        else:\n",
    "            sum += x\n",
    "    return cnt\n",
    "\n",
    "# n, m = map(int, input().split())\n",
    "# a = list(map(int, input().split()))\n",
    "\n",
    "n, m = 9, 9                     # 노래 갯수              \n",
    "music = [1, 2, 3, 4, 5, 6, 7, 8, 9]\n",
    "\n",
    "maxx = max(music)               # 하나의 DVD는 무조건 가장 긴 곡중 하나의 노래를 담고있어야 한다.\n",
    "\n",
    "lt = 0\n",
    "rt = sum(music)\n",
    "result = 0\n",
    "while lt <= rt:\n",
    "    mid = (lt + rt) // 2\n",
    "    totalSum = 0\n",
    "    if mid >= maxx and countDVD(mid) <= m:\n",
    "        result = mid\n",
    "        rt = mid - 1            # 최초 중간값은 23, 용량이 23일때 3개의 DVD로 만들수 있음, 그 보다 더 큰 용량으로도 충분하므로 작은 용량일때를 확인한다.\n",
    "    else:\n",
    "        lt = mid + 1\n",
    "\n",
    "print(result)\n"
   ]
  },
  {
   "cell_type": "code",
   "execution_count": null,
   "metadata": {},
   "outputs": [],
   "source": [
    "# 마굿간 정하기 (결정 알고리즘)\n",
    "\n",
    "# 리스트에서 처음과 끝값을 이분한 값이 말과 말의 최대거리를 뜻하게 된다고 한다.\n",
    "\n",
    "n, c = 5, 3\n",
    "xi = [1, 2, 4, 8, 9]\n",
    "\n",
    "lt = xi[0]\n",
    "rt = xi[-1]\n",
    "while lt <= rt:\n",
    "    midValue = (lt + rt) // 2\n",
    "    startValue = xi[0]\n",
    "    cnt = 0\n",
    "    for j in range(1, len(xi) - 1):\n",
    "        maxValue = startValue - xi[j]\n",
    "        if maxValue >= mid:\n",
    "            result = maxValue\n",
    "            startValue = xi[j]\n",
    "            cnt += 1\n",
    "    if cnt  c:\n",
    "        result = 0\n",
    "\n",
    "            \n",
    "\n",
    "        \n",
    "        \n"
   ]
  }
 ],
 "metadata": {
  "kernelspec": {
   "display_name": "Python 3",
   "language": "python",
   "name": "python3"
  },
  "language_info": {
   "codemirror_mode": {
    "name": "ipython",
    "version": 3
   },
   "file_extension": ".py",
   "mimetype": "text/x-python",
   "name": "python",
   "nbconvert_exporter": "python",
   "pygments_lexer": "ipython3",
   "version": "3.9.2"
  }
 },
 "nbformat": 4,
 "nbformat_minor": 2
}
