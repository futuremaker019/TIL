{
 "cells": [
  {
   "cell_type": "code",
   "execution_count": 1,
   "metadata": {},
   "outputs": [
    {
     "name": "stdout",
     "output_type": "stream",
     "text": [
      "3\n"
     ]
    }
   ],
   "source": [
    "# 이분검색\n",
    "\n",
    "# 8 32\n",
    "# 23 87 65 12 57 32 99 81\n",
    "\n",
    "n, m = map(int, input().split())\n",
    "a = list(map(int, input().split()))\n",
    "\n",
    "a.sort()\n",
    "\n",
    "def binary_search(s, e, arr, value):\n",
    "  pi = (s + e) // 2\n",
    "  pivotValue = arr[pi]\n",
    "  if value == pivotValue:\n",
    "    return pi + 1\n",
    "  if value < pivotValue:\n",
    "    return binary_search(s, pi - 1, arr, value)\n",
    "  if value > pivotValue:\n",
    "    return binary_search(pi + 1, e, arr, value)\n",
    "\n",
    "print(binary_search(0, len(a), a, m))\n"
   ]
  },
  {
   "cell_type": "code",
   "execution_count": 6,
   "metadata": {},
   "outputs": [
    {
     "name": "stdout",
     "output_type": "stream",
     "text": [
      "[12, 23, 28, 32, 40, 55, 57, 65, 81, 87, 99]\n",
      "5\n"
     ]
    }
   ],
   "source": [
    "# 이분탐색\n",
    "\n",
    "# 8 32\n",
    "# 23 87 65 12 57 32 99 81\n",
    "\n",
    "# n, m = map(int, input().split())\n",
    "# a = [list(map(int, input().split())) for _ in range(n)]\n",
    "\n",
    "n, m = 8, 40\n",
    "a = [23, 87, 65, 12, 57, 32, 99, 81, 28, 40, 55]\n",
    "\n",
    "a.sort()\n",
    "\n",
    "def binary_search(start, end, arr, value):\n",
    "    while start <= end:\n",
    "        mid = (start + end) // 2\n",
    "        if value == arr[mid]:\n",
    "            return mid + 1\n",
    "        if value < arr[mid]:\n",
    "            end = mid + 1\n",
    "        if value > arr[mid]:\n",
    "            start = mid - 1\n",
    "\n",
    "print(a)\n",
    "print(binary_search(0, n - 1, a, m))"
   ]
  },
  {
   "cell_type": "code",
   "execution_count": 3,
   "metadata": {},
   "outputs": [
    {
     "name": "stdout",
     "output_type": "stream",
     "text": [
      "200\n"
     ]
    }
   ],
   "source": [
    "# 랜선자르기 (결정알고리즘)\n",
    "\n",
    "# 중앙값을 반복하며 11개의 케이블을 자를수 있는 최대값을 찾는 문제\n",
    "# 11개의 케이블이 나올때까지 계속 돌며 start와 end의 값이 같을때까지 찾도록 만든다.\n",
    "\n",
    "# n, m = map(int, input().split())\n",
    "# a = []\n",
    "# for _ in range(n):\n",
    "#     a.append(int(input()))\n",
    "\n",
    "n, m = 4, 11\n",
    "a = [802, 743, 457, 539]\n",
    "\n",
    "def binary_search(start, end, a, count):\n",
    "    while start <= end:\n",
    "        mid = (start + end) // 2\n",
    "        totalSum = 0\n",
    "        for each in a:\n",
    "            totalSum += each // mid\n",
    "        if count == totalSum:\n",
    "            result = mid\n",
    "            # result.append(mid)\n",
    "            start = mid + 1\n",
    "        elif count > totalSum:\n",
    "            end = mid - 1\n",
    "        elif count < totalSum:\n",
    "            start = mid + 1\n",
    "    return result;\n",
    "\n",
    "maxLength = max(a)\n",
    "# print(max(binary_search(0, maxLength, a, m)))\n",
    "print(binary_search(0, maxLength, a, m))"
   ]
  },
  {
   "cell_type": "code",
   "execution_count": null,
   "metadata": {},
   "outputs": [],
   "source": [
    "# 뮤직비디오 (결정알고리즘)\n",
    "\n",
    "n, m = map(int, input().split())\n",
    "a = list(map(int, input().split()))\n",
    "\n",
    "\n"
   ]
  },
  {
   "cell_type": "code",
   "execution_count": 7,
   "metadata": {},
   "outputs": [
    {
     "name": "stdout",
     "output_type": "stream",
     "text": [
      "10\n"
     ]
    }
   ],
   "source": [
    "# 마굿간 정하기 (결정알고리즘)\n",
    "\n",
    "# C 마리의 말, 가장 가까운 두 말의 거리가 최대가 되게 말을 마구간에 배치한다.\n",
    "# C 마리의 말을 N개의 마구간에 배치했을 때 가장 가까운 두 말의 거리가 최대가 되는 그 최대값을 출력하라\n",
    "\n",
    "# n, c : 마굿간의 수, 말의 수\n",
    "# xi :  마구간의 좌표\n",
    "\n",
    "# n, c = map(int, input().split())\n",
    "# xi = [i for i in range(n)]\n",
    "\n",
    "def Count(maxLen): \n",
    "    cnt = 1             # 처음 마굿간에 말을 하나 넣고 시작\n",
    "    endPoint = xi[0]    # 시작점 (처음 마굿간의 위치)\n",
    "    for i in range(1, n):\n",
    "        if xi[i] - endPoint >= maxLen:\n",
    "            cnt += 1\n",
    "            endPoint = xi[i]\n",
    "    return cnt\n",
    "\n",
    "n, c = 8, 3\n",
    "xi = [1, 2, 4, 8, 9, 11, 20, 21]\n",
    "\n",
    "xi.sort()\n",
    "\n",
    "lt = xi[0]\n",
    "rt = xi[n - 1]\n",
    "while lt <= rt:\n",
    "    midValue = (lt + rt) // 2   # 가장 작은값과 먼값의 중간으로 최대거리를 구한다? 리스트의 값을 mid로 사용할지 index를 사용할지 구분해야한다.\n",
    "    if Count(midValue) >= c:\n",
    "        res = midValue\n",
    "        lt = midValue + 1\n",
    "    else:\n",
    "        rt = midValue - 1\n",
    "\n",
    "print(res)"
   ]
  },
  {
   "cell_type": "code",
   "execution_count": 11,
   "metadata": {},
   "outputs": [
    {
     "name": "stdout",
     "output_type": "stream",
     "text": [
      "4\n"
     ]
    }
   ],
   "source": [
    "# 회의실 배정(그리디)\n",
    "\n",
    "# 회의의 처음시간과 끝시간을 검색해서 cnt가 가장 높은 것을 출력하면 될거 같다.\n",
    "\n",
    "# 튜플을 사용하면 될듯?\n",
    "\n",
    "n = int(input())\n",
    "arr = []\n",
    "\n",
    "for _ in range(n):\n",
    "    p, k = map(int, input().split())\n",
    "    arr.append((p, k))\n",
    "\n",
    "\n",
    "# n = 5\n",
    "# arr = [(1, 4), (2, 3), (3, 5), (4, 6), (5, 7)]\n",
    "\n",
    "cnt = 0\n",
    "for i in range(n):\n",
    "    tempCnt = 1\n",
    "    closeTime = arr[i][1]\n",
    "    loopCount = 0\n",
    "    while loopCount < n:\n",
    "        loopCount += 1\n",
    "        for j in range(i, n):\n",
    "            if closeTime == arr[j][0]:\n",
    "                tempCnt += 1\n",
    "                closeTime = arr[j][1]\n",
    "    if cnt < tempCnt:\n",
    "        cnt = tempCnt\n",
    "\n",
    "print(cnt)\n",
    "\n",
    "# 통과 못함 (시간초과 - 모든 값을 다 검색해서 가야하는 것이 아니라는 것에 초점을 맞추자) "
   ]
  },
  {
   "cell_type": "code",
   "execution_count": 18,
   "metadata": {},
   "outputs": [
    {
     "name": "stdout",
     "output_type": "stream",
     "text": [
      "[(170, 72), (180, 70), (172, 67), (183, 65), (181, 60)]\n",
      "3\n"
     ]
    }
   ],
   "source": [
    "# 씨름 선수 (그리디)\n",
    "# 키, 몸무게 중 하나의 기준을 잡고 비교하면 될거 같다.\n",
    "\n",
    "# n = int(input())\n",
    "# a = []\n",
    "\n",
    "# for _ in range(n):\n",
    "#     h, w = map(int, input().split())\n",
    "#     a.append((h, w))\n",
    "\n",
    "n = 5\n",
    "a = [(172, 67), (183, 65), (180, 70), (170, 72), (181, 60)]\n",
    "\n",
    "a.sort(key = lambda x: x[1], reverse=True)    # 몸무게로 정렬함 (오름차순으로 정렬...)\n",
    "print(a)\n",
    "\n",
    "# [(181, 60), (183, 65), (172, 67), (180, 70), (170, 72)]\n",
    "\n",
    "# 하나하나 비교해야 하나 위에서부터 아래로 가면서 비교하면 될거 같다.\n",
    "\n",
    "cnt = 0             # 몸무게가 가장 큰 사람\n",
    "height = 200        # 이전 값을 저장하기 위한 변수 (처음사람은 몸무게가 가장 무거우므로 무조건 들어가게 만들어준다.)\n",
    "for h, w in a:\n",
    "    if h < height:\n",
    "        cnt += 1\n",
    "    height = h\n",
    "\n",
    "print(cnt)"
   ]
  },
  {
   "cell_type": "code",
   "execution_count": 22,
   "metadata": {},
   "outputs": [
    {
     "name": "stdout",
     "output_type": "stream",
     "text": [
      "[14, 40, 42, 65, 68, 69, 76, 76, 81, 87]\n",
      "result :  20\n"
     ]
    }
   ],
   "source": [
    "# 창고정리\n",
    "\n",
    "# max의 인덱스를 가져와 값에 1을 뺴고 min의 인덱스를 가져와 값에 1을 더한다. ?\n",
    "\n",
    "# n = int(input())\n",
    "# arr = list(map(int, input().split()))\n",
    "# m = int(input())\n",
    "\n",
    "\n",
    "# 중복된 값을 어떻게 처리할지 고민해야함\n",
    "def findIndexByBinarySearch(value, s, e, arr):\n",
    "    result = 0\n",
    "    while s <= e:\n",
    "        mid = (s + e) // 2\n",
    "        if value == arr[mid]:\n",
    "            result = mid\n",
    "            break\n",
    "        elif value < arr[mid]:\n",
    "            e = mid - 1\n",
    "        else:\n",
    "            s = mid + 1\n",
    "    return result;\n",
    "\n",
    "def findMaxValue(arr):\n",
    "    result = 0\n",
    "    for value in arr:\n",
    "        if result < value:\n",
    "            result = value\n",
    "    return result\n",
    "\n",
    "def findMinValue(arr):\n",
    "    result = 2150000\n",
    "    for value in arr:\n",
    "        if result > value:\n",
    "            result = value\n",
    "    return result\n",
    "\n",
    "n = 10\n",
    "arr = [69, 42, 68, 76, 40, 87, 14, 65, 76, 81]\n",
    "m = 50\n",
    "\n",
    "arr.sort()\n",
    "print(arr)\n",
    "# 컨셉 : 큰수와 작은수의 인덱스를 찾은 후 값을 각각, + 1, -1을 해준다. \n",
    "\n",
    "for _ in range(m):\n",
    "    maxValue = findMaxValue(arr)\n",
    "    minValue = findMinValue(arr)\n",
    "    maxValueIndex = arr.index(maxValue)\n",
    "    minValueIndex = arr.index(minValue)\n",
    "    # maxValueIndex = findIndexByBinarySearch(maxValue, 0, len(arr) - 1, arr)\n",
    "    # minValueIndex = findIndexByBinarySearch(minValue, 0, len(arr) - 1, arr)\n",
    "    \n",
    "    # print(\"maxValueIndex : \", maxValueIndex)\n",
    "    # print(\"minValueIndex : \", minValueIndex)\n",
    "\n",
    "    arr[maxValueIndex] = arr[maxValueIndex] - 1\n",
    "    arr[minValueIndex] = arr[minValueIndex] + 1\n",
    "\n",
    "print(\"result : \", findMaxValue(arr) - findMinValue(arr))\n",
    "\n",
    "# 너무 어렵게 했다..."
   ]
  },
  {
   "cell_type": "code",
   "execution_count": 16,
   "metadata": {},
   "outputs": [
    {
     "name": "stdout",
     "output_type": "stream",
     "text": [
      "w1 :  118\n",
      "w1 :  112\n",
      "w1 :  110\n",
      "w1 :  108\n",
      "w1 :  109\n",
      "w1 :  103\n",
      "w1 :  112\n",
      "w1 :  115\n",
      "w1 :  86\n",
      "w1 :  80\n",
      "w1 :  113\n",
      "w1 :  83\n",
      "w1 :  89\n",
      "w1 :  110\n",
      "w1 :  87\n",
      "w1 :  108\n",
      "w1 :  114\n",
      "w1 :  117\n",
      "w1 :  112\n",
      "w1 :  94\n",
      "w1 :  116\n",
      "w1 :  115\n",
      "w1 :  109\n",
      "w1 :  112\n",
      "w1 :  70\n",
      "w1 :  83\n",
      "w1 :  91\n",
      "w1 :  97\n",
      "w1 :  100\n",
      "w1 :  95\n",
      "65\n"
     ]
    }
   ],
   "source": [
    "# 침몰하는 타이타닉(그리디)\n",
    "\n",
    "# 유람선에 N명의 승객이 타고 있음\n",
    "# 구명보트는 2명 이하로 탈수 있고, 한개의 보트에는 M kg 이하로 제한\n",
    "# N명의 승객 몸무게가 주어졌을때 승객 모두가 탈출하기 위한 구명보트의 최소개수를 출력하는 문제\n",
    "\n",
    "\n",
    "n, m = map(int, input().split())\n",
    "queue = list(map(int, input().split()))\n",
    "\n",
    "# n, m = 5, 140\n",
    "# queue = [90, 50, 70, 100, 60]\n",
    "# 2명 이하, 140 이하로 제안\n",
    "\n",
    "# n, m = 10, 150\n",
    "# queue = [86, 95, 107, 67, 38, 49, 116, 22, 78, 53]\n",
    "\n",
    "cnt = 0\n",
    "while queue: \n",
    "    w1 = queue.pop(0)\n",
    "    prevTW = w1\n",
    "    for _ in range(len(queue)):\n",
    "        w2 = queue.pop(0)\n",
    "        tw = w1 + w2\n",
    "        if m >= w1 + w2 and prevTW < tw:\n",
    "            prevTW = tw\n",
    "\n",
    "        # 두수의 합이 150이 넘지않는지 확인하기 위해서는\n",
    "        # 하나의 수를 고르고 고른수부터 다음까지 모든 값을 확인해야 하는거 아닌가?\n",
    "\n",
    "        if m >= w1 + w2:\n",
    "            cnt += 1\n",
    "            break\n",
    "        else:\n",
    "            queue.append(w2)\n",
    "    else:\n",
    "        print(\"w1 : \", w1)\n",
    "        cnt += 1\n",
    "\n",
    "print(cnt)\n"
   ]
  }
 ],
 "metadata": {
  "kernelspec": {
   "display_name": "Python 3",
   "language": "python",
   "name": "python3"
  },
  "language_info": {
   "codemirror_mode": {
    "name": "ipython",
    "version": 3
   },
   "file_extension": ".py",
   "mimetype": "text/x-python",
   "name": "python",
   "nbconvert_exporter": "python",
   "pygments_lexer": "ipython3",
   "version": "3.11.3"
  }
 },
 "nbformat": 4,
 "nbformat_minor": 2
}
