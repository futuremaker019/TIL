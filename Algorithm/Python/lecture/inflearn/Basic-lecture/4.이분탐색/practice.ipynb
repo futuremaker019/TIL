{
 "cells": [
  {
   "cell_type": "code",
   "execution_count": 1,
   "metadata": {},
   "outputs": [
    {
     "name": "stdout",
     "output_type": "stream",
     "text": [
      "3\n"
     ]
    }
   ],
   "source": [
    "# 이분검색\n",
    "\n",
    "# 8 32\n",
    "# 23 87 65 12 57 32 99 81\n",
    "\n",
    "n, m = map(int, input().split())\n",
    "a = list(map(int, input().split()))\n",
    "\n",
    "a.sort()\n",
    "\n",
    "def binary_search(s, e, arr, value):\n",
    "  pi = (s + e) // 2\n",
    "  pivotValue = arr[pi]\n",
    "  if value == pivotValue:\n",
    "    return pi + 1\n",
    "  if value < pivotValue:\n",
    "    return binary_search(s, pi - 1, arr, value)\n",
    "  if value > pivotValue:\n",
    "    return binary_search(pi + 1, e, arr, value)\n",
    "\n",
    "print(binary_search(0, len(a), a, m))\n"
   ]
  },
  {
   "cell_type": "code",
   "execution_count": 6,
   "metadata": {},
   "outputs": [
    {
     "name": "stdout",
     "output_type": "stream",
     "text": [
      "[12, 23, 28, 32, 40, 55, 57, 65, 81, 87, 99]\n",
      "5\n"
     ]
    }
   ],
   "source": [
    "# 이분탐색\n",
    "\n",
    "# 8 32\n",
    "# 23 87 65 12 57 32 99 81\n",
    "\n",
    "# n, m = map(int, input().split())\n",
    "# a = [list(map(int, input().split())) for _ in range(n)]\n",
    "\n",
    "n, m = 8, 40\n",
    "a = [23, 87, 65, 12, 57, 32, 99, 81, 28, 40, 55]\n",
    "\n",
    "a.sort()\n",
    "\n",
    "def binary_search(start, end, arr, value):\n",
    "    while start <= end:\n",
    "        mid = (start + end) // 2\n",
    "        if value == arr[mid]:\n",
    "            return mid + 1\n",
    "        if value < arr[mid]:\n",
    "            end = mid + 1\n",
    "        if value > arr[mid]:\n",
    "            start = mid - 1\n",
    "\n",
    "print(a)\n",
    "print(binary_search(0, n - 1, a, m))"
   ]
  },
  {
   "cell_type": "code",
   "execution_count": 1,
   "metadata": {},
   "outputs": [
    {
     "name": "stdout",
     "output_type": "stream",
     "text": [
      "200\n"
     ]
    }
   ],
   "source": [
    "# 랜선자르기 (결정알고리즘)\n",
    "\n",
    "# 중앙값을 반복하며 11개의 케이블을 자를수 있는 최대값을 찾는 문제\n",
    "# 11개의 케이블이 나올때까지 계속 돌며 start와 end의 값이 같을때까지 찾도록 만든다.\n",
    "\n",
    "# n, m = map(int, input().split())\n",
    "# a = []\n",
    "# for _ in range(n):\n",
    "#     a.append(int(input()))\n",
    "\n",
    "n, m = 4, 11\n",
    "a = [802, 743, 457, 539]\n",
    "\n",
    "def binary_search(start, end, a, count):\n",
    "    result = []\n",
    "    while start <= end:\n",
    "        mid = (start + end) // 2\n",
    "        totalSum = 0\n",
    "        for each in a:\n",
    "            totalSum += each // mid\n",
    "        if count == totalSum:\n",
    "            result.append(mid)\n",
    "            start = mid + 1\n",
    "        elif count > totalSum:\n",
    "            end = mid - 1\n",
    "        elif count < totalSum:\n",
    "            start = mid + 1\n",
    "    return result;\n",
    "\n",
    "maxLength = max(a)\n",
    "print(max(binary_search(0, maxLength, a, m)))"
   ]
  },
  {
   "cell_type": "code",
   "execution_count": null,
   "metadata": {},
   "outputs": [],
   "source": [
    "# 뮤직비디오 (결정알고리즘)\n",
    "\n",
    "n, m = map(int, input().split())\n",
    "a = [list(map(int, input().split()))]\n",
    "\n",
    "\n"
   ]
  }
 ],
 "metadata": {
  "kernelspec": {
   "display_name": "Python 3",
   "language": "python",
   "name": "python3"
  },
  "language_info": {
   "codemirror_mode": {
    "name": "ipython",
    "version": 3
   },
   "file_extension": ".py",
   "mimetype": "text/x-python",
   "name": "python",
   "nbconvert_exporter": "python",
   "pygments_lexer": "ipython3",
   "version": "3.9.2"
  }
 },
 "nbformat": 4,
 "nbformat_minor": 2
}
