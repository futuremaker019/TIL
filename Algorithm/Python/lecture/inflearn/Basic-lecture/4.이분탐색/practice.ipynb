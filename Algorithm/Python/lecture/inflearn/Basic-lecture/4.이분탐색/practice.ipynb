{
 "cells": [
  {
   "cell_type": "code",
   "execution_count": 1,
   "metadata": {},
   "outputs": [
    {
     "name": "stdout",
     "output_type": "stream",
     "text": [
      "3\n"
     ]
    }
   ],
   "source": [
    "# 이분검색\n",
    "\n",
    "# 8 32\n",
    "# 23 87 65 12 57 32 99 81\n",
    "\n",
    "n, m = map(int, input().split())\n",
    "a = list(map(int, input().split()))\n",
    "\n",
    "a.sort()\n",
    "\n",
    "def binary_search(s, e, arr, value):\n",
    "  pi = (s + e) // 2\n",
    "  pivotValue = arr[pi]\n",
    "  if value == pivotValue:\n",
    "    return pi + 1\n",
    "  if value < pivotValue:\n",
    "    return binary_search(s, pi - 1, arr, value)\n",
    "  if value > pivotValue:\n",
    "    return binary_search(pi + 1, e, arr, value)\n",
    "\n",
    "print(binary_search(0, len(a), a, m))\n"
   ]
  }
 ],
 "metadata": {
  "kernelspec": {
   "display_name": "Python 3",
   "language": "python",
   "name": "python3"
  },
  "language_info": {
   "codemirror_mode": {
    "name": "ipython",
    "version": 3
   },
   "file_extension": ".py",
   "mimetype": "text/x-python",
   "name": "python",
   "nbconvert_exporter": "python",
   "pygments_lexer": "ipython3",
   "version": "3.9.2"
  }
 },
 "nbformat": 4,
 "nbformat_minor": 2
}
