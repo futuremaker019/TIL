{
 "cells": [
  {
   "cell_type": "code",
   "execution_count": null,
   "metadata": {},
   "outputs": [],
   "source": [
    "# 이분탐색을 더 풀어보기 위해 문제 추가함\n",
    "\n",
    "# 수 찾기 (1920) (이분탐색)\n",
    "\n",
    "# n = int(input())\n",
    "# arr = list(map(int, input().split()))\n",
    "# m = int(input())\n",
    "# ex = list(map(int, input().split()))\n",
    "\n",
    "n = 5\n",
    "arr = [4, 1, 5, 2, 3]\n",
    "m = 5\n",
    "ex = [1, 3, 7, 9, 5]\n",
    "\n",
    "arr.sort()\n",
    "\n",
    "for i in ex:\n",
    "    lt = 0\n",
    "    rt = n - 1\n",
    "    hasValue = False\n",
    "    while lt <= rt:\n",
    "        mid = (lt + rt) // 2\n",
    "        if i == arr[mid]:\n",
    "            hasValue = True\n",
    "            break\n",
    "        elif i > arr[mid]:\n",
    "            lt = mid + 1\n",
    "        else:\n",
    "            rt = mid - 1\n",
    "    if hasValue:\n",
    "        print(1)\n",
    "    else:\n",
    "        print(0)"
   ]
  },
  {
   "cell_type": "code",
   "execution_count": null,
   "metadata": {},
   "outputs": [],
   "source": [
    "# 랜선자르기"
   ]
  },
  {
   "cell_type": "code",
   "execution_count": null,
   "metadata": {},
   "outputs": [],
   "source": [
    "# 뮤직비디오"
   ]
  },
  {
   "cell_type": "code",
   "execution_count": null,
   "metadata": {},
   "outputs": [],
   "source": [
    "# 마굿간 정하기"
   ]
  }
 ],
 "metadata": {
  "kernelspec": {
   "display_name": "Python 3",
   "language": "python",
   "name": "python3"
  },
  "language_info": {
   "name": "python",
   "version": "3.11.3"
  }
 },
 "nbformat": 4,
 "nbformat_minor": 2
}
