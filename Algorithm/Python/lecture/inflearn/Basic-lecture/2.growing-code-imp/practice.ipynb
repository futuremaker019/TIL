{
 "cells": [
  {
   "cell_type": "code",
   "execution_count": 3,
   "metadata": {},
   "outputs": [
    {
     "name": "stdout",
     "output_type": "stream",
     "text": [
      "-1\n"
     ]
    }
   ],
   "source": [
    "# K번째 약수구하기\n",
    "\n",
    "# 약수란  - 주어진 값을 나누어 떨어지는 수 (나머지가 0인 수)를 약수라고 함\n",
    "# n : 약수를 구하기 위한 수, k : k번째\n",
    "\n",
    "n, k = list(map(int, input().split()))\n",
    "count = 0\n",
    "\n",
    "for i in range(1, n + 1):\n",
    "    if n % i == 0:          # 약수는 주어진 값을 나누어 0을 만드는 수\n",
    "        count += 1\n",
    "        if k == count:\n",
    "            print(i)\n",
    "else:\n",
    "    print(-1)\n",
    "\n",
    "# for else 라는 구문이 있구나..."
   ]
  },
  {
   "cell_type": "code",
   "execution_count": null,
   "metadata": {},
   "outputs": [],
   "source": [
    "# k 번째 수\n",
    "T = int(input())                                # 테스트케이스\n",
    "\n",
    "for j in range(T):\n",
    "    N, s, e, k = list(map(int, input().split()))    \n",
    "    arr = list(map(int, input().split()))\n",
    "    arr = arr[s - 1 : e]\n",
    "    arr.sort()\n",
    "\n",
    "    count = 0\n",
    "    \n",
    "    for i in arr:\n",
    "        count += 1\n",
    "        if count == k:\n",
    "            print(\"#\" + str(j + 1) + \" \" + str(i))\n",
    "            break\n",
    "    \n",
    "\n",
    "\"\"\"\n",
    "2\n",
    "6 2 5 3\n",
    "5 2 7 3 8 9\n",
    "15 3 10 3\n",
    "4 15 8 16 6 6 17 3 10 11 18 7 14 7 15\n",
    "\"\"\"\n",
    "\n"
   ]
  },
  {
   "cell_type": "code",
   "execution_count": 21,
   "metadata": {},
   "outputs": [
    {
     "name": "stdout",
     "output_type": "stream",
     "text": [
      "143\n"
     ]
    }
   ],
   "source": [
    "# k 번째 큰수\n",
    "\n",
    "n, k = list(map(int, input().split()))\n",
    "a = list(map(int, input().split()))\n",
    "\n",
    "# res = []   \n",
    "res = set()     # 중복 제거를 히려면 set을 사용하면 된다.\n",
    "\n",
    "for i in range(n):\n",
    "    for j in range(i + 1, n):\n",
    "        for p in range(j + 1, n):\n",
    "            res.add(a[i] + a[j] + a[p])\n",
    "\n",
    "res = list(res)\n",
    "res.sort(reverse=True)\n",
    "print(res[k - 1])     # 인덱스는 0부터 시작하므로 k번째는 k - 1 번째로 반환하면 된다.\n",
    "\n",
    "# 10 3\n",
    "# 13 15 34 23 45 65 33 11 26 42"
   ]
  },
  {
   "cell_type": "code",
   "execution_count": 23,
   "metadata": {},
   "outputs": [
    {
     "name": "stdout",
     "output_type": "stream",
     "text": [
      "2\n"
     ]
    }
   ],
   "source": [
    "# 최소값 구하기\n",
    "\n",
    "arr = [5, 3, 7, 9, 2, 5, 2, 6]\n",
    "# arrMin = float('inf')           # 무한대 값을 넣어준다.\n",
    "arrMin = arr[0]\n",
    "\n",
    "for i in range(len(arr)):\n",
    "    if arrMin > arr[i]:\n",
    "        arrMin = arr[i]\n",
    "\n",
    "print(arrMin)"
   ]
  },
  {
   "cell_type": "code",
   "execution_count": 7,
   "metadata": {},
   "outputs": [
    {
     "name": "stdout",
     "output_type": "stream",
     "text": [
      "74 7\n"
     ]
    }
   ],
   "source": [
    "# 대표값\n",
    "# 45 73 66 87 92 67 75 79 75 80\n",
    "\n",
    "\n"
   ]
  },
  {
   "cell_type": "code",
   "execution_count": null,
   "metadata": {},
   "outputs": [],
   "source": [
    "# 정다면체\n",
    "\n"
   ]
  }
 ],
 "metadata": {
  "kernelspec": {
   "display_name": "Python 3",
   "language": "python",
   "name": "python3"
  },
  "language_info": {
   "codemirror_mode": {
    "name": "ipython",
    "version": 3
   },
   "file_extension": ".py",
   "mimetype": "text/x-python",
   "name": "python",
   "nbconvert_exporter": "python",
   "pygments_lexer": "ipython3",
   "version": "3.11.3"
  }
 },
 "nbformat": 4,
 "nbformat_minor": 2
}
