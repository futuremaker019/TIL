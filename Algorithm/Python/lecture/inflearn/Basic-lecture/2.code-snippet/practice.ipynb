{
 "cells": [
  {
   "cell_type": "code",
   "execution_count": 3,
   "metadata": {},
   "outputs": [
    {
     "name": "stdout",
     "output_type": "stream",
     "text": [
      "-1\n"
     ]
    }
   ],
   "source": [
    "# K번째 약수구하기\n",
    "\n",
    "# 약수란  - 주어진 값을 나누어 떨어지는 수 (나머지가 0인 수)를 약수라고 함\n",
    "# n : 약수를 구하기 위한 수, k : k번째\n",
    "\n",
    "n, k = list(map(int, input().split()))\n",
    "count = 0\n",
    "\n",
    "for i in range(1, n + 1):\n",
    "    if n % i == 0:          # 약수는 주어진 값을 나누어 0을 만드는 수\n",
    "        count += 1\n",
    "        if k == count:\n",
    "            print(i)\n",
    "else:\n",
    "    print(-1)\n",
    "\n",
    "# for else 라는 구문이 있구나..."
   ]
  },
  {
   "cell_type": "code",
   "execution_count": null,
   "metadata": {},
   "outputs": [],
   "source": [
    "# k 번째 수\n",
    "T = int(input())                                # 테스트케이스\n",
    "\n",
    "for j in range(T):\n",
    "    N, s, e, k = list(map(int, input().split()))    \n",
    "    arr = list(map(int, input().split()))\n",
    "    arr = arr[s - 1 : e]\n",
    "    arr.sort()\n",
    "\n",
    "    count = 0\n",
    "    \n",
    "    for i in arr:\n",
    "        count += 1\n",
    "        if count == k:\n",
    "            print(\"#\" + str(j + 1) + \" \" + str(i))\n",
    "            break\n",
    "    \n",
    "\n",
    "\"\"\"\n",
    "2\n",
    "6 2 5 3\n",
    "5 2 7 3 8 9\n",
    "15 3 10 3\n",
    "4 15 8 16 6 6 17 3 10 11 18 7 14 7 15\n",
    "\"\"\"\n",
    "\n"
   ]
  },
  {
   "cell_type": "code",
   "execution_count": 21,
   "metadata": {},
   "outputs": [
    {
     "name": "stdout",
     "output_type": "stream",
     "text": [
      "143\n"
     ]
    }
   ],
   "source": [
    "# k 번째 큰수\n",
    "\n",
    "n, k = list(map(int, input().split()))\n",
    "a = list(map(int, input().split()))\n",
    "\n",
    "# res = []   \n",
    "res = set()     # 중복 제거를 히려면 set을 사용하면 된다.\n",
    "\n",
    "for i in range(n):\n",
    "    for j in range(i + 1, n):\n",
    "        for p in range(j + 1, n):\n",
    "            res.add(a[i] + a[j] + a[p])\n",
    "\n",
    "res = list(res)\n",
    "res.sort(reverse=True)\n",
    "print(res[k - 1])     # 인덱스는 0부터 시작하므로 k번째는 k - 1 번째로 반환하면 된다.\n",
    "\n",
    "# 10 3\n",
    "# 13 15 34 23 45 65 33 11 26 42"
   ]
  },
  {
   "cell_type": "code",
   "execution_count": 23,
   "metadata": {},
   "outputs": [
    {
     "name": "stdout",
     "output_type": "stream",
     "text": [
      "2\n"
     ]
    }
   ],
   "source": [
    "# 최소값 구하기\n",
    "\n",
    "arr = [5, 3, 7, 9, 2, 5, 2, 6]\n",
    "# arrMin = float('inf')           # 무한대 값을 넣어준다.\n",
    "arrMin = arr[0]\n",
    "\n",
    "for i in range(len(arr)):\n",
    "    if arrMin > arr[i]:\n",
    "        arrMin = arr[i]\n",
    "\n",
    "print(arrMin)"
   ]
  },
  {
   "cell_type": "code",
   "execution_count": 7,
   "metadata": {},
   "outputs": [
    {
     "name": "stdout",
     "output_type": "stream",
     "text": [
      "74 7\n"
     ]
    }
   ],
   "source": [
    "# 대표값\n",
    "# 45 73 66 87 92 67 75 79 75 80\n",
    "\n",
    "\n"
   ]
  },
  {
   "cell_type": "code",
   "execution_count": 17,
   "metadata": {},
   "outputs": [
    {
     "name": "stdout",
     "output_type": "stream",
     "text": [
      "5 6 7 "
     ]
    }
   ],
   "source": [
    "# 정다면체\n",
    "\n",
    "# N, M은 4, 6, 8, 12, 20의 정다면체로 주어진다.\n",
    "# 2개의 정다면체를 던져서 나온 수의 합 중 가장 확률이 높은 숫자를 출력하는 프로그램을 작성하라\n",
    "\n",
    "n, m = list(map(int, input().split()))\n",
    "\n",
    "# 1,2,3,4  1,2,3,4,5,6\n",
    "\n",
    "arr = [0] * (n + m + 1)\n",
    "for i in range(1, n + 1):\n",
    "  for j in range(1, m + 1):\n",
    "    arr[i + j] += 1\n",
    "\n",
    "for i in range(len(arr)):\n",
    "  if max(arr) == arr[i]:\n",
    "    print(i, end=\" \")\n"
   ]
  },
  {
   "cell_type": "code",
   "execution_count": null,
   "metadata": {},
   "outputs": [],
   "source": [
    "# 자릿수의 합\n",
    "\n",
    "# n = int(input())\n",
    "# d = list(map(int, input().split()))\n",
    "\n",
    "# print(n, d)\n",
    "\n",
    "n = 3\n",
    "d = [125, 15232, 97, 292929]\n",
    "\n",
    "result = []\n",
    "for i in range(len(d)):\n",
    "  s = 0\n",
    "  for j in str(d[i]):\n",
    "    s += int(j)\n",
    "  result.append(s)\n",
    "\n",
    "result = [(index, value) for index, value in enumerate(result)]\n",
    "print(result)\n",
    "\n",
    "max = 0\n",
    "for item in result:\n",
    "  if item[1] > max:\n",
    "    max = item[1]\n",
    "    idx = item[0]\n",
    "\n",
    "print(d[idx])\n",
    "\n",
    "\n",
    "# 3\n",
    "# 125, 15232, 97"
   ]
  },
  {
   "cell_type": "code",
   "execution_count": null,
   "metadata": {},
   "outputs": [],
   "source": [
    "# 뒤집은 소수\n",
    "\n",
    "n = int(input())\n",
    "a = list(map(int, input().split()))\n",
    "\n",
    "def reverse(x): \n",
    "  g = []\n",
    "  for i in str(x):\n",
    "    g.append(i)\n",
    "  g.reverse()\n",
    "  return int(''.join(g))\n",
    "\n",
    "def isPrime(x):\n",
    "  for i in range(2, x):\n",
    "    if x % i == 0:\n",
    "      return False\n",
    "  return True\n",
    "\n",
    "# result = []\n",
    "for i in a:\n",
    "  m = reverse(i)\n",
    "  v = isPrime(m)\n",
    "  print(v, m)\n"
   ]
  },
  {
   "cell_type": "code",
   "execution_count": 5,
   "metadata": {},
   "outputs": [
    {
     "name": "stdout",
     "output_type": "stream",
     "text": [
      "12000\n"
     ]
    }
   ],
   "source": [
    "# 주사위 게임\n",
    "\n",
    "n = int(input())\n",
    "\n",
    "graph = []\n",
    "for i in range(n):\n",
    "    graph.append(list(map(int, input())))\n",
    "\n",
    "# 모두 다르다, 모두 같다, 2개만 같다의 정의를 내려줘야 한다.\n",
    "\n",
    "result = []\n",
    "for arr in graph:\n",
    "    if arr[0] == arr[1] and arr[1] == arr[2]:\n",
    "        result.append(10000 + arr[0] * 1000)\n",
    "    elif arr[0] == arr[1]:\n",
    "        result.append(1000 + arr[0] * 100)\n",
    "    elif arr[1] == arr[2]:\n",
    "        result.append(1000 + arr[1] * 100)\n",
    "    elif arr[0] == arr[2]:\n",
    "        result.append(1000 + arr[2] * 100)\n",
    "    else:\n",
    "        result.append(max(arr) * 100)\n",
    "\n",
    "\n",
    "\n",
    "print(max(result))"
   ]
  },
  {
   "cell_type": "code",
   "execution_count": 6,
   "metadata": {},
   "outputs": [
    {
     "name": "stdout",
     "output_type": "stream",
     "text": [
      "10\n"
     ]
    },
    {
     "data": {
      "text/plain": [
       "'\\n10\\n1 0 1 1 1 0 0 1 1 0\\n'"
      ]
     },
     "execution_count": 6,
     "metadata": {},
     "output_type": "execute_result"
    }
   ],
   "source": [
    "# 점수계산\n",
    "\n",
    "# 직전 문제를 맞췄다면 점수를 1점 가산하여 계산해주는 프로그램을 작성하라\n",
    "\n",
    "n = int(input())\n",
    "a = list(map(int, input().split()))\n",
    "\n",
    "result = [0] * n\n",
    "for i in range(len(a)):\n",
    "  if a[i] == 1:\n",
    "    if a[i - 1] > 0 and i > 0:\n",
    "      result[i] = result[i - 1] + 1\n",
    "    else:\n",
    "      result[i] = 1\n",
    "\n",
    "print(sum(result))\n",
    "\n",
    "\"\"\"\n",
    "10  -> 문제수\n",
    "1 0 1 1 1 0 0 1 1 0 -> 맞춘 문제\n",
    "\"\"\""
   ]
  }
 ],
 "metadata": {
  "kernelspec": {
   "display_name": "Python 3",
   "language": "python",
   "name": "python3"
  },
  "language_info": {
   "codemirror_mode": {
    "name": "ipython",
    "version": 3
   },
   "file_extension": ".py",
   "mimetype": "text/x-python",
   "name": "python",
   "nbconvert_exporter": "python",
   "pygments_lexer": "ipython3",
   "version": "3.11.3"
  }
 },
 "nbformat": 4,
 "nbformat_minor": 2
}
