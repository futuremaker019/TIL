{
 "cells": [
  {
   "cell_type": "code",
   "execution_count": null,
   "metadata": {},
   "outputs": [],
   "source": [
    "# k 번째 수\n",
    "\n",
    "T = int(input())\n",
    "\n",
    "for t in range(T):\n",
    "    n, s, e, k = list(map(int, input().split()))\n",
    "    a = list(map(int, input().split()))\n",
    "    a = a[s - 1 : e]\n",
    "    a.sort()\n",
    "    print(\"#%d %d\" %(t + 1, a[k - 1]))"
   ]
  },
  {
   "cell_type": "code",
   "execution_count": null,
   "metadata": {},
   "outputs": [],
   "source": [
    "# k 번째 큰수\n",
    "\n",
    "n, k = list(map(int, input().split()))\n",
    "a = list(map(int, input().split()))\n",
    "res = set()\n",
    "\n",
    "for i in range(n):\n",
    "    for j in range(i + 1, n):\n",
    "        for m in range(j + 1, n):\n",
    "            res.add(a[i] + a[j] + a[m])\n",
    "res = list(res)\n",
    "res.sort(reverse=True)\n",
    "print(res[k - 1])"
   ]
  },
  {
   "cell_type": "code",
   "execution_count": 5,
   "metadata": {},
   "outputs": [
    {
     "name": "stdout",
     "output_type": "stream",
     "text": [
      "74\n"
     ]
    }
   ],
   "source": [
    "# 대표값\n",
    "n = int(input())\n",
    "a = list(map(int, input().split()))\n",
    "\n",
    "ave = round(sum(a)/n)\n",
    "\n",
    "t = 10000\n",
    "for idx, x in enumerate(a):\n",
    "    temp = abs(ave - x)\n",
    "    if t > temp:\n",
    "        t = temp \n",
    "        scoure = x\n",
    "        res = idx + 1\n",
    "    elif temp == t:\n",
    "        if x > scoure:\n",
    "            scoure = x\n",
    "            res = idx + 1\n",
    "\n",
    "print(ave, res)"
   ]
  }
 ],
 "metadata": {
  "kernelspec": {
   "display_name": "Python 3",
   "language": "python",
   "name": "python3"
  },
  "language_info": {
   "codemirror_mode": {
    "name": "ipython",
    "version": 3
   },
   "file_extension": ".py",
   "mimetype": "text/x-python",
   "name": "python",
   "nbconvert_exporter": "python",
   "pygments_lexer": "ipython3",
   "version": "3.11.3"
  }
 },
 "nbformat": 4,
 "nbformat_minor": 2
}
