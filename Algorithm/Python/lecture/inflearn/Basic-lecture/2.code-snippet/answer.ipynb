{
 "cells": [
  {
   "cell_type": "code",
   "execution_count": null,
   "metadata": {},
   "outputs": [],
   "source": [
    "# k 번째 수\n",
    "\n",
    "T = int(input())\n",
    "\n",
    "for t in range(T):\n",
    "    n, s, e, k = list(map(int, input().split()))\n",
    "    a = list(map(int, input().split()))\n",
    "    a = a[s - 1 : e]\n",
    "    a.sort()\n",
    "    print(\"#%d %d\" %(t + 1, a[k - 1]))"
   ]
  },
  {
   "cell_type": "code",
   "execution_count": null,
   "metadata": {},
   "outputs": [],
   "source": [
    "# k 번째 큰수\n",
    "\n",
    "n, k = list(map(int, input().split()))\n",
    "a = list(map(int, input().split()))\n",
    "res = set()\n",
    "\n",
    "for i in range(n):\n",
    "    for j in range(i + 1, n):\n",
    "        for m in range(j + 1, n):\n",
    "            res.add(a[i] + a[j] + a[m])\n",
    "res = list(res)\n",
    "res.sort(reverse=True)\n",
    "print(res[k - 1])"
   ]
  },
  {
   "cell_type": "code",
   "execution_count": 5,
   "metadata": {},
   "outputs": [
    {
     "name": "stdout",
     "output_type": "stream",
     "text": [
      "74\n"
     ]
    }
   ],
   "source": [
    "# 대표값\n",
    "n = int(input())\n",
    "a = list(map(int, input().split()))\n",
    "\n",
    "ave = round(sum(a)/n)\n",
    "\n",
    "t = 10000\n",
    "for idx, x in enumerate(a):\n",
    "    temp = abs(ave - x)\n",
    "    if t > temp:\n",
    "        t = temp \n",
    "        scoure = x\n",
    "        res = idx + 1\n",
    "    elif temp == t:\n",
    "        if x > scoure:\n",
    "            scoure = x\n",
    "            res = idx + 1\n",
    "\n",
    "print(ave, res)"
   ]
  },
  {
   "cell_type": "code",
   "execution_count": 1,
   "metadata": {},
   "outputs": [
    {
     "name": "stdout",
     "output_type": "stream",
     "text": [
      "567"
     ]
    }
   ],
   "source": [
    "# 정다면체\n",
    "n, m = map(int, input().split())\n",
    "cnt = [0] * (n + m + 3)\n",
    "for i in range(1, n + 1):\n",
    "  for j in range(1, m + 1):\n",
    "    cnt[i + j] += 1           # 더해지는 값을 인덱스로 이용해 해당 인덱스의 값을 +1 해주어 최대로 많이 나오는 수를 구한다.\n",
    "\n",
    "max = -21470000\n",
    "for i in range(n + m + 1):    # 최대값을 구한다.\n",
    "  if cnt[i] > max:            # 배열의 값이 max 보다 크다면 \n",
    "    max = cnt[i]              # 배열의 값을 max에 저장한다.\n",
    "\n",
    "for i in range(n + m + 1):    # 최대값을 가지고 있는 배열의 인덱스 값을 출력한다.\n",
    "  if cnt[i] == max:\n",
    "    print(i, end=' ')"
   ]
  },
  {
   "cell_type": "code",
   "execution_count": null,
   "metadata": {},
   "outputs": [],
   "source": [
    "# 자릿수의 합\n",
    "\n",
    "# n = int(input())\n",
    "# a = list(map(int, input().split()))\n",
    "\n",
    "n = 3\n",
    "a = [125, 15232, 97]\n",
    "\n",
    "def digit_sum(x):\n",
    "  sum = 0\n",
    "  while x > 0:\n",
    "    sum += x % 10    \n",
    "    x = x // 10\n",
    "  return sum;\n",
    "\n",
    "def digit_sum2(x):\n",
    "  sum = 0\n",
    "  for i in str(x):\n",
    "    sum += int(i)\n",
    "  return sum\n",
    "\n",
    "\n",
    "max = -2147\n",
    "for x in a:\n",
    "  tot = digit_sum2(x)\n",
    "  if tot > max:\n",
    "    max = tot\n",
    "    res = x\n",
    "\n",
    "print(res)\n",
    "\n",
    "\"\"\"\n",
    "while x > 0:\n",
    "  sum += x % 10   x -> 125  125 % 10\n",
    "  x = x // 10\n",
    "\"\"\""
   ]
  },
  {
   "cell_type": "code",
   "execution_count": 4,
   "metadata": {},
   "outputs": [
    {
     "name": "stdout",
     "output_type": "stream",
     "text": [
      "8\n"
     ]
    }
   ],
   "source": [
    "# 소수의 개수 (에라토스네스의 체)\n",
    "\n",
    "# 20까지의 소수를 찾아야한다면 2 ~ 20까지 돌면서 n의 배수는 다 지워주며 진행하면 된다.\n",
    "# 2의 배수, 3의 배수, 4(2의 배수임), 5의 배수 등등 배수들은 해당하는 n을 가지므로 소수가 아니다. (제외시키는 작업)\n",
    "# 여기서는 배열을 만들어 1을 체크하는 방식으로 진행했다.\n",
    "\n",
    "n = int(input())\n",
    "\n",
    "ch = [0] * (n + 1)\n",
    "\n",
    "cnt = 0\n",
    "for i in range(2, n + 1):\n",
    "  if ch[i] == 0:\n",
    "    cnt += 1\n",
    "    for j in range(i, n + 1, i):  # step을 i로 설정하여 i 배수를 모두 1로 체크한다.\n",
    "      ch[j] = 1\n",
    "\n",
    "print(cnt)  # 8"
   ]
  },
  {
   "cell_type": "code",
   "execution_count": null,
   "metadata": {},
   "outputs": [],
   "source": [
    "# 뒤집은 소수\n",
    "\n",
    "n = 5\n",
    "a = [32, 55, 62, 3700, 250]\n",
    "\n",
    "def reverse(x):\n",
    "  \n"
   ]
  }
 ],
 "metadata": {
  "kernelspec": {
   "display_name": "Python 3",
   "language": "python",
   "name": "python3"
  },
  "language_info": {
   "codemirror_mode": {
    "name": "ipython",
    "version": 3
   },
   "file_extension": ".py",
   "mimetype": "text/x-python",
   "name": "python",
   "nbconvert_exporter": "python",
   "pygments_lexer": "ipython3",
   "version": "3.9.2"
  }
 },
 "nbformat": 4,
 "nbformat_minor": 2
}
