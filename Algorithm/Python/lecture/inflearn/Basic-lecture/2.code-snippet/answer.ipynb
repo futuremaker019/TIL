{
 "cells": [
  {
   "cell_type": "code",
   "execution_count": null,
   "metadata": {},
   "outputs": [],
   "source": [
    "# k 번째 수\n",
    "\n",
    "T = int(input())\n",
    "\n",
    "for t in range(T):\n",
    "    n, s, e, k = list(map(int, input().split()))\n",
    "    a = list(map(int, input().split()))\n",
    "    a = a[s - 1 : e]\n",
    "    a.sort()\n",
    "    print(\"#%d %d\" %(t + 1, a[k - 1]))"
   ]
  },
  {
   "cell_type": "code",
   "execution_count": null,
   "metadata": {},
   "outputs": [],
   "source": [
    "# k 번째 큰수\n",
    "\n",
    "n, k = list(map(int, input().split()))\n",
    "a = list(map(int, input().split()))\n",
    "res = set()\n",
    "\n",
    "for i in range(n):\n",
    "    for j in range(i + 1, n):\n",
    "        for m in range(j + 1, n):\n",
    "            res.add(a[i] + a[j] + a[m])\n",
    "res = list(res)\n",
    "res.sort(reverse=True)\n",
    "print(res[k - 1])"
   ]
  },
  {
   "cell_type": "code",
   "execution_count": 5,
   "metadata": {},
   "outputs": [
    {
     "name": "stdout",
     "output_type": "stream",
     "text": [
      "74\n"
     ]
    }
   ],
   "source": [
    "# 대표값\n",
    "n = int(input())\n",
    "a = list(map(int, input().split()))\n",
    "\n",
    "ave = round(sum(a)/n)\n",
    "\n",
    "t = 10000\n",
    "for idx, x in enumerate(a):\n",
    "    temp = abs(ave - x)\n",
    "    if t > temp:\n",
    "        t = temp \n",
    "        scoure = x\n",
    "        res = idx + 1\n",
    "    elif temp == t:\n",
    "        if x > scoure:\n",
    "            scoure = x\n",
    "            res = idx + 1\n",
    "\n",
    "print(ave, res)"
   ]
  },
  {
   "cell_type": "code",
   "execution_count": 1,
   "metadata": {},
   "outputs": [
    {
     "name": "stdout",
     "output_type": "stream",
     "text": [
      "567"
     ]
    }
   ],
   "source": [
    "# 정다면체\n",
    "n, m = map(int, input().split())\n",
    "cnt = [0] * (n + m + 3)\n",
    "for i in range(1, n + 1):\n",
    "  for j in range(1, m + 1):\n",
    "    cnt[i + j] += 1           # 더해지는 값을 인덱스로 이용해 해당 인덱스의 값을 +1 해주어 최대로 많이 나오는 수를 구한다.\n",
    "\n",
    "max = -21470000\n",
    "for i in range(n + m + 1):    # 최대값을 구한다.\n",
    "  if cnt[i] > max:            # 배열의 값이 max 보다 크다면 \n",
    "    max = cnt[i]              # 배열의 값을 max에 저장한다.\n",
    "\n",
    "for i in range(n + m + 1):    # 최대값을 가지고 있는 배열의 인덱스 값을 출력한다.\n",
    "  if cnt[i] == max:\n",
    "    print(i, end=' ')"
   ]
  }
 ],
 "metadata": {
  "kernelspec": {
   "display_name": "Python 3",
   "language": "python",
   "name": "python3"
  },
  "language_info": {
   "codemirror_mode": {
    "name": "ipython",
    "version": 3
   },
   "file_extension": ".py",
   "mimetype": "text/x-python",
   "name": "python",
   "nbconvert_exporter": "python",
   "pygments_lexer": "ipython3",
   "version": "3.9.2"
  }
 },
 "nbformat": 4,
 "nbformat_minor": 2
}
