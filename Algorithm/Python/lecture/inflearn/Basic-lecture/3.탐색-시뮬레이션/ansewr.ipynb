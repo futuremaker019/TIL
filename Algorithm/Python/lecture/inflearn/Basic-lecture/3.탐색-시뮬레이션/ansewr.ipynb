{
 "cells": [
  {
   "cell_type": "code",
   "execution_count": 1,
   "metadata": {},
   "outputs": [
    {
     "name": "stdout",
     "output_type": "stream",
     "text": [
      "#1 YES\n",
      "#2 NO\n",
      "#3 YES\n",
      "#4 NO\n",
      "#5 YES\n"
     ]
    }
   ],
   "source": [
    "# 회문검사\n",
    "\n",
    "n = int(input())\n",
    "for i in range(n):\n",
    "    s = input()\n",
    "    s = s.upper()\n",
    "    size = len(s)\n",
    "    for j in range(size // 2):\n",
    "        if s[j] != s[-1-j]:\n",
    "            print(\"#%d NO\" %(i + 1))\n",
    "            break\n",
    "    else:\n",
    "        print(\"#%d YES\" %(i + 1))"
   ]
  },
  {
   "cell_type": "code",
   "execution_count": 2,
   "metadata": {},
   "outputs": [
    {
     "name": "stdout",
     "output_type": "stream",
     "text": [
      "#1 YES\n",
      "#2 NO\n",
      "#3 YES\n",
      "#4 NO\n",
      "#5 YES\n"
     ]
    }
   ],
   "source": [
    "# 회문 검사2\n",
    "\n",
    "n = int(input())\n",
    "\n",
    "result = []\n",
    "for i in range(n):\n",
    "    value = input()\n",
    "    value = value.lower()\n",
    "    if value == value[::-1]:\n",
    "        print(\"#%d YES\" %(i + 1))\n",
    "    else:\n",
    "        print(\"#%d NO\" %(i + 1))        "
   ]
  },
  {
   "cell_type": "code",
   "execution_count": null,
   "metadata": {},
   "outputs": [],
   "source": [
    "# 숫자만 추출\n",
    "\n",
    "s = input()\n",
    "res = 0\n",
    "\n",
    "for x in s:\n",
    "    if x.isdecimal():\n",
    "        res = res * 10 + int(x)\n",
    "\n",
    "print(res)\n",
    "cnt = 0\n",
    "for i in range(1, res + 1):\n",
    "    if res % i == 0:\n",
    "        cnt += 1\n",
    "\n",
    "print(cnt)"
   ]
  },
  {
   "cell_type": "code",
   "execution_count": null,
   "metadata": {},
   "outputs": [],
   "source": [
    "# 카드 역배치\n",
    "\n",
    "a = list(range(21))\n",
    "\n",
    "for _ in range(10):\n",
    "  s, e = map(int, input().split())\n",
    "  for i in range((e - s + 1) // 2):           # swap 할 횟수를 구해준다.\n",
    "    a[s + i], a[e - i] = a[e - 1], a[s + i]   # 처음과 끝을 스왑함\n",
    "\n",
    "a.pop(0)  # 0을 지우기위해\n",
    "for x in a:\n",
    "  print(x, end=\" \")"
   ]
  },
  {
   "cell_type": "code",
   "execution_count": 1,
   "metadata": {},
   "outputs": [
    {
     "name": "stdout",
     "output_type": "stream",
     "text": [
      "[1, 2, 3, 3, 4, 6, 7, 9]\n"
     ]
    }
   ],
   "source": [
    "# 두 리스트 합치기\n",
    "\n",
    "n = int(input())\n",
    "a1 = list(map(int, input().split()))\n",
    "m = int(input())\n",
    "a2 = list(map(int, input().split()))\n",
    "\n",
    "cnt1 = cnt2 = 0\n",
    "a3 = []\n",
    "\n",
    "while cnt1 < n and cnt2 < m:\n",
    "  if a1[cnt1] <= a2[cnt2]:\n",
    "    a3.append(a1[cnt1])\n",
    "    cnt1 += 1\n",
    "  else:\n",
    "    a3.append(a2[cnt2])\n",
    "    cnt2 += 1\n",
    "\n",
    "if cnt1 < n:\n",
    "  a3 = a3 + a1[cnt1:]\n",
    "if cnt2 < n:\n",
    "  a3 = a3 + a2[cnt2:]\n",
    "\n",
    "for x in a3:\n",
    "  print(x, end=\" \")"
   ]
  },
  {
   "cell_type": "code",
   "execution_count": null,
   "metadata": {},
   "outputs": [],
   "source": [
    "# 수의 합\n",
    "\n",
    "\"\"\"\n",
    "메인 컨셥은 처음과 끝을 가리키는 인덱스를 욺직이는 방식으로 진행한다.\n",
    "total이 m 보다 작을 경우\n",
    "    rt(오른쪽인덱스)를 한칸 앞으로 움직이며 a[rt] 값을 total에 더하여 m 과 비교한다. \n",
    "total이 m 과 같을 경우\n",
    "    우리가 찾는 값이 나오면 count를 올려주고 lt(왼쪽인덱스)를 한칸 앞으로 움직이며 a[lt]값을 빼준다.\n",
    "total이 m 보다 클 경우\n",
    "    total의 값을 줄여주기위해 a[lt]를 total에서 빼주고 lt를 한칸 전진시킨다.\n",
    "\n",
    "while 문의 break 포인트는 rt 값이 n 보다 커질때이다.\n",
    "\"\"\"\n",
    "\n",
    "n, m = list(map(int, input().split()))\n",
    "a = list(map(int, input().split()))\n",
    "\n",
    "lt = 0\n",
    "rt = 1\n",
    "tot = a[0]\n",
    "cnt = 0\n",
    "\n",
    "while True:\n",
    "    if tot < m:\n",
    "        if rt < n:\n",
    "            tot += a[rt]\n",
    "            rt += 1\n",
    "        else:\n",
    "            break\n",
    "    elif tot == m:\n",
    "        cnt += 1\n",
    "        tot -= a[lt]\n",
    "        lt += 1\n",
    "    else:\n",
    "        tot -= a[lt]\n",
    "        lt += 1\n"
   ]
  },
  {
   "cell_type": "code",
   "execution_count": 3,
   "metadata": {},
   "outputs": [
    {
     "name": "stdout",
     "output_type": "stream",
     "text": [
      "155\n"
     ]
    }
   ],
   "source": [
    "# import sys\n",
    "# sys.stdin = open(\"./text.txt\", 'r')  여기서는 동작 안함\n",
    "\n",
    "n = int(input())\n",
    "a = [list(map(int, input().split())) for _ in range(n)]\n",
    "\n",
    "largest = -214700000\n",
    "for i in range(n):\n",
    "    sum1=sum2=0\n",
    "    for j in range(n):\n",
    "        sum1 += a[i][j]     # 행의 합\n",
    "        sum2 += a[j][i]     # 열의 합\n",
    "    if sum1 > largest:\n",
    "        largest = sum1\n",
    "    if sum2 > largest:\n",
    "        largest = sum2\n",
    "\n",
    "sum1=sum2=0\n",
    "for i in range(n):\n",
    "    sum1 += a[i][i]\n",
    "    sum2 += a[i][n - i - 1]\n",
    "    \n",
    "if sum1 > largest:\n",
    "    largest = sum1\n",
    "if sum2 > largest:\n",
    "    largest = sum2\n",
    "\n",
    "print(largest)"
   ]
  }
 ],
 "metadata": {
  "kernelspec": {
   "display_name": "Python 3",
   "language": "python",
   "name": "python3"
  },
  "language_info": {
   "codemirror_mode": {
    "name": "ipython",
    "version": 3
   },
   "file_extension": ".py",
   "mimetype": "text/x-python",
   "name": "python",
   "nbconvert_exporter": "python",
   "pygments_lexer": "ipython3",
   "version": "3.11.3"
  }
 },
 "nbformat": 4,
 "nbformat_minor": 2
}
