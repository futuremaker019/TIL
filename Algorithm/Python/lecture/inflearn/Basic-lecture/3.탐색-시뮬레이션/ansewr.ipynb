{
 "cells": [
  {
   "cell_type": "code",
   "execution_count": 1,
   "metadata": {},
   "outputs": [
    {
     "name": "stdout",
     "output_type": "stream",
     "text": [
      "#1 YES\n",
      "#2 NO\n",
      "#3 YES\n",
      "#4 NO\n",
      "#5 YES\n"
     ]
    }
   ],
   "source": [
    "# 회문검사\n",
    "\n",
    "n = int(input())\n",
    "for i in range(n):\n",
    "    s = input()\n",
    "    s = s.upper()\n",
    "    size = len(s)\n",
    "    for j in range(size // 2):\n",
    "        if s[j] != s[-1-j]:\n",
    "            print(\"#%d NO\" %(i + 1))\n",
    "            break\n",
    "    else:\n",
    "        print(\"#%d YES\" %(i + 1))"
   ]
  },
  {
   "cell_type": "code",
   "execution_count": 2,
   "metadata": {},
   "outputs": [
    {
     "name": "stdout",
     "output_type": "stream",
     "text": [
      "#1 YES\n",
      "#2 NO\n",
      "#3 YES\n",
      "#4 NO\n",
      "#5 YES\n"
     ]
    }
   ],
   "source": [
    "# 회문 검사2\n",
    "\n",
    "n = int(input())\n",
    "\n",
    "result = []\n",
    "for i in range(n):\n",
    "    value = input()\n",
    "    value = value.lower()\n",
    "    if value == value[::-1]:\n",
    "        print(\"#%d YES\" %(i + 1))\n",
    "    else:\n",
    "        print(\"#%d NO\" %(i + 1))        "
   ]
  },
  {
   "cell_type": "code",
   "execution_count": null,
   "metadata": {},
   "outputs": [],
   "source": [
    "# 숫자만 추출\n",
    "\n",
    "s = input()\n",
    "res = 0\n",
    "\n",
    "for x in s:\n",
    "    if x.isdecimal():\n",
    "        res = res * 10 + int(x)\n",
    "\n",
    "print(res)\n",
    "cnt = 0\n",
    "for i in range(1, res + 1):\n",
    "    if res % i == 0:\n",
    "        cnt += 1\n",
    "\n",
    "print(cnt)"
   ]
  },
  {
   "cell_type": "code",
   "execution_count": null,
   "metadata": {},
   "outputs": [],
   "source": [
    "# 카드 역배치\n",
    "\n",
    "a = list(range(21))\n",
    "\n",
    "for _ in range(10):\n",
    "  s, e = map(int, input().split())\n",
    "  for i in range((e - s + 1) // 2):           # swap 할 횟수를 구해준다.\n",
    "    a[s + i], a[e - i] = a[e - 1], a[s + i]   # 처음과 끝을 스왑함\n",
    "\n",
    "a.pop(0)  # 0을 지우기위해\n",
    "for x in a:\n",
    "  print(x, end=\" \")"
   ]
  },
  {
   "cell_type": "code",
   "execution_count": 1,
   "metadata": {},
   "outputs": [
    {
     "name": "stdout",
     "output_type": "stream",
     "text": [
      "[1, 2, 3, 3, 4, 6, 7, 9]\n"
     ]
    }
   ],
   "source": [
    "# 두 리스트 합치기\n",
    "\n",
    "n = int(input())\n",
    "a1 = list(map(int, input().split()))\n",
    "m = int(input())\n",
    "a2 = list(map(int, input().split()))\n",
    "\n",
    "cnt1 = cnt2 = 0\n",
    "a3 = []\n",
    "\n",
    "while cnt1 < n and cnt2 < m:\n",
    "  if a1[cnt1] <= a2[cnt2]:\n",
    "    a3.append(a1[cnt1])\n",
    "    cnt1 += 1\n",
    "  else:\n",
    "    a3.append(a2[cnt2])\n",
    "    cnt2 += 1\n",
    "\n",
    "if cnt1 < n:\n",
    "  a3 = a3 + a1[cnt1:]\n",
    "if cnt2 < n:\n",
    "  a3 = a3 + a2[cnt2:]\n",
    "\n",
    "for x in a3:\n",
    "  print(x, end=\" \")"
   ]
  },
  {
   "cell_type": "code",
   "execution_count": null,
   "metadata": {},
   "outputs": [],
   "source": [
    "# 수의 합\n",
    "\n",
    "\"\"\"\n",
    "메인 컨셥은 처음과 끝을 가리키는 인덱스를 욺직이는 방식으로 진행한다.\n",
    "total이 m 보다 작을 경우\n",
    "    rt(오른쪽인덱스)를 한칸 앞으로 움직이며 a[rt] 값을 total에 더하여 m 과 비교한다. \n",
    "total이 m 과 같을 경우\n",
    "    우리가 찾는 값이 나오면 count를 올려주고 lt(왼쪽인덱스)를 한칸 앞으로 움직이며 a[lt]값을 빼준다.\n",
    "total이 m 보다 클 경우\n",
    "    total의 값을 줄여주기위해 a[lt]를 total에서 빼주고 lt를 한칸 전진시킨다.\n",
    "\n",
    "while 문의 break 포인트는 rt 값이 n 보다 커질때이다.\n",
    "\"\"\"\n",
    "\n",
    "n, m = list(map(int, input().split()))\n",
    "a = list(map(int, input().split()))\n",
    "\n",
    "lt = 0\n",
    "rt = 1\n",
    "tot = a[0]\n",
    "cnt = 0\n",
    "\n",
    "while True:\n",
    "    if tot < m:\n",
    "        if rt < n:\n",
    "            tot += a[rt]\n",
    "            rt += 1\n",
    "        else:\n",
    "            break\n",
    "    elif tot == m:\n",
    "        cnt += 1\n",
    "        tot -= a[lt]\n",
    "        lt += 1\n",
    "    else:\n",
    "        tot -= a[lt]\n",
    "        lt += 1\n"
   ]
  },
  {
   "cell_type": "code",
   "execution_count": 3,
   "metadata": {},
   "outputs": [
    {
     "name": "stdout",
     "output_type": "stream",
     "text": [
      "155\n"
     ]
    }
   ],
   "source": [
    "# import sys\n",
    "# sys.stdin = open(\"./text.txt\", 'r')  여기서는 동작 안함\n",
    "\n",
    "n = int(input())\n",
    "a = [list(map(int, input().split())) for _ in range(n)]\n",
    "\n",
    "largest = -214700000\n",
    "for i in range(n):\n",
    "    sum1=sum2=0\n",
    "    for j in range(n):\n",
    "        sum1 += a[i][j]     # 행의 합\n",
    "        sum2 += a[j][i]     # 열의 합\n",
    "    if sum1 > largest:\n",
    "        largest = sum1\n",
    "    if sum2 > largest:\n",
    "        largest = sum2\n",
    "\n",
    "sum1=sum2=0\n",
    "for i in range(n):\n",
    "    sum1 += a[i][i]\n",
    "    sum2 += a[i][n - i - 1]\n",
    "    \n",
    "if sum1 > largest:\n",
    "    largest = sum1\n",
    "if sum2 > largest:\n",
    "    largest = sum2\n",
    "\n",
    "print(largest)"
   ]
  },
  {
   "cell_type": "code",
   "execution_count": 1,
   "metadata": {},
   "outputs": [
    {
     "name": "stdout",
     "output_type": "stream",
     "text": [
      "379\n"
     ]
    }
   ],
   "source": [
    "# 사과나무\n",
    "\n",
    "n = 5\n",
    "a = [\n",
    "    [10, 13, 10, 12, 15],\n",
    "    [12, 39, 30, 23, 11],\n",
    "    [11, 25, 50, 53, 15],\n",
    "    [19, 27, 29, 37, 27],\n",
    "    [19, 13, 30, 13, 19],\n",
    "]\n",
    "\n",
    "total = 0\n",
    "midValue = n // 2\n",
    "s = e = midValue\n",
    "\n",
    "for i in range(n):\n",
    "  for j in range(s, e + 1):\n",
    "    total += a[i][j]\n",
    "  if i < midValue:\n",
    "    s -= 1\n",
    "    e += 1\n",
    "  else:\n",
    "    s += 1\n",
    "    e -= 1\n",
    "\n",
    "print(total)"
   ]
  },
  {
   "cell_type": "code",
   "execution_count": 2,
   "metadata": {},
   "outputs": [
    {
     "name": "stdout",
     "output_type": "stream",
     "text": [
      "362\n"
     ]
    }
   ],
   "source": [
    "# 곳감(모래시계)\n",
    "\n",
    "n = 5\n",
    "a = [\n",
    "    [10, 13, 10, 12, 15],\n",
    "    [12, 39, 30, 23, 11],\n",
    "    [11, 25, 50, 53, 15],\n",
    "    [19, 27, 29, 37, 27],\n",
    "    [19, 13, 30, 13, 19],\n",
    "]\n",
    "m = 3\n",
    "\n",
    "for i in range(m):\n",
    "  h, t, k = map(int, input().split())\n",
    "  if t == 0:\n",
    "    for _ in range(k):\n",
    "      a[h-1].append(a[h-1].pop(0))\n",
    "  else:\n",
    "    for _ in range(k):\n",
    "      a[h-1].insert(0, a[h-1].pop())\n",
    "\n",
    "res = 0\n",
    "s = 0\n",
    "e = n - 1\n",
    "for i in range(n):\n",
    "  for j in range(s, e + 1):\n",
    "    res += a[i][j]\n",
    "  if i  < n // 2:\n",
    "    s += 1\n",
    "    e -= 1\n",
    "  else:\n",
    "    s -= 1\n",
    "    e += 1\n",
    "\n",
    "print(res)"
   ]
  },
  {
   "cell_type": "code",
   "execution_count": 2,
   "metadata": {},
   "outputs": [
    {
     "name": "stdout",
     "output_type": "stream",
     "text": [
      "10\n"
     ]
    }
   ],
   "source": [
    "# 봉우리\n",
    "# 시작 지점에서 상하좌우의 값이 모두 작으면 봉우리다. \n",
    "# 그냥 한 지점에서 상하좌우가 모두 작으면 봉우리인것\n",
    "\n",
    "# n = int(input())\n",
    "# a = [list(map(int, input().split())) for _ in range(n)]\n",
    "\n",
    " # all() 메서드를 잘 알아둬야 한다.\n",
    "\n",
    "n = 5\n",
    "a = [\n",
    "  [5, 3, 7, 2, 3],\n",
    "  [3, 7, 1, 6, 1],\n",
    "  [7, 2, 5, 3, 4],\n",
    "  [4, 3, 6, 4, 1],\n",
    "  [8, 7, 3, 5, 2]\n",
    "]\n",
    "\n",
    "dx = [-1, 1, 0, 0]\n",
    "dy = [0, 0, -1, 1]\n",
    "\n",
    "a.insert(0, [0]*n)\n",
    "a.append([0]*n)\n",
    "for x in a:\n",
    "  x.insert(0, 0)\n",
    "  x.append(0)\n",
    "\n",
    "cnt = 0\n",
    "for i in range(1, n + 1):\n",
    "  for j in range(1, n + 1):\n",
    "    if all(a[i][j] > a[i + dy[k]][j + dx[k]] for k in range(4)):   \n",
    "      cnt += 1\n",
    "\n",
    "print(cnt)"
   ]
  },
  {
   "cell_type": "code",
   "execution_count": 6,
   "metadata": {},
   "outputs": [
    {
     "name": "stdout",
     "output_type": "stream",
     "text": [
      "YES\n"
     ]
    }
   ],
   "source": [
    "# 스도쿠 검사\n",
    "\n",
    "# 문제풀이 컨셉\n",
    "#   1. 행과 열을 순차적으로 진행하며 1-9까지 모든 숫자가 있는지 확인\n",
    "#     1-1.  모든 행과 열의 합이 같다면 가로, 세로는 확인됨\n",
    "#   2. 문제는 9개의 구역 내에서 숫자가 잘 들어왔는지에 대한 확인이 필요\n",
    "#     2-1.  0-2, 3-6, 7-9 까지 행열을 순차적으로 돌려면 어떻게 해야할까\n",
    "#     2-2.  4중 for문을 만들어 큰틀의 그룹을 만들고 그 그룹내를 돌며 행열의 세개의 값이 쌓이도록 만듬\n",
    "\n",
    "a = [\n",
    "  [1, 4, 3, 6, 2, 8, 5, 7, 9],\n",
    "  [5, 7, 2, 1, 3, 9, 4, 6, 8],\n",
    "  [9, 8, 6, 7, 5, 4, 2, 3, 1],\n",
    "  [3, 9, 1, 5, 4, 2, 7, 8, 6],\n",
    "  [4, 6, 8, 9, 1, 7, 3, 5, 2],\n",
    "  [7, 2, 5, 8, 6, 3, 9, 1, 4],\n",
    "  [2, 3, 7, 4, 8, 1, 6, 9, 5],\n",
    "  [6, 1, 9, 2, 7, 5, 8, 4, 3],\n",
    "  [8, 5, 4, 3, 9, 6, 1, 2, 7]\n",
    "]\n",
    "\n",
    "# 리스트에서 중복된 값을 어떻게 찾는가\n",
    "def isValid():\n",
    "  # 가로, 세로\n",
    "  for i in range(9):\n",
    "    chk1 = [0]*9\n",
    "    chk2 = [0]*9\n",
    "    for j in range(9):\n",
    "      chk1[a[i][j] - 1] = 1\n",
    "      chk2[a[j][i] - 1] = 1\n",
    "    if sum(chk1) != 9 or sum(chk2) != 9:\n",
    "      return False\n",
    "    \n",
    "  # 그룹을 선택하고 해당하는 그룹의 값을 가져온다.\n",
    "  for i in range(3):          # x 축으로 그룹을 3개로 분리한다.\n",
    "    for j in range(3):        # y 축으로 그룹을 3개로 분리한다.\n",
    "      chk3 = [0]*9\n",
    "      for k in range(3):      # x와 y로 선택된 그룹하나의 y축\n",
    "        for s in range(3):    # x와 y로 선택된 그룹하나의 x축\n",
    "          chk3[a[i * 3 + k][j * 3 + s] - 1] = 1\n",
    "      if sum(chk3) != 9:\n",
    "        return False\n",
    "  return True\n",
    "\n",
    "if isValid():\n",
    "  print(\"YES\")\n",
    "else:\n",
    "  print(\"NO\")"
   ]
  },
  {
   "cell_type": "code",
   "execution_count": null,
   "metadata": {},
   "outputs": [],
   "source": [
    "# 격자판 회문수\n",
    "\n",
    "# arr = [list(map(int, input().split()))]\n",
    "arr = [\n",
    "    [2, 4, 1, 5, 3, 2, 6],\n",
    "    [3, 5, 1, 8, 7, 1, 7],\n",
    "    [8, 3, 2, 7, 1, 3, 8],\n",
    "    [6, 1, 2, 3, 2, 1, 1],\n",
    "    [1, 3, 1, 3, 5, 3, 2],\n",
    "    [1, 1, 2, 5, 6, 5, 2],\n",
    "    [1, 2, 2, 2, 2, 1, 5]\n",
    "]\n",
    "\n",
    "count = 0\n",
    "for i in range(3):\n",
    "    for j in range(7):\n",
    "        tmp = arr[j][i:i + 5]       # 슬라이스 기능을 이용하여 0부터 4까지의 리스트를 만들어준다.\n",
    "        if tmp == tmp[::-1]:        # 리스트를 거꾸로 만들어 두 리스트를 비교한다.\n",
    "            count += 1\n",
    "        for k in range(2):          # 5개의 원소를 가진 리스트이므로 2번째 까지만 비교하면 된다.\n",
    "            if arr[i + k][j] != arr[i + 5 - k - 1][j]:\n",
    "                break;\n",
    "        else:                       # for else 구분을 이용한다. for문이 정상적으로 끝난다면 else를 실행한다.\n",
    "            count += 1              "
   ]
  }
 ],
 "metadata": {
  "kernelspec": {
   "display_name": "Python 3",
   "language": "python",
   "name": "python3"
  },
  "language_info": {
   "codemirror_mode": {
    "name": "ipython",
    "version": 3
   },
   "file_extension": ".py",
   "mimetype": "text/x-python",
   "name": "python",
   "nbconvert_exporter": "python",
   "pygments_lexer": "ipython3",
   "version": "3.11.3"
  }
 },
 "nbformat": 4,
 "nbformat_minor": 2
}
