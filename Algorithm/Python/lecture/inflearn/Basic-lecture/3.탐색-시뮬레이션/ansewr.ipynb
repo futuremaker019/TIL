{
 "cells": [
  {
   "cell_type": "code",
   "execution_count": 1,
   "metadata": {},
   "outputs": [
    {
     "name": "stdout",
     "output_type": "stream",
     "text": [
      "#1 YES\n",
      "#2 NO\n",
      "#3 YES\n",
      "#4 NO\n",
      "#5 YES\n"
     ]
    }
   ],
   "source": [
    "# 회문검사\n",
    "\n",
    "n = int(input())\n",
    "for i in range(n):\n",
    "    s = input()\n",
    "    s = s.upper()\n",
    "    size = len(s)\n",
    "    for j in range(size // 2):\n",
    "        if s[j] != s[-1-j]:\n",
    "            print(\"#%d NO\" %(i + 1))\n",
    "            break\n",
    "    else:\n",
    "        print(\"#%d YES\" %(i + 1))"
   ]
  },
  {
   "cell_type": "code",
   "execution_count": 2,
   "metadata": {},
   "outputs": [
    {
     "name": "stdout",
     "output_type": "stream",
     "text": [
      "#1 YES\n",
      "#2 NO\n",
      "#3 YES\n",
      "#4 NO\n",
      "#5 YES\n"
     ]
    }
   ],
   "source": [
    "# 회문 검사2\n",
    "\n",
    "n = int(input())\n",
    "\n",
    "result = []\n",
    "for i in range(n):\n",
    "    value = input()\n",
    "    value = value.lower()\n",
    "    if value == value[::-1]:\n",
    "        print(\"#%d YES\" %(i + 1))\n",
    "    else:\n",
    "        print(\"#%d NO\" %(i + 1))        "
   ]
  },
  {
   "cell_type": "code",
   "execution_count": null,
   "metadata": {},
   "outputs": [],
   "source": [
    "# 숫자만 추출\n",
    "\n",
    "s = input()\n",
    "res = 0\n",
    "\n",
    "for x in s:\n",
    "    if x.isdecimal():\n",
    "        res = res * 10 + int(x)\n",
    "\n",
    "print(res)\n",
    "cnt = 0\n",
    "for i in range(1, res + 1):\n",
    "    if res % i == 0:\n",
    "        cnt += 1\n",
    "\n",
    "print(cnt)"
   ]
  },
  {
   "cell_type": "code",
   "execution_count": null,
   "metadata": {},
   "outputs": [],
   "source": [
    "# 카드 역배치\n",
    "\n",
    "a = list(range(21))\n",
    "\n",
    "for _ in range(10):\n",
    "  s, e = map(int, input().split())\n",
    "  for i in range((e - s + 1) // 2):           # swap 할 횟수를 구해준다.\n",
    "    a[s + i], a[e - i] = a[e - 1], a[s + i]   # 처음과 끝을 스왑함\n",
    "\n",
    "a.pop(0)  # 0을 지우기위해\n",
    "for x in a:\n",
    "  print(x, end=\" \")"
   ]
  },
  {
   "cell_type": "code",
   "execution_count": 1,
   "metadata": {},
   "outputs": [
    {
     "name": "stdout",
     "output_type": "stream",
     "text": [
      "[1, 2, 3, 3, 4, 6, 7, 9]\n"
     ]
    }
   ],
   "source": [
    "# 두 리스트 합치기\n",
    "\n",
    "n = int(input())\n",
    "a1 = list(map(int, input().split()))\n",
    "m = int(input())\n",
    "a2 = list(map(int, input().split()))\n",
    "\n",
    "cnt1 = cnt2 = 0\n",
    "a3 = []\n",
    "\n",
    "while cnt1 < n and cnt2 < m:\n",
    "  if a1[cnt1] <= a2[cnt2]:\n",
    "    a3.append(a1[cnt1])\n",
    "    cnt1 += 1\n",
    "  else:\n",
    "    a3.append(a2[cnt2])\n",
    "    cnt2 += 1\n",
    "\n",
    "if cnt1 < n:\n",
    "  a3 = a3 + a1[cnt1:]\n",
    "if cnt2 < n:\n",
    "  a3 = a3 + a2[cnt2:]\n",
    "\n",
    "for x in a3:\n",
    "  print(x, end=\" \")"
   ]
  }
 ],
 "metadata": {
  "kernelspec": {
   "display_name": "Python 3",
   "language": "python",
   "name": "python3"
  },
  "language_info": {
   "codemirror_mode": {
    "name": "ipython",
    "version": 3
   },
   "file_extension": ".py",
   "mimetype": "text/x-python",
   "name": "python",
   "nbconvert_exporter": "python",
   "pygments_lexer": "ipython3",
   "version": "3.9.2"
  }
 },
 "nbformat": 4,
 "nbformat_minor": 2
}
