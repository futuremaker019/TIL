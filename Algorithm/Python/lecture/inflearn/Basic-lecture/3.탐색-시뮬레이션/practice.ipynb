{
 "cells": [
  {
   "cell_type": "code",
   "execution_count": 23,
   "metadata": {},
   "outputs": [
    {
     "name": "stdout",
     "output_type": "stream",
     "text": [
      "#1 YES\n",
      "#2 NO\n",
      "#3 YES\n",
      "#4 NO\n",
      "#5 NO\n"
     ]
    },
    {
     "data": {
      "text/plain": [
       "'\\n5\\nlevel\\nmoon\\nabcba\\nsoon\\ngooG\\n'"
      ]
     },
     "execution_count": 23,
     "metadata": {},
     "output_type": "execute_result"
    }
   ],
   "source": [
    "# 회문 문자열 검사 (palimdrome)\n",
    "\n",
    "n = int(input())\n",
    "\n",
    "result = []\n",
    "for i in range(n):\n",
    "    value = input()\n",
    "    value = value.lower()\n",
    "    check = True\n",
    "    for j in range(len(value) // 2):\n",
    "        if value[j] != value[len(value) - j - 1]:\n",
    "            check = False\n",
    "        \n",
    "    if check:\n",
    "        result.append('#{i} YES'.format(i = i + 1))\n",
    "    else:\n",
    "        result.append('#{i} NO'.format(i = i + 1))\n",
    "\n",
    "for i in result:\n",
    "    print(i)\n",
    "\n",
    "\"\"\"\n",
    "5\n",
    "level\n",
    "moon\n",
    "abcba\n",
    "soon\n",
    "gooG\n",
    "\"\"\""
   ]
  },
  {
   "cell_type": "code",
   "execution_count": 4,
   "metadata": {},
   "outputs": [
    {
     "name": "stdout",
     "output_type": "stream",
     "text": [
      "28\n",
      "5\n"
     ]
    }
   ],
   "source": [
    "# 숫자만 추출\n",
    "\n",
    "s = input()\n",
    "n = \"\"\n",
    "for i in s:\n",
    "    if i.isdigit():\n",
    "        n += i\n",
    "\n",
    "# 약수를 구하라\n",
    "n = int(n)\n",
    "cnt = 0\n",
    "for i in range(1, n + 1):\n",
    "    if n % i == 0:\n",
    "        cnt += 1\n",
    "\n",
    "print(n)\n",
    "print(cnt)\n",
    "\n",
    "# t0e0a1c2h0er\n"
   ]
  },
  {
   "cell_type": "code",
   "execution_count": 7,
   "metadata": {},
   "outputs": [
    {
     "name": "stdout",
     "output_type": "stream",
     "text": [
      "1 2 3 4 10 9 8 7 13 12 11 5 6 14 15 16 17 18 19 20 "
     ]
    }
   ],
   "source": [
    "# 카드 역배치\n",
    "\n",
    "a = [i + 1 for i in range(20)]\n",
    "\n",
    "# expend , +, \n",
    "# 구간을 선택하는건 어떻게 만들까\n",
    "# 구간을 자르고 역순으로 위치시키고 (a[::-1]) 다시 앞, 뒤 리스트를 이어주는 메서드를 만들어야 할듯\n",
    "\n",
    "def reverse(arr, start, end):\n",
    "  a1 = arr[0:start-1]\n",
    "  a2 = arr[start-1:end]\n",
    "  a2 = a2[::-1]\n",
    "  a3 = arr[end:len(arr)]\n",
    "\n",
    "  return a1 + a2 + a3\n",
    "\n",
    "for _ in range(10): \n",
    "  start, end = list(map(int, input().split()))\n",
    "  a = reverse(a, start, end)\n",
    "\n",
    "for i in a:\n",
    "  print(i, end=\" \")\n"
   ]
  },
  {
   "cell_type": "code",
   "execution_count": 8,
   "metadata": {},
   "outputs": [
    {
     "name": "stdout",
     "output_type": "stream",
     "text": [
      "1 2 3 4 10 9 8 7 13 12 11 5 6 14 15 16 17 18 19 20 "
     ]
    }
   ],
   "source": [
    "# 카드 역배치 (다른 풀이)\n",
    "\n",
    "num_list = [x+1 for x in range(20)]\n",
    "#print(num_list)\n",
    "\n",
    "for i in range(10):\n",
    "    gugan = list(map(int, input().split()))\n",
    "    #print(gugan)\n",
    "    # 해당하는 구간을 리버스하고 그 구간을 지정하여 입력하면 들어간다;;\n",
    "    # ex) a[5:10] = reversed(a[5:10])  5부터 9까지 리버스하고 기존 리스트에 다시 등록\n",
    "    num_list[gugan[0]-1:gugan[1]] = reversed(num_list[gugan[0]-1:gugan[1]])   \n",
    "\n",
    "\n",
    "\n",
    "for i in num_list:\n",
    "    print(i, end = ' ')"
   ]
  },
  {
   "cell_type": "code",
   "execution_count": 26,
   "metadata": {},
   "outputs": [
    {
     "name": "stdout",
     "output_type": "stream",
     "text": [
      "[1, 3, 5, 2, 3, 6, 7, 9]\n",
      "[1, 2, 3]\n"
     ]
    }
   ],
   "source": [
    "# 두 리스트 합치기\n",
    "\n",
    "n = int(input())\n",
    "a1 = list(map(int, input().split()))\n",
    "\n",
    "m = int(input())\n",
    "a2 = list(map(int, input().split()))\n",
    "\n",
    "a1 = [1, 3, 5]\n",
    "a2 = [2, 3, 6, 7, 9]\n",
    "\n",
    "for i in a2:\n",
    "  a1.append(i)\n",
    "\n",
    "print(a1)\n",
    "\n",
    "cnt1 = 0\n",
    "cnt2 = 0\n",
    "\n",
    "a3 = []\n",
    "v = 0\n",
    "if (n - m) > 0:\n",
    "  v = m\n",
    "else:\n",
    "  v = n\n",
    "\n",
    "\n",
    "for i in range(v):\n",
    "  if a1[cnt1] > a2[cnt2]:\n",
    "    a3.append(a2[cnt2])\n",
    "    cnt2 += 1\n",
    "  else:\n",
    "    a3.append(a1[cnt1])\n",
    "    cnt1 += 1\n",
    "\n",
    "\n",
    "if cnt1 < n:\n",
    "  a3 = a3 + a1[cnt1:]\n",
    "if cnt2 < m:\n",
    "  a3 = a3 + a2[cnt2:]\n",
    "\n",
    "print(a3)\n"
   ]
  },
  {
   "cell_type": "code",
   "execution_count": null,
   "metadata": {},
   "outputs": [],
   "source": [
    "# 수들의 합\n",
    "\n",
    "# n, m = list(map(int, input().split()))\n",
    "# a = list(map(int, input().split()))\n",
    "\n",
    "# cnt = 0\n",
    "# for i in range(n):\n",
    "#   for j in range(i + 1, n + 1):     # 시간 초과로 통과 못함\n",
    "#     if sum(a[i:j]) == m:\n",
    "#       cnt += 1\n",
    "\n",
    "n = 8\n",
    "m = 3\n",
    "a = [1, 2, 1, 3, 1, 1, 1, 2]\n",
    "\n",
    "\n"
   ]
  },
  {
   "cell_type": "code",
   "execution_count": 14,
   "metadata": {},
   "outputs": [
    {
     "name": "stdout",
     "output_type": "stream",
     "text": [
      "155\n"
     ]
    }
   ],
   "source": [
    "# 격자판 최대합\n",
    "\n",
    "n = int(input())\n",
    "\n",
    "# 2차원 배열 만들기\n",
    "a = [list(map(int, input().split())) for _ in range(n)]\n",
    "# a = []\n",
    "# for i in range(n):\n",
    "#     a.append(list(map(int, input().split())))\n",
    "\n",
    "# n = 3\n",
    "# a = [\n",
    "#     [10, 13, 10], \n",
    "#     [12, 39, 30], \n",
    "#     [11, 25, 50]\n",
    "# ]\n",
    "\n",
    "# 접근\n",
    "# 가로 세로는 더하면서 더한값이 크면 교체해주는 작업필요\n",
    "# 가로에서 가장 큰 값, 세로에서 가장 큰 값, 대각선에서 가장 큰값\n",
    "# 대각선은 (0, 0), (1, 1), (2, 2) ... (n, n)과 (n, 0), (n - 1, 1) ... (0, n)\n",
    "\n",
    "\n",
    "def totalSum(type, arrayLen, index):\n",
    "    totalValue = 0\n",
    "    if type == 'x':\n",
    "        for i in range(arrayLen):\n",
    "            totalValue += a[index][i]\n",
    "    if type == 'y':\n",
    "        for i in range(arrayLen):\n",
    "            totalValue += a[i][index]\n",
    "    if type == 'du':    # 대각선 위에서 아래로\n",
    "        for i in range(arrayLen):\n",
    "            totalValue += a[i][i]\n",
    "    if type == 'dd':    # 대각선 아래에서 위로\n",
    "        for i in range(arrayLen):\n",
    "            totalValue += a[arrayLen - i - 1][i]\n",
    "    return totalValue\n",
    "\n",
    "maxRowValue = 0\n",
    "for sa in a:\n",
    "    # 가로 더하기\n",
    "    value = sum(sa)\n",
    "    if (maxRowValue < value):\n",
    "        maxRowValue = value\n",
    "    \n",
    "maxColumnValue = 0\n",
    "for i in range(n):\n",
    "    # 세로 더하기\n",
    "    eachTotalValue = totalSum(\"y\", n, i)\n",
    "    if (maxColumnValue < eachTotalValue):\n",
    "        maxColumnValue = eachTotalValue\n",
    "    \n",
    "\n",
    "maxDiagonalValue = 0\n",
    "for sa in a:\n",
    "    ddValue = totalSum(\"dd\", n, 0)\n",
    "    duValue = totalSum(\"du\", n, 0)\n",
    "    if ddValue > duValue :\n",
    "        maxDiagonalValue = ddValue\n",
    "    else:\n",
    "        maxDiagonalValue = duValue\n",
    "    # 대각선 더하기\n",
    "\n",
    "result = [maxRowValue, maxColumnValue, maxDiagonalValue]\n",
    "print(max(result))\n",
    "\n",
    "# print(maxRowValue, maxColumnValue, maxDiagonalValue)"
   ]
  },
  {
   "cell_type": "code",
   "execution_count": null,
   "metadata": {},
   "outputs": [],
   "source": [
    "# 사과나무(다이아몬드) 다시 풀어보자...\n",
    "# n = int(input())\n",
    "# a = [list(map(int, input().split())) for _ in range(n)]\n",
    "\n",
    "n = 5\n",
    "a = [\n",
    "    [10, 13, 10, 12, 15],\n",
    "    [12, 39, 30, 23, 11],\n",
    "    [11, 25, 50, 53, 15],\n",
    "    [19, 27, 29, 37, 27],\n",
    "    [19, 13, 30, 13, 19],\n",
    "]\n",
    "\n",
    "# 위에서부터 홀수의 중간값이 나올때까지 더하고, 아래서부터 홀수의 중간값을 제외한 값까지 더하면 될거 같다.\n",
    "# print(midValue)\n",
    "total = 0\n",
    "s = e = n // 2\n",
    "# for i in range(n):\n",
    "    \n",
    "\n",
    "\n",
    "#                     n[0][2]\n",
    "#           n[1][1] + n[1][2] + n[1][3]\n",
    "# n[2][0] + n[2][1] + n[2][2] + n[2][3] + n[2][4]"
   ]
  },
  {
   "cell_type": "code",
   "execution_count": 19,
   "metadata": {},
   "outputs": [
    {
     "name": "stdout",
     "output_type": "stream",
     "text": [
      "362\n"
     ]
    }
   ],
   "source": [
    "# 곳감(모래시계)\n",
    "\n",
    "# n = int(input())\n",
    "# a = [list(map(int, input().split())) for _ in range(n)]\n",
    "# m = int(input())\n",
    "\n",
    "n = 5\n",
    "a = [\n",
    "    [10, 13, 10, 12, 15],\n",
    "    [12, 39, 30, 23, 11],\n",
    "    [11, 25, 50, 53, 15],\n",
    "    [19, 27, 29, 37, 27],\n",
    "    [19, 13, 30, 13, 19],\n",
    "]\n",
    "m = 3\n",
    "\n",
    "for _ in range(m):\n",
    "  justifyArray = list(map(int, input().split()))\n",
    "  targetArray = a[justifyArray[0] - 1]\n",
    "  for j in range(justifyArray[2]):\n",
    "    if justifyArray[1] == 0:\n",
    "      targetArray.append(targetArray.pop(0))\n",
    "    elif justifyArray[1] == 1:\n",
    "      targetArray.insert(0, targetArray.pop())\n",
    "\n",
    "total = 0\n",
    "s = 0\n",
    "e = n\n",
    "for i in range(n):\n",
    "  for j in range(s, e):\n",
    "    total += a[i][j]\n",
    "  if i < n // 2:\n",
    "    s += 1\n",
    "    e -= 1\n",
    "  else:\n",
    "    s -= 1\n",
    "    e += 1\n",
    "\n",
    "print(total)\n",
    "\n",
    "\n"
   ]
  }
 ],
 "metadata": {
  "kernelspec": {
   "display_name": "Python 3",
   "language": "python",
   "name": "python3"
  },
  "language_info": {
   "codemirror_mode": {
    "name": "ipython",
    "version": 3
   },
   "file_extension": ".py",
   "mimetype": "text/x-python",
   "name": "python",
   "nbconvert_exporter": "python",
   "pygments_lexer": "ipython3",
   "version": "3.9.2"
  }
 },
 "nbformat": 4,
 "nbformat_minor": 2
}
