{
 "cells": [
  {
   "cell_type": "code",
   "execution_count": 9,
   "metadata": {},
   "outputs": [
    {
     "name": "stdout",
     "output_type": "stream",
     "text": [
      "# 1  YES\n"
     ]
    }
   ],
   "source": [
    "# 회문 문자열 검사\n",
    "\"\"\"\n",
    "입력\n",
    "5\n",
    "level\n",
    "moon\n",
    "abcba\n",
    "soon\n",
    "gooG\n",
    "\n",
    "츨략\n",
    "#1 YES\n",
    "#2 NO\n",
    "#3 YES\n",
    "#4 NO\n",
    "#5 YES\n",
    "\"\"\"\n",
    "\n",
    "n = int(input())\n",
    "\n",
    "for i in range(n):\n",
    "    value = input()\n",
    "    listed = list(value)\n",
    "    if listed == listed[::-1]:\n",
    "        print(\"#\", i + 1, \" YES\")\n",
    "    else:\n",
    "        print(\"#\", i + 1, \" NO\")\n"
   ]
  },
  {
   "cell_type": "code",
   "execution_count": 20,
   "metadata": {},
   "outputs": [
    {
     "name": "stdout",
     "output_type": "stream",
     "text": [
      "28\n",
      "6\n"
     ]
    }
   ],
   "source": [
    "# 숫자만 추출후 약수 구하기\n",
    "\"\"\"\n",
    "주어진 문자열에서 숫자를 찾고 숫자의 약수를 구한다.\n",
    "\n",
    "입력 \n",
    "g0en2Ts8eSoft\n",
    "\n",
    "출력\n",
    "28\n",
    "6\n",
    "\"\"\"\n",
    "\n",
    "values = input()\n",
    "num = 0\n",
    "for value in values:\n",
    "    if value.isdigit():\n",
    "        # num += value\n",
    "        num = num * 10 + int(value)\n",
    "\n",
    "# 약수를 구하라\n",
    "# num = int(num)\n",
    "print(num)\n",
    "cnt = 1\n",
    "for i in range(2, num + 1):\n",
    "    if num % i == 0:\n",
    "        cnt += 1\n",
    "    \n",
    "print(cnt)\n"
   ]
  },
  {
   "cell_type": "code",
   "execution_count": null,
   "metadata": {},
   "outputs": [],
   "source": [
    "# 카드 역배치"
   ]
  },
  {
   "cell_type": "code",
   "execution_count": null,
   "metadata": {},
   "outputs": [],
   "source": [
    "# 두 리스트 합치기"
   ]
  },
  {
   "cell_type": "code",
   "execution_count": null,
   "metadata": {},
   "outputs": [],
   "source": [
    "# 수들의 합"
   ]
  },
  {
   "cell_type": "code",
   "execution_count": null,
   "metadata": {},
   "outputs": [],
   "source": [
    "# 격자팜 최대합"
   ]
  },
  {
   "cell_type": "code",
   "execution_count": null,
   "metadata": {},
   "outputs": [],
   "source": [
    "# 사과나무(다이아몬드)"
   ]
  },
  {
   "cell_type": "code",
   "execution_count": null,
   "metadata": {},
   "outputs": [],
   "source": [
    "# 곳감(모래시계)"
   ]
  },
  {
   "cell_type": "code",
   "execution_count": null,
   "metadata": {},
   "outputs": [],
   "source": [
    "# 봉우리"
   ]
  },
  {
   "cell_type": "code",
   "execution_count": null,
   "metadata": {},
   "outputs": [],
   "source": [
    "# 스도쿠 검사"
   ]
  },
  {
   "cell_type": "code",
   "execution_count": null,
   "metadata": {},
   "outputs": [],
   "source": [
    "# 격자판 회문수"
   ]
  }
 ],
 "metadata": {
  "kernelspec": {
   "display_name": "Python 3",
   "language": "python",
   "name": "python3"
  },
  "language_info": {
   "codemirror_mode": {
    "name": "ipython",
    "version": 3
   },
   "file_extension": ".py",
   "mimetype": "text/x-python",
   "name": "python",
   "nbconvert_exporter": "python",
   "pygments_lexer": "ipython3",
   "version": "3.11.3"
  }
 },
 "nbformat": 4,
 "nbformat_minor": 2
}
