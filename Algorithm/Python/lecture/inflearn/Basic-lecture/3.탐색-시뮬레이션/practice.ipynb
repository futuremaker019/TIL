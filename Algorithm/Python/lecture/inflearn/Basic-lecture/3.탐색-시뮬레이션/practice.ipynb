{
 "cells": [
  {
   "cell_type": "code",
   "execution_count": 23,
   "metadata": {},
   "outputs": [
    {
     "name": "stdout",
     "output_type": "stream",
     "text": [
      "#1 YES\n",
      "#2 NO\n",
      "#3 YES\n",
      "#4 NO\n",
      "#5 NO\n"
     ]
    },
    {
     "data": {
      "text/plain": [
       "'\\n5\\nlevel\\nmoon\\nabcba\\nsoon\\ngooG\\n'"
      ]
     },
     "execution_count": 23,
     "metadata": {},
     "output_type": "execute_result"
    }
   ],
   "source": [
    "# 회문 문자열 검사 (palimdrome)\n",
    "\n",
    "n = int(input())\n",
    "\n",
    "result = []\n",
    "for i in range(n):\n",
    "    value = input()\n",
    "    value = value.lower()\n",
    "    check = True\n",
    "    for j in range(len(value) // 2):\n",
    "        if value[j] != value[len(value) - j - 1]:\n",
    "            check = False\n",
    "        \n",
    "    if check:\n",
    "        result.append('#{i} YES'.format(i = i + 1))\n",
    "    else:\n",
    "        result.append('#{i} NO'.format(i = i + 1))\n",
    "\n",
    "for i in result:\n",
    "    print(i)\n",
    "\n",
    "\"\"\"\n",
    "5\n",
    "level\n",
    "moon\n",
    "abcba\n",
    "soon\n",
    "gooG\n",
    "\"\"\""
   ]
  },
  {
   "cell_type": "code",
   "execution_count": 4,
   "metadata": {},
   "outputs": [
    {
     "name": "stdout",
     "output_type": "stream",
     "text": [
      "28\n",
      "5\n"
     ]
    }
   ],
   "source": [
    "# 숫자만 추출\n",
    "\n",
    "s = input()\n",
    "n = \"\"\n",
    "for i in s:\n",
    "    if i.isdigit():\n",
    "        n += i\n",
    "\n",
    "# 약수를 구하라\n",
    "n = int(n)\n",
    "cnt = 0\n",
    "for i in range(1, n + 1):\n",
    "    if n % i == 0:\n",
    "        cnt += 1\n",
    "\n",
    "print(n)\n",
    "print(cnt)\n",
    "\n",
    "# t0e0a1c2h0er\n"
   ]
  },
  {
   "cell_type": "code",
   "execution_count": 1,
   "metadata": {},
   "outputs": [
    {
     "name": "stdout",
     "output_type": "stream",
     "text": [
      "[1, 2, 3, 4, 5, 6, 7, 8, 9, 10, 11, 12, 13, 14, 15, 16, 17, 18, 19, 20]\n"
     ]
    }
   ],
   "source": [
    "# 카드 역배치\n",
    "\n",
    "a = [i + 1 for i in range(20)]\n",
    "\n",
    "print(a)\n",
    "\n",
    "# expend , +, \n",
    "# 구간을 선택하는건 어떻게 만들까\n",
    "# 구간을 자르고 역순으로 위치시키고 (a[::-1]) 다시 앞, 뒤 리스트를 이어주는 메서드를 만들어야 할듯"
   ]
  }
 ],
 "metadata": {
  "kernelspec": {
   "display_name": "Python 3",
   "language": "python",
   "name": "python3"
  },
  "language_info": {
   "codemirror_mode": {
    "name": "ipython",
    "version": 3
   },
   "file_extension": ".py",
   "mimetype": "text/x-python",
   "name": "python",
   "nbconvert_exporter": "python",
   "pygments_lexer": "ipython3",
   "version": "3.9.1"
  }
 },
 "nbformat": 4,
 "nbformat_minor": 2
}
