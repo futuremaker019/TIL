{
 "cells": [
  {
   "cell_type": "code",
   "execution_count": 21,
   "metadata": {},
   "outputs": [
    {
     "name": "stdout",
     "output_type": "stream",
     "text": [
      "1 1  \n",
      "2 2  \n",
      "3 3  \n",
      "5 4  \n",
      "6 5  \n"
     ]
    }
   ],
   "source": [
    "# n, m = list(map(int, input().split())) # 가로 세로를 만들기위해 사용한다.\n",
    "# n = input()  # 세로 값을 받는다. 즉, 리스트안에 몇개의 리스트를 넣을것인지 판단한다.\n",
    "# array = []\n",
    "# for i in range(int(n)):\n",
    "#   array.append(list(map(int, input().split())))\n",
    "\n",
    "arr = [\n",
    "    [],\n",
    "    [2, 5],\n",
    "    [1, 3, 5],\n",
    "    [2],\n",
    "    [7],\n",
    "    [1, 2, 6],\n",
    "    [5],\n",
    "    [4]\n",
    "]\n",
    "\n",
    "visited = [False] * 8\n",
    "count = 0\n",
    "\n",
    "def dfs(graph, v, visited):\n",
    "  visited[v] = True\n",
    "  global count\n",
    "  count += 1\n",
    "  print(v, count, ' ')\n",
    "\n",
    "  for i in graph[v]:\n",
    "    if not visited[i]:\n",
    "      dfs(graph, i, visited)\n",
    "\n",
    "dfs(arr, 1, visited)\n",
    "\n"
   ]
  },
  {
   "cell_type": "code",
   "execution_count": null,
   "metadata": {},
   "outputs": [],
   "source": [
    "arr = [\n",
    "    [],\n",
    "    [2, 8, 3],\n",
    "    \n",
    "]"
   ]
  }
 ],
 "metadata": {
  "kernelspec": {
   "display_name": "Python 3",
   "language": "python",
   "name": "python3"
  },
  "language_info": {
   "codemirror_mode": {
    "name": "ipython",
    "version": 3
   },
   "file_extension": ".py",
   "mimetype": "text/x-python",
   "name": "python",
   "nbconvert_exporter": "python",
   "pygments_lexer": "ipython3",
   "version": "3.9.2"
  },
  "orig_nbformat": 4
 },
 "nbformat": 4,
 "nbformat_minor": 2
}
